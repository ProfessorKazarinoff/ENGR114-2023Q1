{
 "cells": [
  {
   "cell_type": "markdown",
   "id": "a449d955",
   "metadata": {},
   "source": [
    "# Week 4 Notes"
   ]
  },
  {
   "cell_type": "markdown",
   "id": "70d57bb7",
   "metadata": {},
   "source": [
    "## Python f-strings"
   ]
  },
  {
   "cell_type": "code",
   "execution_count": null,
   "id": "a9034935",
   "metadata": {},
   "outputs": [],
   "source": []
  },
  {
   "cell_type": "code",
   "execution_count": null,
   "id": "c3d4a896",
   "metadata": {},
   "outputs": [],
   "source": []
  },
  {
   "cell_type": "markdown",
   "id": "a0e4864a",
   "metadata": {},
   "source": [
    "## Review of Indexing, Slicing, Masking arrays"
   ]
  },
  {
   "cell_type": "code",
   "execution_count": null,
   "id": "a6c957b9",
   "metadata": {},
   "outputs": [],
   "source": []
  },
  {
   "cell_type": "code",
   "execution_count": null,
   "id": "b03145c2",
   "metadata": {},
   "outputs": [],
   "source": []
  },
  {
   "cell_type": "markdown",
   "id": "dca1aaec",
   "metadata": {},
   "source": [
    "## Combining boolean masks"
   ]
  },
  {
   "cell_type": "code",
   "execution_count": null,
   "id": "35f33d04",
   "metadata": {},
   "outputs": [],
   "source": []
  },
  {
   "cell_type": "code",
   "execution_count": null,
   "id": "b62bf70f",
   "metadata": {},
   "outputs": [],
   "source": []
  },
  {
   "cell_type": "code",
   "execution_count": null,
   "id": "16998e96",
   "metadata": {},
   "outputs": [],
   "source": []
  },
  {
   "cell_type": "markdown",
   "id": "eddea71b",
   "metadata": {},
   "source": [
    "## Plotting with Matplotlib\n",
    "\n",
    "MatplotLib is not a Python standard library function. It has to be installed as it is an external package.\n",
    "\n",
    "MatplotLib is included in the Anaconda distribution of Python.\n",
    "\n",
    "MatplotLib is used for visualization, mainly plotting graphs of data.\n",
    "\n",
    "Site for matplotlib documentation is matplotlib.org\n",
    "\n",
    "Check Examples tab for some matplotlib examples wth corresponding code\n",
    "\n",
    "To get all attributes and methods for a given function\n",
    "dir(objectname) or objectname.[tab] within matplotlib\n",
    "\n",
    "Note: We will use ax.plot and not plt.plot throughout the course"
   ]
  },
  {
   "cell_type": "code",
   "execution_count": null,
   "id": "ffeed2f1",
   "metadata": {},
   "outputs": [],
   "source": []
  },
  {
   "cell_type": "markdown",
   "id": "f249906f",
   "metadata": {},
   "source": []
  },
  {
   "cell_type": "code",
   "execution_count": null,
   "id": "3fb2ac99",
   "metadata": {},
   "outputs": [],
   "source": []
  },
  {
   "cell_type": "code",
   "execution_count": null,
   "id": "5ebc808a",
   "metadata": {},
   "outputs": [],
   "source": []
  },
  {
   "cell_type": "markdown",
   "id": "08dd3d77",
   "metadata": {},
   "source": [
    "# Create a line plot"
   ]
  },
  {
   "cell_type": "code",
   "execution_count": null,
   "id": "c4e1dc6a",
   "metadata": {},
   "outputs": [],
   "source": []
  },
  {
   "cell_type": "markdown",
   "id": "bdeb00fd",
   "metadata": {},
   "source": [
    "## Create a line plot of x,y points"
   ]
  },
  {
   "cell_type": "code",
   "execution_count": null,
   "id": "6a5ad7bc",
   "metadata": {},
   "outputs": [],
   "source": []
  },
  {
   "cell_type": "markdown",
   "id": "697eb6e3",
   "metadata": {},
   "source": [
    "## Build a line plot with a few customizations\n",
    "\n",
    "title\n",
    "x-axis label\n",
    "y-axis label\n",
    "red line"
   ]
  },
  {
   "cell_type": "code",
   "execution_count": null,
   "id": "78567c99",
   "metadata": {},
   "outputs": [],
   "source": []
  },
  {
   "cell_type": "markdown",
   "id": "c0648f5c",
   "metadata": {},
   "source": [
    "## Create a line plot with two lines, a legend and save it\n",
    "\n",
    "sine and cosine functions, sine red and cos blue\n",
    "x-axis label and y-axis label\n",
    "title\n",
    "legend\n",
    "save the plot"
   ]
  },
  {
   "cell_type": "code",
   "execution_count": null,
   "id": "f9f6e7d3",
   "metadata": {},
   "outputs": [],
   "source": []
  },
  {
   "cell_type": "markdown",
   "id": "bc58eab4",
   "metadata": {},
   "source": [
    "## Create a plot sin, cos , tan and limit the range of the axes"
   ]
  },
  {
   "cell_type": "code",
   "execution_count": null,
   "id": "59307c81",
   "metadata": {},
   "outputs": [],
   "source": []
  },
  {
   "cell_type": "markdown",
   "id": "64ae6fcf",
   "metadata": {},
   "source": [
    "# Create bar chart with ax.bar\n",
    "3 commutes less than 20 mins\n",
    "11 commutes between 20 and 40 mins\n",
    "6 commutes greater than 20 min"
   ]
  },
  {
   "cell_type": "code",
   "execution_count": null,
   "id": "0f0373ed",
   "metadata": {},
   "outputs": [],
   "source": []
  },
  {
   "cell_type": "markdown",
   "id": "919ca949",
   "metadata": {},
   "source": [
    "## Create a histogram with ax.hist\n",
    "build a histogram plot of psudo-random numbers with a normal distribution\n",
    "label the x-axis with 'bin range'\n",
    "label the y-axis with 'frequency'\n",
    "title the plot 'A Histogram'"
   ]
  },
  {
   "cell_type": "code",
   "execution_count": null,
   "id": "550b0ec7",
   "metadata": {},
   "outputs": [],
   "source": []
  },
  {
   "cell_type": "markdown",
   "id": "60581524",
   "metadata": {},
   "source": [
    "## Create a scatter plot with ax.scatter\n",
    "build a scatter plot of two arrays of semi-focused random numbers\n",
    "title it as 'A scatter plot of two semi-focused arrays of random numbers"
   ]
  },
  {
   "cell_type": "code",
   "execution_count": null,
   "id": "ed317d08",
   "metadata": {},
   "outputs": [],
   "source": []
  },
  {
   "cell_type": "markdown",
   "id": "4c9c7ecd",
   "metadata": {},
   "source": [
    "## Plotting YY plots and SubPlots¶\n",
    "yy plots\n",
    "A y-y plot is a type of plot that has two different y-axes and each y-axis can have a different scale.\n",
    "y-y plots allow you to plot two different data sets that have vastly different ranges.\n",
    "Each data set on a y-y plot shares the same x-axis and the same x values."
   ]
  },
  {
   "cell_type": "code",
   "execution_count": null,
   "id": "298c026c",
   "metadata": {},
   "outputs": [],
   "source": []
  },
  {
   "cell_type": "markdown",
   "id": "39a31dad",
   "metadata": {},
   "source": [
    "## Build subplots from an external data file"
   ]
  },
  {
   "cell_type": "code",
   "execution_count": null,
   "id": "151efee9",
   "metadata": {},
   "outputs": [],
   "source": []
  },
  {
   "cell_type": "code",
   "execution_count": null,
   "id": "9cd8fc08",
   "metadata": {},
   "outputs": [],
   "source": []
  },
  {
   "cell_type": "markdown",
   "id": "9b3b6db7",
   "metadata": {},
   "source": []
  }
 ],
 "metadata": {
  "kernelspec": {
   "display_name": "Python 3 (ipykernel)",
   "language": "python",
   "name": "python3"
  },
  "language_info": {
   "codemirror_mode": {
    "name": "ipython",
    "version": 3
   },
   "file_extension": ".py",
   "mimetype": "text/x-python",
   "name": "python",
   "nbconvert_exporter": "python",
   "pygments_lexer": "ipython3",
   "version": "3.9.7"
  }
 },
 "nbformat": 4,
 "nbformat_minor": 5
}
