{
 "cells": [
  {
   "cell_type": "markdown",
   "id": "a449d955",
   "metadata": {},
   "source": [
    "# Week 4 Notes"
   ]
  },
  {
   "cell_type": "markdown",
   "id": "70d57bb7",
   "metadata": {},
   "source": [
    "## Python f-strings\n",
    "\n",
    "A python f-string is a particular type of string which can contain variables or values used in other parts of your code.\n",
    "\n",
    "f-strings are created by adding a ```f``` before the quoation marks when defining a string"
   ]
  },
  {
   "cell_type": "code",
   "execution_count": 1,
   "id": "a9034935",
   "metadata": {},
   "outputs": [],
   "source": [
    "n = \"Gabby\"   # a regular string"
   ]
  },
  {
   "cell_type": "code",
   "execution_count": 2,
   "id": "c3d4a896",
   "metadata": {},
   "outputs": [
    {
     "name": "stdout",
     "output_type": "stream",
     "text": [
      "Your name is Gabby\n"
     ]
    }
   ],
   "source": [
    "b = f\"Your name is {n}\" # an f-string\n",
    "print(b)"
   ]
  },
  {
   "cell_type": "code",
   "execution_count": 3,
   "id": "7a42fbc0",
   "metadata": {},
   "outputs": [
    {
     "name": "stdout",
     "output_type": "stream",
     "text": [
      "Your name is {n}\n"
     ]
    }
   ],
   "source": [
    "c = \"Your name is {n}\" # a regular string\n",
    "print(c)"
   ]
  },
  {
   "cell_type": "code",
   "execution_count": 4,
   "id": "144d529f",
   "metadata": {},
   "outputs": [
    {
     "name": "stdout",
     "output_type": "stream",
     "text": [
      "the first variable is 5, the second variable is 2, the third variable is 1\n"
     ]
    }
   ],
   "source": [
    "d = 5\n",
    "f = 2\n",
    "g = 1\n",
    "print(f\"the first variable is {d}, the second variable is {f}, the third variable is {g}\")"
   ]
  },
  {
   "cell_type": "markdown",
   "id": "a0e4864a",
   "metadata": {},
   "source": [
    "## Review of Indexing, Slicing, Masking arrays"
   ]
  },
  {
   "cell_type": "code",
   "execution_count": 5,
   "id": "a6c957b9",
   "metadata": {},
   "outputs": [],
   "source": [
    "import numpy as np"
   ]
  },
  {
   "cell_type": "code",
   "execution_count": 6,
   "id": "b03145c2",
   "metadata": {},
   "outputs": [
    {
     "name": "stdout",
     "output_type": "stream",
     "text": [
      "[-3 -2 -1  0  1  2]\n"
     ]
    }
   ],
   "source": [
    "a = np.arange(-3,3,1)\n",
    "print(a)"
   ]
  },
  {
   "cell_type": "code",
   "execution_count": 7,
   "id": "29fcdc65",
   "metadata": {},
   "outputs": [
    {
     "data": {
      "text/plain": [
       "-2"
      ]
     },
     "execution_count": 7,
     "metadata": {},
     "output_type": "execute_result"
    }
   ],
   "source": [
    "# pull out -2 from the array\n",
    "a[1]"
   ]
  },
  {
   "cell_type": "code",
   "execution_count": 8,
   "id": "ca8e6531",
   "metadata": {},
   "outputs": [
    {
     "data": {
      "text/plain": [
       "array([-1,  0,  1])"
      ]
     },
     "execution_count": 8,
     "metadata": {},
     "output_type": "execute_result"
    }
   ],
   "source": [
    "# pull out -1 , 0 and -1\n",
    "a[2:5:1]"
   ]
  },
  {
   "cell_type": "code",
   "execution_count": 9,
   "id": "df9a32ad",
   "metadata": {},
   "outputs": [
    {
     "name": "stdout",
     "output_type": "stream",
     "text": [
      "[[-10  -9  -8  -7  -6]\n",
      " [ -5  -4  -3  -2  -1]\n",
      " [  0   1   2   3   4]\n",
      " [  5   6   7   8   9]]\n"
     ]
    }
   ],
   "source": [
    "b = np.arange(-10,10,1)\n",
    "b.shape=(4,5)\n",
    "print(b)"
   ]
  },
  {
   "cell_type": "code",
   "execution_count": 10,
   "id": "bf310327",
   "metadata": {},
   "outputs": [
    {
     "data": {
      "text/plain": [
       "array([-5, -4, -3, -2, -1])"
      ]
     },
     "execution_count": 10,
     "metadata": {},
     "output_type": "execute_result"
    }
   ],
   "source": [
    "# grab the entire 2nd row (row index 1)\n",
    "b[1,0:5:1]  # [row,col]"
   ]
  },
  {
   "cell_type": "code",
   "execution_count": 11,
   "id": "9dc5188f",
   "metadata": {},
   "outputs": [
    {
     "data": {
      "text/plain": [
       "array([-5, -4, -3, -2, -1])"
      ]
     },
     "execution_count": 11,
     "metadata": {},
     "output_type": "execute_result"
    }
   ],
   "source": [
    "b[1,:]     #[row index1, all columns]"
   ]
  },
  {
   "cell_type": "code",
   "execution_count": 12,
   "id": "f9529582",
   "metadata": {},
   "outputs": [
    {
     "name": "stdout",
     "output_type": "stream",
     "text": [
      "[[-10  -9  -8  -7  -6]\n",
      " [ -5  -4  -3  -2  -1]\n",
      " [  0   1   2   3   4]\n",
      " [  5   6   7   8   9]]\n"
     ]
    }
   ],
   "source": [
    "print(b)"
   ]
  },
  {
   "cell_type": "code",
   "execution_count": 13,
   "id": "e17a49fd",
   "metadata": {},
   "outputs": [
    {
     "name": "stdout",
     "output_type": "stream",
     "text": [
      "(array([2]), array([3]))\n"
     ]
    }
   ],
   "source": [
    "# find the location of the number 3\n",
    "print(np.where(b==3))"
   ]
  },
  {
   "cell_type": "code",
   "execution_count": 14,
   "id": "173c9b24",
   "metadata": {},
   "outputs": [],
   "source": [
    "# print out the column that starts with -9, not knowing where -9 is (assuming -9 is in the first row)\n"
   ]
  },
  {
   "cell_type": "code",
   "execution_count": 15,
   "id": "019a0db5",
   "metadata": {},
   "outputs": [
    {
     "name": "stdout",
     "output_type": "stream",
     "text": [
      "(array([1]),)\n",
      "[[[-9]]\n",
      "\n",
      " [[-4]]\n",
      "\n",
      " [[ 1]]\n",
      "\n",
      " [[ 6]]]\n"
     ]
    }
   ],
   "source": [
    "#loc = np.where(b==-9)\n",
    "loc = np.where(b[0,:]==-9)\n",
    "print(loc)\n",
    "print(b[:,loc])    # all rows, column based on variable loc"
   ]
  },
  {
   "cell_type": "code",
   "execution_count": 16,
   "id": "12acbe79",
   "metadata": {},
   "outputs": [
    {
     "name": "stdout",
     "output_type": "stream",
     "text": [
      "[[ True  True  True  True  True]\n",
      " [ True  True  True  True  True]\n",
      " [False False False False False]\n",
      " [False False False False False]]\n",
      "[-10  -9  -8  -7  -6  -5  -4  -3  -2  -1]\n"
     ]
    }
   ],
   "source": [
    "# print out all the negative numbers in the array\n",
    "mask = b<0\n",
    "print(mask)\n",
    "print(b[mask])"
   ]
  },
  {
   "cell_type": "code",
   "execution_count": 17,
   "id": "6c6bb850",
   "metadata": {},
   "outputs": [
    {
     "name": "stdout",
     "output_type": "stream",
     "text": [
      "[1 2 3 4 5 6 7 8 9]\n"
     ]
    }
   ],
   "source": [
    "# print all the positive numbers in the array\n",
    "mask2 = b>0\n",
    "print(b[mask2])"
   ]
  },
  {
   "cell_type": "markdown",
   "id": "dca1aaec",
   "metadata": {},
   "source": [
    "## Combining boolean masks"
   ]
  },
  {
   "cell_type": "code",
   "execution_count": 18,
   "id": "35f33d04",
   "metadata": {},
   "outputs": [
    {
     "name": "stdout",
     "output_type": "stream",
     "text": [
      "[[ True  True  True  True  True]\n",
      " [False False False False False]\n",
      " [False False False False False]\n",
      " [False False False False False]]\n",
      "[[False False False False False]\n",
      " [False False False False False]\n",
      " [False False False False False]\n",
      " [False  True  True  True  True]]\n",
      "[[ True  True  True  True  True]\n",
      " [False False False False False]\n",
      " [False False False False False]\n",
      " [False  True  True  True  True]]\n",
      "[-10  -9  -8  -7  -6   6   7   8   9]\n"
     ]
    }
   ],
   "source": [
    "# print out all the numbers less than -5 or greater than +5\n",
    "mask1 = b<-5\n",
    "print(mask1)\n",
    "mask2 = b>5\n",
    "print(mask2)\n",
    "mask3 = np.logical_or(mask1,mask2)\n",
    "print(mask3)\n",
    "print(b[mask3])"
   ]
  },
  {
   "cell_type": "code",
   "execution_count": 19,
   "id": "b62bf70f",
   "metadata": {},
   "outputs": [
    {
     "name": "stdout",
     "output_type": "stream",
     "text": [
      "[[False False False False False]\n",
      " [False  True  True  True  True]\n",
      " [ True  True  True  True  True]\n",
      " [False False False False False]]\n",
      "[-4 -3 -2 -1  0  1  2  3  4]\n"
     ]
    }
   ],
   "source": [
    "# print out the numbers between -5 and +5\n",
    "mask1=b>-5\n",
    "mask2=b<5\n",
    "mask3=np.logical_and(mask1,mask2)\n",
    "print(mask3)\n",
    "print(b[mask3])"
   ]
  },
  {
   "cell_type": "code",
   "execution_count": 20,
   "id": "16998e96",
   "metadata": {},
   "outputs": [
    {
     "name": "stdout",
     "output_type": "stream",
     "text": [
      "[99. 50.  6. 50. 27. 10.]\n",
      "[ 6. 27. 10.]\n",
      "[50.  6. 50. 27. 10.]\n"
     ]
    }
   ],
   "source": [
    "# Homework 3 #33\n",
    "\n",
    "#Q05.33 The 1D NumPy array F is defined below. But construct your code to work with any 1D NumPy array filled with numbers.\n",
    "\n",
    "#F = np.array([5, -4.7, 99, 50, 6, -1, 0, 50, -78, 27, 10])\n",
    "\n",
    "#(a) Select all the elements from F that are greater than 5 and store them in x.\n",
    "\n",
    "#(b) Select all of the elements from F that are between 5 and 30. Store them in y.\n",
    "\n",
    "#(c) Select all of the elements from F that are between 5 and 30 or that are equal to 50. Store them in z.\n",
    "\n",
    "F = np.array([5, -4.7, 99, 50, 6, -1, 0, 50, -78, 27, 10])\n",
    "#(a)\n",
    "mask1 = F>5\n",
    "x = F[mask1]\n",
    "x = F[np.where(F>5)] # equivalent to line above for this simple example\n",
    "print(x)\n",
    "#(b) between 5 and 30\n",
    "mask2 = F>5\n",
    "mask3 = F<30\n",
    "mask4 = np.logical_and(mask2,mask3)\n",
    "y = F[mask4]\n",
    "print(y)\n",
    "#(c) between 5 and 30 or 50\n",
    "mask5 = F==50\n",
    "mask6 = np.logical_or(mask4,mask5)\n",
    "y = F[mask6]\n",
    "print(y)"
   ]
  },
  {
   "cell_type": "markdown",
   "id": "eddea71b",
   "metadata": {},
   "source": [
    "## Plotting with Matplotlib\n",
    "\n",
    "MatplotLib is not a Python standard library function. It has to be installed as it is an external package.\n",
    "\n",
    "MatplotLib is included in the Anaconda distribution of Python.\n",
    "\n",
    "MatplotLib is used for visualization, mainly plotting graphs of data.\n",
    "\n",
    "Site for matplotlib documentation is matplotlib.org\n",
    "\n",
    "Check Examples tab for some matplotlib examples wth corresponding code\n",
    "\n",
    "To get all attributes and methods for a given function\n",
    "dir(objectname) or objectname.[tab] within matplotlib\n",
    "\n",
    "Note: We will use ax.plot and not plt.plot throughout the course"
   ]
  },
  {
   "cell_type": "code",
   "execution_count": 21,
   "id": "ffeed2f1",
   "metadata": {},
   "outputs": [
    {
     "data": {
      "text/plain": [
       "'3.5.1'"
      ]
     },
     "execution_count": 21,
     "metadata": {},
     "output_type": "execute_result"
    }
   ],
   "source": [
    "import matplotlib\n",
    "matplotlib.__version__"
   ]
  },
  {
   "cell_type": "code",
   "execution_count": 22,
   "id": "7f0e53d8",
   "metadata": {},
   "outputs": [
    {
     "data": {
      "text/plain": [
       "'3.5.1'"
      ]
     },
     "execution_count": 22,
     "metadata": {},
     "output_type": "execute_result"
    }
   ],
   "source": [
    "import matplotlib as mp\n",
    "mp.__version__"
   ]
  },
  {
   "cell_type": "code",
   "execution_count": 23,
   "id": "3fb2ac99",
   "metadata": {},
   "outputs": [],
   "source": [
    "import matplotlib.pyplot as plt"
   ]
  },
  {
   "cell_type": "code",
   "execution_count": 24,
   "id": "5ebc808a",
   "metadata": {},
   "outputs": [],
   "source": [
    "import numpy as np\n",
    "import matplotlib.pyplot as plt\n",
    "%matplotlib inline"
   ]
  },
  {
   "cell_type": "markdown",
   "id": "08dd3d77",
   "metadata": {},
   "source": [
    "# Create a line plot"
   ]
  },
  {
   "cell_type": "code",
   "execution_count": 25,
   "id": "c4e1dc6a",
   "metadata": {},
   "outputs": [],
   "source": [
    "import numpy as np\n",
    "import matplotlib.pyplot as plt\n",
    "%matplotlib inline"
   ]
  },
  {
   "cell_type": "code",
   "execution_count": 26,
   "id": "79ee4cfe",
   "metadata": {},
   "outputs": [
    {
     "data": {
      "image/png": "[encoded data removed]",
      "text/plain": [
       "<Figure size 432x288 with 1 Axes>"
      ]
     },
     "metadata": {
      "needs_background": "light"
     },
     "output_type": "display_data"
    }
   ],
   "source": [
    "# data to plot\n",
    "x = np.array([3,4,7,8,9,12,13])\n",
    "\n",
    "# create the figure and axes objects\n",
    "fig, ax = plt.subplots()\n",
    "\n",
    "# plot the data\n",
    "ax.plot(x)\n",
    "\n",
    "# customizations\n",
    "\n",
    "# show the plot\n",
    "plt.show()"
   ]
  },
  {
   "cell_type": "markdown",
   "id": "bdeb00fd",
   "metadata": {},
   "source": [
    "## Create a line plot of x,y points"
   ]
  },
  {
   "cell_type": "code",
   "execution_count": 27,
   "id": "6a5ad7bc",
   "metadata": {},
   "outputs": [],
   "source": [
    "import numpy as np\n",
    "import matplotlib.pyplot as plt\n",
    "%matplotlib inline"
   ]
  },
  {
   "cell_type": "code",
   "execution_count": 28,
   "id": "0a1b54d7",
   "metadata": {},
   "outputs": [
    {
     "data": {
      "image/png": "[encoded data removed]",
      "text/plain": [
       "<Figure size 432x288 with 1 Axes>"
      ]
     },
     "metadata": {
      "needs_background": "light"
     },
     "output_type": "display_data"
    }
   ],
   "source": [
    "# create arrays of x and y points\n",
    "x = np.array([2,4,6,8,10])\n",
    "y = np.array([1,3,6,13,18])\n",
    "\n",
    "# fig, ax objects\n",
    "fig, ax = plt.subplots()\n",
    "\n",
    "# plot\n",
    "ax.plot(x,y)\n",
    "\n",
    "# customizations\n",
    "\n",
    "# show the plot\n",
    "plt.show()"
   ]
  },
  {
   "cell_type": "markdown",
   "id": "697eb6e3",
   "metadata": {},
   "source": [
    "## Build a line plot with a few customizations\n",
    "\n",
    " * title\n",
    " * x-axis label\n",
    " * y-axis label\n",
    " * red line"
   ]
  },
  {
   "cell_type": "code",
   "execution_count": 29,
   "id": "78567c99",
   "metadata": {},
   "outputs": [
    {
     "data": {
      "image/png": "[encoded data removed]",
      "text/plain": [
       "<Figure size 432x288 with 1 Axes>"
      ]
     },
     "metadata": {
      "needs_background": "light"
     },
     "output_type": "display_data"
    }
   ],
   "source": [
    "# data\n",
    "x = np.array([2,4,6,8,10])\n",
    "y = np.array([1,3,6,13,18])\n",
    "\n",
    "# fig, ax objects\n",
    "fig, ax = plt.subplots()\n",
    "\n",
    "# plot\n",
    "ax.plot(x,y,'r')\n",
    "\n",
    "# customizations\n",
    "ax.set_title(\"A line plot with a red line\")\n",
    "ax.set_xlabel(\"x-axis\")\n",
    "ax.set_ylabel(\"y-axis\")\n",
    "\n",
    "# show the plot\n",
    "plt.show()\n"
   ]
  },
  {
   "cell_type": "markdown",
   "id": "c0648f5c",
   "metadata": {},
   "source": [
    "## Create a line plot with two lines, a legend and save it\n",
    "\n",
    " * sine and cosine functions, sine red and cos blue\n",
    " \n",
    " * x-axis label and y-axis label\n",
    " \n",
    " * title\n",
    " \n",
    " * legend\n",
    " \n",
    " * save the plot"
   ]
  },
  {
   "cell_type": "code",
   "execution_count": 30,
   "id": "f9f6e7d3",
   "metadata": {},
   "outputs": [
    {
     "data": {
      "image/png": "[encoded data removed]",
      "text/plain": [
       "<Figure size 432x288 with 1 Axes>"
      ]
     },
     "metadata": {
      "needs_background": "light"
     },
     "output_type": "display_data"
    }
   ],
   "source": [
    "# Create x array of x-values and then 2 arrays of y values\n",
    "x = np.arange(0,np.pi*4,0.1)  #start,stop,step\n",
    "y1 = np.sin(x)\n",
    "y2 = np.cos(x)\n",
    "\n",
    "# Create fig, ax objects\n",
    "fig, ax = plt.subplots()\n",
    "\n",
    "# Plot sine and cosine\n",
    "ax.plot(x,y1,'#25f00e')\n",
    "ax.plot(x,y2,'blue')\n",
    "\n",
    "# customize the plot\n",
    "ax.set_xlabel(\"Angles 0 to 4pi\")\n",
    "ax.set_ylabel(\"Sine and Cosine\")\n",
    "ax.set_title(\"Line plot with two lines and a legend\")\n",
    "ax.legend([\"sine\",\"cosine\"])\n",
    "\n",
    "# save the plot\n",
    "plt.savefig('plot_with_two_lines.png', dpi=300, bbox_inches=\"tight\")\n",
    "\n",
    "# show the plot\n",
    "plt.show()"
   ]
  },
  {
   "cell_type": "markdown",
   "id": "bc58eab4",
   "metadata": {},
   "source": [
    "## Create a plot sin, cos , tan and limit the range of the axes"
   ]
  },
  {
   "cell_type": "code",
   "execution_count": 31,
   "id": "59307c81",
   "metadata": {},
   "outputs": [
    {
     "data": {
      "image/png": "[encoded data removed]",
      "text/plain": [
       "<Figure size 432x288 with 1 Axes>"
      ]
     },
     "metadata": {
      "needs_background": "light"
     },
     "output_type": "display_data"
    }
   ],
   "source": [
    "# create arrays\n",
    "x = np.arange(0,4*np.pi,0.1)\n",
    "y1 = np.sin(x)\n",
    "y2 = np.cos(x)\n",
    "y3 = np.tan(x)\n",
    "\n",
    "# fig, ax\n",
    "fig, ax = plt.subplots()\n",
    "\n",
    "# plot\n",
    "ax.plot(x,y1,'r')\n",
    "ax.plot(x,y2,'b')\n",
    "ax.plot(x,y3,'y')\n",
    "\n",
    "# customize\n",
    "ax.set_xlim([0, np.pi*3])\n",
    "ax.set_ylim([-3, 3])\n",
    "ax.set_xlabel(\"Sine, Cosine, Tangent\")\n",
    "ax.set_ylabel(\"Angles 0 to 4pi\")\n",
    "ax.set_title(\"Plot of sine, cosine, tangent\")\n",
    "ax.legend(['sine','cosine','tangent'], loc='upper right')\n",
    "\n",
    "# save\n",
    "plt.savefig(\"plot_with_three_lines,png\",dpi=72, bbox_inches=\"tight\")\n",
    "\n",
    "# show\n",
    "plt.show()"
   ]
  },
  {
   "cell_type": "markdown",
   "id": "1982d704",
   "metadata": {},
   "source": [
    "## Create bar chart with ax.bar\n",
    "\n",
    " * 3 commutes\n",
    " * 11 commutes between 20 and 40 mins\n",
    " * 6 commutes greater than 40 min"
   ]
  },
  {
   "cell_type": "code",
   "execution_count": 32,
   "id": "9ba9e943",
   "metadata": {},
   "outputs": [],
   "source": [
    "import numpy as np\n",
    "import matplotlib.pyplot as plt\n",
    "%matplotlib inline"
   ]
  },
  {
   "cell_type": "code",
   "execution_count": 33,
   "id": "0f0373ed",
   "metadata": {},
   "outputs": [
    {
     "data": {
      "image/png": "[encoded data removed]",
      "text/plain": [
       "<Figure size 432x288 with 1 Axes>"
      ]
     },
     "metadata": {
      "needs_background": "light"
     },
     "output_type": "display_data"
    }
   ],
   "source": [
    "# data\n",
    "heights = [3,11,6]\n",
    "bar_locs = [0,1,2]\n",
    "bar_labels =[\"less than 20min\",\"20 to 40 min\",\"greater than 40 min\"]\n",
    "\n",
    "# fig, ax\n",
    "fig, ax = plt.subplots()\n",
    "\n",
    "# plot\n",
    "ax.bar(bar_locs,heights,align='center')\n",
    "\n",
    "# customizations\n",
    "ax.set_title(\"Student commute times\")\n",
    "ax.set_xticks(bar_locs)\n",
    "ax.set_xticklabels(bar_labels)\n",
    "\n",
    "# show\n",
    "plt.show()"
   ]
  },
  {
   "cell_type": "markdown",
   "id": "3523e9e7",
   "metadata": {},
   "source": [
    "## Build a pie chart with ax.pie\n",
    "\n",
    "Windows users 13\n",
    "\n",
    "MacOS users 4\n",
    "\n",
    "Chromebook users 2"
   ]
  },
  {
   "cell_type": "code",
   "execution_count": 34,
   "id": "e720dbac",
   "metadata": {},
   "outputs": [
    {
     "data": {
      "image/png": "[encoded data removed]",
      "text/plain": [
       "<Figure size 432x288 with 1 Axes>"
      ]
     },
     "metadata": {},
     "output_type": "display_data"
    }
   ],
   "source": [
    "# data\n",
    "labels = [\"Windows\",\"MacOS\",\"Chromebook\"]\n",
    "sizes = [13,4,2]\n",
    "explode = [0.01,0.01,0.5]\n",
    "\n",
    "#fig, ax objects\n",
    "fig, ax = plt.subplots()\n",
    "\n",
    "# plot\n",
    "ax.pie(sizes, labels=labels, autopct='%1.0f%%', explode=explode)\n",
    "\n",
    "# customizations\n",
    "ax.axis(\"equal\")\n",
    "ax.set_title(\"Pie chart of computer type\")\n",
    "\n",
    "# show\n",
    "plt.show()"
   ]
  },
  {
   "cell_type": "markdown",
   "id": "919ca949",
   "metadata": {},
   "source": [
    "## Create a histogram with ax.hist\n",
    "build a histogram plot of psudo-random numbers with a normal distribution\n",
    "label the x-axis with 'bin range'\n",
    "label the y-axis with 'frequency'\n",
    "title the plot 'A Histogram'"
   ]
  },
  {
   "cell_type": "code",
   "execution_count": 35,
   "id": "d00f3e66",
   "metadata": {},
   "outputs": [],
   "source": [
    "import numpy as np\n",
    "import matplotlib.pyplot as plt\n",
    "%matplotlib inline"
   ]
  },
  {
   "cell_type": "code",
   "execution_count": 36,
   "id": "550b0ec7",
   "metadata": {},
   "outputs": [
    {
     "data": {
      "image/png": "[encoded data removed]",
      "text/plain": [
       "<Figure size 432x288 with 1 Axes>"
      ]
     },
     "metadata": {
      "needs_background": "light"
     },
     "output_type": "display_data"
    }
   ],
   "source": [
    "# data\n",
    "mu = 20\n",
    "sigma = 5\n",
    "x = np.random.normal(mu, sigma, size=1000)\n",
    "\n",
    "# fig, ax\n",
    "fig, ax = plt.subplots()\n",
    "\n",
    "# plot\n",
    "ax.hist(x, 10)  # x is data, 10 is the number of bins (# of bars no the histgram)\n",
    "\n",
    "# customizations\n",
    "ax.set_xlabel(\"bin range\")\n",
    "ax.set_ylabel(\"frequency\")\n",
    "ax.set_title(\"Histogram of a random normal distribution\")\n",
    "\n",
    "# show\n",
    "plt.show()"
   ]
  },
  {
   "cell_type": "markdown",
   "id": "60581524",
   "metadata": {},
   "source": [
    "## Create a scatter plot with ax.scatter\n",
    "build a scatter plot of two arrays of semi-focused random numbers\n",
    "title it as 'A scatter plot of two semi-focused arrays of random numbers"
   ]
  },
  {
   "cell_type": "code",
   "execution_count": 37,
   "id": "ed317d08",
   "metadata": {},
   "outputs": [
    {
     "data": {
      "image/png": "[encoded data removed]",
      "text/plain": [
       "<Figure size 432x288 with 1 Axes>"
      ]
     },
     "metadata": {
      "needs_background": "light"
     },
     "output_type": "display_data"
    }
   ],
   "source": [
    "# data\n",
    "\n",
    "# Create the arrays of semi-focused random numbers to plot\n",
    "n = 300\n",
    "x1 = 2*np.random.randn(n) + 5\n",
    "y1 = 2*np.random.randn(n) + 3\n",
    "\n",
    "x2 = 4*np.random.randn(n) + 20\n",
    "y2 = 4*np.random.randn(n) + 12\n",
    "\n",
    "x = np.append(x1,x2)\n",
    "y = np.append(y1,y2)\n",
    "\n",
    "# fig, ax\n",
    "fig, ax = plt.subplots()\n",
    "\n",
    "# plot\n",
    "ax.scatter(x,y, alpha=0.2)\n",
    "\n",
    "# customize\n",
    "ax.set_title(\"Scatter Plot of two semi-random arrays\")\n",
    "\n",
    "# show\n",
    "plt.show()"
   ]
  },
  {
   "cell_type": "markdown",
   "id": "4c9c7ecd",
   "metadata": {},
   "source": [
    "## Creat a  Y-Y Plots\n",
    "\n",
    "A y-y plot is a type of plot that has two different y-axes and each y-axis can have a different scale.\n",
    "\n",
    "y-y plots allow you to plot two different data sets that have vastly different ranges.\n",
    "Each data set on a y-y plot shares the same x-axis and the same x values."
   ]
  },
  {
   "cell_type": "code",
   "execution_count": 38,
   "id": "298c026c",
   "metadata": {},
   "outputs": [
    {
     "data": {
      "image/png": "[encoded data removed]",
      "text/plain": [
       "<Figure size 432x288 with 2 Axes>"
      ]
     },
     "metadata": {
      "needs_background": "light"
     },
     "output_type": "display_data"
    }
   ],
   "source": [
    "# data\n",
    "x = np.arange(0,7,0.1)\n",
    "y1 = np.sin(x)\n",
    "y2 = np.exp(x)\n",
    "\n",
    "# fig, ax\n",
    "fig, ax1 = plt.subplots()\n",
    "\n",
    "# plot data for the first y-axis and customize\n",
    "ax1.plot(x,y1)\n",
    "ax1.set_xlabel(\"x from 0 to 7\")\n",
    "ax1.set_ylabel(\"sin(x)\")\n",
    "ax1.set_title(\"y-y plot of sin(x) and exp(x)\")\n",
    "\n",
    "# plot data for the 2nd y-axis and customize\n",
    "ax2 = ax1.twinx()\n",
    "ax2.plot(x,y2,'r')\n",
    "ax2.set_ylabel(\"exp(x)\")\n",
    "\n",
    "# show the plot\n",
    "plt.show()"
   ]
  },
  {
   "cell_type": "code",
   "execution_count": null,
   "id": "9cd8fc08",
   "metadata": {},
   "outputs": [],
   "source": []
  }
 ],
 "metadata": {
  "kernelspec": {
   "display_name": "Python 3 (ipykernel)",
   "language": "python",
   "name": "python3"
  },
  "language_info": {
   "codemirror_mode": {
    "name": "ipython",
    "version": 3
   },
   "file_extension": ".py",
   "mimetype": "text/x-python",
   "name": "python",
   "nbconvert_exporter": "python",
   "pygments_lexer": "ipython3",
   "version": "3.9.7"
  }
 },
 "nbformat": 4,
 "nbformat_minor": 5
}
