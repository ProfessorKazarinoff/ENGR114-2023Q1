{
 "cells": [
  {
   "cell_type": "markdown",
   "metadata": {},
   "source": [
    "# Week 9 Notes: While Loops"
   ]
  },
  {
   "cell_type": "markdown",
   "metadata": {},
   "source": [
    "While loops are one example of a repetion structure in programming. While loops are an example of indefinite iteration. You do not know for sure how many times a while loops will run"
   ]
  },
  {
   "cell_type": "markdown",
   "metadata": {},
   "source": [
    "In the Python the syntax for while loops is below:\n",
    "\n",
    "```\n",
    "while <logical condition>:\n",
    "    <code>\n",
    "```"
   ]
  },
  {
   "cell_type": "code",
   "execution_count": null,
   "metadata": {},
   "outputs": [],
   "source": [
    "# example of a while loop\n"
   ]
  },
  {
   "cell_type": "markdown",
   "metadata": {},
   "source": [
    "## General syntax to validate user input using a while loop\n",
    "\n",
    "```\n",
    "# set the input as invalid\n",
    "usr_input = 'invalid_input'\n",
    "\n",
    "while not (<what you want>):\n",
    "    # ask the user for valid input\n",
    "    usr_input = input('Ask for valid input')\n",
    "    <code to run inside the while loop>\n",
    "<code to run outside the while loop>\n",
    "```"
   ]
  },
  {
   "cell_type": "code",
   "execution_count": null,
   "metadata": {},
   "outputs": [],
   "source": [
    "# example of a while loop to validate user input\n",
    "\n",
    "# set the input as invalid\n",
    "\n",
    "\n",
    "# start the while loop as long as the input is invalid\n",
    "    "
   ]
  },
  {
   "cell_type": "code",
   "execution_count": 1,
   "metadata": {},
   "outputs": [],
   "source": [
    "# ask a user to enter a color, red green or blue. Ensure the user enters a valid color using a while loop\n",
    "\n",
    "# set the input as invalid\n",
    "\n",
    "# run the while loop\n",
    "\n",
    "    # ask the user for valid input\n",
    "   \n",
    "    \n"
   ]
  },
  {
   "cell_type": "code",
   "execution_count": 2,
   "metadata": {},
   "outputs": [],
   "source": [
    "# test if a number is even or odd using the modulo operator %"
   ]
  },
  {
   "cell_type": "code",
   "execution_count": null,
   "metadata": {},
   "outputs": [],
   "source": []
  },
  {
   "cell_type": "code",
   "execution_count": null,
   "metadata": {},
   "outputs": [],
   "source": []
  },
  {
   "cell_type": "code",
   "execution_count": null,
   "metadata": {},
   "outputs": [],
   "source": [
    "# ask a user for a number, ensure the number is positive and even\n",
    "\n",
    "# set the input as invalid\n",
    "\n",
    "\n",
    "# run a while loop to ask for valid input as long as the input is invalid\n"
   ]
  },
  {
   "cell_type": "code",
   "execution_count": null,
   "metadata": {},
   "outputs": [],
   "source": [
    "# ask for a valid letter, print back the user if their letter is valid\n",
    "\n",
    "# set the input as invalid, a, b and q are valid\n",
    "\n",
    "# start the while loop as long as the input is invlid\n"
   ]
  },
  {
   "cell_type": "code",
   "execution_count": null,
   "metadata": {},
   "outputs": [],
   "source": [
    "# print out the numbers 0, 10, 20, 30 using a while loop and incrementor\n"
   ]
  },
  {
   "cell_type": "code",
   "execution_count": null,
   "metadata": {},
   "outputs": [],
   "source": [
    "# add the numbers 0, 2, 4, 6, 8, 10 into a list using a while loop\n",
    "\n",
    "# create an empty list\n",
    "\n",
    "\n",
    "# instantiate the incrementor variable\n",
    "\n",
    "\n",
    "# run the while loop\n",
    "\n"
   ]
  },
  {
   "cell_type": "markdown",
   "metadata": {},
   "source": [
    "### use a while loop to calculate the amount of money saved for college\n",
    "\n",
    "The formula for compound intrest:\n",
    "\n",
    "new balance = old balance + intrest + contribution\n",
    "\n",
    "intrest = old blance * intrest rate"
   ]
  },
  {
   "cell_type": "code",
   "execution_count": null,
   "metadata": {},
   "outputs": [],
   "source": [
    "# contribute 100 dolars each year to a college savings fund, at a rate of 5% each year, save for 18 years"
   ]
  },
  {
   "cell_type": "code",
   "execution_count": 3,
   "metadata": {},
   "outputs": [],
   "source": [
    "# plot the results"
   ]
  },
  {
   "cell_type": "markdown",
   "metadata": {},
   "source": [
    "## How do you break out of a while loop that is running inside another while loop?"
   ]
  },
  {
   "cell_type": "code",
   "execution_count": null,
   "metadata": {},
   "outputs": [],
   "source": []
  },
  {
   "cell_type": "code",
   "execution_count": null,
   "metadata": {},
   "outputs": [],
   "source": []
  },
  {
   "cell_type": "markdown",
   "metadata": {},
   "source": [
    "## Numerical Methods using loops"
   ]
  },
  {
   "cell_type": "code",
   "execution_count": null,
   "metadata": {},
   "outputs": [],
   "source": []
  },
  {
   "cell_type": "code",
   "execution_count": null,
   "metadata": {},
   "outputs": [],
   "source": []
  }
 ],
 "metadata": {
  "kernelspec": {
   "display_name": "Python 3",
   "language": "python",
   "name": "python3"
  },
  "language_info": {
   "codemirror_mode": {
    "name": "ipython",
    "version": 3
   },
   "file_extension": ".py",
   "mimetype": "text/x-python",
   "name": "python",
   "nbconvert_exporter": "python",
   "pygments_lexer": "ipython3",
   "version": "3.7.4"
  }
 },
 "nbformat": 4,
 "nbformat_minor": 2
}
