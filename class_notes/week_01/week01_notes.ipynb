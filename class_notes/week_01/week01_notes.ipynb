{
  "nbformat": 4,
  "nbformat_minor": 0,
  "metadata": {
    "colab": {
      "provenance": []
    },
    "kernelspec": {
      "name": "python3",
      "display_name": "Python 3"
    },
    "language_info": {
      "name": "python"
    }
  },
  "cells": [
    {
      "cell_type": "markdown",
      "source": [
        "# Week 01 Notes\n",
        "\n",
        " * Calculations in Python\n",
        "\n",
        "```code```"
      ],
      "metadata": {
        "id": "cAXYDALSxqf-"
      }
    },
    {
      "cell_type": "code",
      "execution_count": 1,
      "metadata": {
        "colab": {
          "base_uri": "https://localhost:8080/"
        },
        "id": "1gRxasI8xF6y",
        "outputId": "57a9af3a-b6ef-47b9-e869-4979d9da3a7f"
      },
      "outputs": [
        {
          "output_type": "execute_result",
          "data": {
            "text/plain": [
              "4"
            ]
          },
          "metadata": {},
          "execution_count": 1
        }
      ],
      "source": [
        "2+2"
      ]
    },
    {
      "cell_type": "code",
      "source": [
        "# this is a comment\n",
        "# comments are lines of code which are read by humans and do not get run by the computer"
      ],
      "metadata": {
        "id": "_u6Mraz_yj2L"
      },
      "execution_count": 2,
      "outputs": []
    },
    {
      "cell_type": "markdown",
      "source": [
        "## Calculations in Python"
      ],
      "metadata": {
        "id": "fxnCauNLy9-x"
      }
    },
    {
      "cell_type": "markdown",
      "source": [
        "### Arithmetic"
      ],
      "metadata": {
        "id": "8zlonoP80UaF"
      }
    },
    {
      "cell_type": "code",
      "source": [
        "# Addition\n",
        "2 + 2"
      ],
      "metadata": {
        "colab": {
          "base_uri": "https://localhost:8080/"
        },
        "id": "ACIZ1abD0XOz",
        "outputId": "927657d2-260a-45dd-d3d6-0ffc290a22eb"
      },
      "execution_count": 3,
      "outputs": [
        {
          "output_type": "execute_result",
          "data": {
            "text/plain": [
              "4"
            ]
          },
          "metadata": {},
          "execution_count": 3
        }
      ]
    },
    {
      "cell_type": "code",
      "source": [
        "# Subtraction\n",
        "4 - 3"
      ],
      "metadata": {
        "colab": {
          "base_uri": "https://localhost:8080/"
        },
        "id": "abT6KqK90iGF",
        "outputId": "1b95bb1f-7901-41e1-f05a-a43d4177209c"
      },
      "execution_count": 4,
      "outputs": [
        {
          "output_type": "execute_result",
          "data": {
            "text/plain": [
              "1"
            ]
          },
          "metadata": {},
          "execution_count": 4
        }
      ]
    },
    {
      "cell_type": "code",
      "source": [
        "# Multiplication\n",
        "3 * 4"
      ],
      "metadata": {
        "colab": {
          "base_uri": "https://localhost:8080/"
        },
        "id": "NQQMsw4p0n38",
        "outputId": "a8aa7fc0-688a-42a3-e893-891f346c1839"
      },
      "execution_count": 5,
      "outputs": [
        {
          "output_type": "execute_result",
          "data": {
            "text/plain": [
              "12"
            ]
          },
          "metadata": {},
          "execution_count": 5
        }
      ]
    },
    {
      "cell_type": "code",
      "source": [
        "# Division\n",
        "4 / 2"
      ],
      "metadata": {
        "colab": {
          "base_uri": "https://localhost:8080/"
        },
        "id": "vpjdJYC10zBO",
        "outputId": "7983f7bf-983d-4326-8436-04b64f8567f6"
      },
      "execution_count": 6,
      "outputs": [
        {
          "output_type": "execute_result",
          "data": {
            "text/plain": [
              "2.0"
            ]
          },
          "metadata": {},
          "execution_count": 6
        }
      ]
    },
    {
      "cell_type": "code",
      "source": [
        "# Negative Numbers\n",
        "2 + -4"
      ],
      "metadata": {
        "colab": {
          "base_uri": "https://localhost:8080/"
        },
        "id": "vLu4NjKa097e",
        "outputId": "0683eb2a-3d36-47d9-d778-db6878e2190d"
      },
      "execution_count": 7,
      "outputs": [
        {
          "output_type": "execute_result",
          "data": {
            "text/plain": [
              "-2"
            ]
          },
          "metadata": {},
          "execution_count": 7
        }
      ]
    },
    {
      "cell_type": "code",
      "source": [
        "# Exponents\n",
        "2**2"
      ],
      "metadata": {
        "colab": {
          "base_uri": "https://localhost:8080/"
        },
        "id": "2KwDANwn1KMJ",
        "outputId": "5a23cd22-cf87-4713-99ae-189f04e5f403"
      },
      "execution_count": 8,
      "outputs": [
        {
          "output_type": "execute_result",
          "data": {
            "text/plain": [
              "4"
            ]
          },
          "metadata": {},
          "execution_count": 8
        }
      ]
    },
    {
      "cell_type": "code",
      "source": [
        "# Square Roots\n",
        "16**(0.5)"
      ],
      "metadata": {
        "colab": {
          "base_uri": "https://localhost:8080/"
        },
        "id": "olyjMpy41VKl",
        "outputId": "d3d078c0-bed1-45ab-c023-5b336fc4976a"
      },
      "execution_count": 9,
      "outputs": [
        {
          "output_type": "execute_result",
          "data": {
            "text/plain": [
              "4.0"
            ]
          },
          "metadata": {},
          "execution_count": 9
        }
      ]
    },
    {
      "cell_type": "code",
      "source": [
        "# Modulo Operator (remainder opperator)\n",
        "5 % 2"
      ],
      "metadata": {
        "colab": {
          "base_uri": "https://localhost:8080/"
        },
        "id": "PyfEZEmO1cIt",
        "outputId": "a15f9753-e504-4232-f897-f7d6421b3396"
      },
      "execution_count": 10,
      "outputs": [
        {
          "output_type": "execute_result",
          "data": {
            "text/plain": [
              "1"
            ]
          },
          "metadata": {},
          "execution_count": 10
        }
      ]
    },
    {
      "cell_type": "code",
      "source": [
        "# Floor Division (division with no remainder)\n",
        "12 // 5"
      ],
      "metadata": {
        "colab": {
          "base_uri": "https://localhost:8080/"
        },
        "id": "N_AnNuID1p3G",
        "outputId": "6afd0bde-b9f0-456d-bd12-1cd469dfeb66"
      },
      "execution_count": 11,
      "outputs": [
        {
          "output_type": "execute_result",
          "data": {
            "text/plain": [
              "2"
            ]
          },
          "metadata": {},
          "execution_count": 11
        }
      ]
    },
    {
      "cell_type": "markdown",
      "source": [
        "### Order of Operations\n",
        "\n",
        "P - Parenthesis\n",
        "\n",
        "E - Exponents\n",
        "\n",
        "M - Multiplication\n",
        "\n",
        "D - Division\n",
        "\n",
        "A - Addition\n",
        "\n",
        "S - Subtraction"
      ],
      "metadata": {
        "id": "wv6at3o623M6"
      }
    },
    {
      "cell_type": "code",
      "source": [
        "2 + 2**3"
      ],
      "metadata": {
        "colab": {
          "base_uri": "https://localhost:8080/"
        },
        "id": "usYWXTK73Gf4",
        "outputId": "46d74a05-0236-44ac-dc12-efcef9057bfc"
      },
      "execution_count": 12,
      "outputs": [
        {
          "output_type": "execute_result",
          "data": {
            "text/plain": [
              "10"
            ]
          },
          "metadata": {},
          "execution_count": 12
        }
      ]
    },
    {
      "cell_type": "code",
      "source": [
        "(2 + 2)**3"
      ],
      "metadata": {
        "colab": {
          "base_uri": "https://localhost:8080/"
        },
        "id": "wUufWy4C3NpZ",
        "outputId": "2fda4c6d-3f24-4ee8-e52d-83ef64d81f12"
      },
      "execution_count": 13,
      "outputs": [
        {
          "output_type": "execute_result",
          "data": {
            "text/plain": [
              "64"
            ]
          },
          "metadata": {},
          "execution_count": 13
        }
      ]
    },
    {
      "cell_type": "code",
      "source": [
        "2*(3+1)*2"
      ],
      "metadata": {
        "colab": {
          "base_uri": "https://localhost:8080/"
        },
        "id": "Re9X_hYz3Qx_",
        "outputId": "41df5880-7c1c-4e41-a5ac-168b791532a8"
      },
      "execution_count": 14,
      "outputs": [
        {
          "output_type": "execute_result",
          "data": {
            "text/plain": [
              "16"
            ]
          },
          "metadata": {},
          "execution_count": 14
        }
      ]
    },
    {
      "cell_type": "markdown",
      "source": [
        "### Trig Functions"
      ],
      "metadata": {
        "id": "CagIvfEc39Fq"
      }
    },
    {
      "cell_type": "code",
      "source": [
        "# try to use a trig function without importing it first\n",
        "sin(30)"
      ],
      "metadata": {
        "colab": {
          "base_uri": "https://localhost:8080/",
          "height": 185
        },
        "id": "gaaVCUCA3_wY",
        "outputId": "e4d783ce-9ecb-48a8-d59a-b63dd179eb4b"
      },
      "execution_count": 16,
      "outputs": [
        {
          "output_type": "error",
          "ename": "NameError",
          "evalue": "ignored",
          "traceback": [
            "\u001b[0;31m---------------------------------------------------------------------------\u001b[0m",
            "\u001b[0;31mNameError\u001b[0m                                 Traceback (most recent call last)",
            "\u001b[0;32m<ipython-input-16-3f834273ee19>\u001b[0m in \u001b[0;36m<module>\u001b[0;34m\u001b[0m\n\u001b[1;32m      1\u001b[0m \u001b[0;31m# try to use a trig function without importing it first\u001b[0m\u001b[0;34m\u001b[0m\u001b[0;34m\u001b[0m\u001b[0m\n\u001b[0;32m----> 2\u001b[0;31m \u001b[0msin\u001b[0m\u001b[0;34m(\u001b[0m\u001b[0;36m30\u001b[0m\u001b[0;34m)\u001b[0m\u001b[0;34m\u001b[0m\u001b[0;34m\u001b[0m\u001b[0m\n\u001b[0m",
            "\u001b[0;31mNameError\u001b[0m: name 'sin' is not defined"
          ]
        }
      ]
    },
    {
      "cell_type": "code",
      "source": [
        "# import the sin function from the math module\n",
        "# from <module> import <function>\n",
        "from math import sin"
      ],
      "metadata": {
        "id": "wRwCjw2P4W-z"
      },
      "execution_count": 17,
      "outputs": []
    },
    {
      "cell_type": "code",
      "source": [
        "# sin of a number in radians\n",
        "sin(30)"
      ],
      "metadata": {
        "colab": {
          "base_uri": "https://localhost:8080/"
        },
        "id": "0WhG8X074nvj",
        "outputId": "db763f0a-4652-44d6-da51-d6b2fccc2dbc"
      },
      "execution_count": 18,
      "outputs": [
        {
          "output_type": "execute_result",
          "data": {
            "text/plain": [
              "-0.9880316240928618"
            ]
          },
          "metadata": {},
          "execution_count": 18
        }
      ]
    },
    {
      "cell_type": "code",
      "source": [
        "# can't use the cos function without importing it first\n",
        "cos(20)"
      ],
      "metadata": {
        "colab": {
          "base_uri": "https://localhost:8080/",
          "height": 185
        },
        "id": "RWjft-_l4vpy",
        "outputId": "e049c67f-547a-425f-c15e-cc80ec35e10c"
      },
      "execution_count": 19,
      "outputs": [
        {
          "output_type": "error",
          "ename": "NameError",
          "evalue": "ignored",
          "traceback": [
            "\u001b[0;31m---------------------------------------------------------------------------\u001b[0m",
            "\u001b[0;31mNameError\u001b[0m                                 Traceback (most recent call last)",
            "\u001b[0;32m<ipython-input-19-36e30bee4760>\u001b[0m in \u001b[0;36m<module>\u001b[0;34m\u001b[0m\n\u001b[1;32m      1\u001b[0m \u001b[0;31m# can't use the cos function without importing it first\u001b[0m\u001b[0;34m\u001b[0m\u001b[0;34m\u001b[0m\u001b[0m\n\u001b[0;32m----> 2\u001b[0;31m \u001b[0mcos\u001b[0m\u001b[0;34m(\u001b[0m\u001b[0;36m20\u001b[0m\u001b[0;34m)\u001b[0m\u001b[0;34m\u001b[0m\u001b[0;34m\u001b[0m\u001b[0m\n\u001b[0m",
            "\u001b[0;31mNameError\u001b[0m: name 'cos' is not defined"
          ]
        }
      ]
    },
    {
      "cell_type": "code",
      "source": [
        "from math import cos"
      ],
      "metadata": {
        "id": "S7OWTyyI4wqY"
      },
      "execution_count": 20,
      "outputs": []
    },
    {
      "cell_type": "code",
      "source": [
        "cos(20)"
      ],
      "metadata": {
        "colab": {
          "base_uri": "https://localhost:8080/"
        },
        "id": "KUaryiHC41Y0",
        "outputId": "fa88c971-1f8a-4202-c4af-32f56426ccdd"
      },
      "execution_count": 21,
      "outputs": [
        {
          "output_type": "execute_result",
          "data": {
            "text/plain": [
              "0.40808206181339196"
            ]
          },
          "metadata": {},
          "execution_count": 21
        }
      ]
    },
    {
      "cell_type": "code",
      "source": [
        "# import mutiple functions from the same module using\n",
        "# from <module> import <function1>, <function2>, <fuction3>\n",
        "from math import sin,cos,tan,radians,degrees,pi"
      ],
      "metadata": {
        "id": "pTa_-dPt42nR"
      },
      "execution_count": 22,
      "outputs": []
    },
    {
      "cell_type": "code",
      "source": [
        "tan(pi)"
      ],
      "metadata": {
        "colab": {
          "base_uri": "https://localhost:8080/"
        },
        "id": "ENsLbMFn5Y1E",
        "outputId": "59b8a294-e052-4308-f225-7031a8ae0a5c"
      },
      "execution_count": 23,
      "outputs": [
        {
          "output_type": "execute_result",
          "data": {
            "text/plain": [
              "-1.2246467991473532e-16"
            ]
          },
          "metadata": {},
          "execution_count": 23
        }
      ]
    },
    {
      "cell_type": "code",
      "source": [
        "cos(pi)"
      ],
      "metadata": {
        "colab": {
          "base_uri": "https://localhost:8080/"
        },
        "id": "QM2P2vxp5eVE",
        "outputId": "49492981-52bd-4d6c-a36b-f8bd006d5a35"
      },
      "execution_count": 24,
      "outputs": [
        {
          "output_type": "execute_result",
          "data": {
            "text/plain": [
              "-1.0"
            ]
          },
          "metadata": {},
          "execution_count": 24
        }
      ]
    },
    {
      "cell_type": "code",
      "source": [
        "# convert an angle to degrees, use the degrees function\n",
        "degrees(pi/2)"
      ],
      "metadata": {
        "colab": {
          "base_uri": "https://localhost:8080/"
        },
        "id": "f0HayrCJ5lEk",
        "outputId": "e4653111-fd71-44ef-b975-dd0da18a0ea9"
      },
      "execution_count": 25,
      "outputs": [
        {
          "output_type": "execute_result",
          "data": {
            "text/plain": [
              "90.0"
            ]
          },
          "metadata": {},
          "execution_count": 25
        }
      ]
    },
    {
      "cell_type": "code",
      "source": [
        "# convert an angle to radians, use the radians function\n",
        "radians(180)"
      ],
      "metadata": {
        "colab": {
          "base_uri": "https://localhost:8080/"
        },
        "id": "6-MBVeh85uRU",
        "outputId": "534fefaf-0ac0-418a-ed83-d492d7a11ee7"
      },
      "execution_count": 26,
      "outputs": [
        {
          "output_type": "execute_result",
          "data": {
            "text/plain": [
              "3.141592653589793"
            ]
          },
          "metadata": {},
          "execution_count": 26
        }
      ]
    },
    {
      "cell_type": "code",
      "source": [
        "# find other math module functions using the Python documation at Python.org"
      ],
      "metadata": {
        "id": "gl1_qlG555W5"
      },
      "execution_count": 27,
      "outputs": []
    },
    {
      "cell_type": "markdown",
      "source": [
        "## Statistical Functions in Python"
      ],
      "metadata": {
        "id": "HGxQjMTr6f2e"
      }
    },
    {
      "cell_type": "code",
      "source": [
        "# from module import function\n",
        "from statistics import mean"
      ],
      "metadata": {
        "id": "OMhktMNP6i9U"
      },
      "execution_count": 28,
      "outputs": []
    },
    {
      "cell_type": "code",
      "source": [
        "mean([1,2,3])"
      ],
      "metadata": {
        "colab": {
          "base_uri": "https://localhost:8080/"
        },
        "id": "gftn7LKv6tlc",
        "outputId": "d122ba9f-27ac-43bd-d240-e4938110ca27"
      },
      "execution_count": 29,
      "outputs": [
        {
          "output_type": "execute_result",
          "data": {
            "text/plain": [
              "2"
            ]
          },
          "metadata": {},
          "execution_count": 29
        }
      ]
    },
    {
      "cell_type": "code",
      "source": [
        "from statistics import mean, mode, median, stdev"
      ],
      "metadata": {
        "id": "J6LKhb0h7E1d"
      },
      "execution_count": 30,
      "outputs": []
    },
    {
      "cell_type": "code",
      "source": [
        "mode([1,1,2])"
      ],
      "metadata": {
        "colab": {
          "base_uri": "https://localhost:8080/"
        },
        "id": "soDeTLo87WDV",
        "outputId": "9bf2e7ac-f6df-47b3-d1ef-36cd495ca0cc"
      },
      "execution_count": 31,
      "outputs": [
        {
          "output_type": "execute_result",
          "data": {
            "text/plain": [
              "1"
            ]
          },
          "metadata": {},
          "execution_count": 31
        }
      ]
    },
    {
      "cell_type": "code",
      "source": [
        "median([1,1,2])"
      ],
      "metadata": {
        "colab": {
          "base_uri": "https://localhost:8080/"
        },
        "id": "t7RnR_kh7ceW",
        "outputId": "bea6a5fb-20ea-41c6-d250-49a2f2d90a95"
      },
      "execution_count": 32,
      "outputs": [
        {
          "output_type": "execute_result",
          "data": {
            "text/plain": [
              "1"
            ]
          },
          "metadata": {},
          "execution_count": 32
        }
      ]
    },
    {
      "cell_type": "code",
      "source": [
        "stdev([1.3,5,9])"
      ],
      "metadata": {
        "colab": {
          "base_uri": "https://localhost:8080/"
        },
        "id": "59jD4bjw7g6G",
        "outputId": "d6c10242-756c-41fe-b237-3bcdc987e09d"
      },
      "execution_count": 33,
      "outputs": [
        {
          "output_type": "execute_result",
          "data": {
            "text/plain": [
              "3.8509739027939416"
            ]
          },
          "metadata": {},
          "execution_count": 33
        }
      ]
    },
    {
      "cell_type": "markdown",
      "source": [
        "### Two other useful Python Functions\n",
        "\n",
        " * print()\n",
        " * dir()"
      ],
      "metadata": {
        "id": "2iL9QnV5DUMo"
      }
    },
    {
      "cell_type": "code",
      "source": [
        "import math"
      ],
      "metadata": {
        "id": "9YA9uw1670hi"
      },
      "execution_count": 34,
      "outputs": []
    },
    {
      "cell_type": "code",
      "source": [
        "dir(math)"
      ],
      "metadata": {
        "colab": {
          "base_uri": "https://localhost:8080/"
        },
        "id": "8TcyA-x1755p",
        "outputId": "89bccfdb-45d5-43f1-faa7-534c30ba1be9"
      },
      "execution_count": 35,
      "outputs": [
        {
          "output_type": "execute_result",
          "data": {
            "text/plain": [
              "['__doc__',\n",
              " '__loader__',\n",
              " '__name__',\n",
              " '__package__',\n",
              " '__spec__',\n",
              " 'acos',\n",
              " 'acosh',\n",
              " 'asin',\n",
              " 'asinh',\n",
              " 'atan',\n",
              " 'atan2',\n",
              " 'atanh',\n",
              " 'ceil',\n",
              " 'comb',\n",
              " 'copysign',\n",
              " 'cos',\n",
              " 'cosh',\n",
              " 'degrees',\n",
              " 'dist',\n",
              " 'e',\n",
              " 'erf',\n",
              " 'erfc',\n",
              " 'exp',\n",
              " 'expm1',\n",
              " 'fabs',\n",
              " 'factorial',\n",
              " 'floor',\n",
              " 'fmod',\n",
              " 'frexp',\n",
              " 'fsum',\n",
              " 'gamma',\n",
              " 'gcd',\n",
              " 'hypot',\n",
              " 'inf',\n",
              " 'isclose',\n",
              " 'isfinite',\n",
              " 'isinf',\n",
              " 'isnan',\n",
              " 'isqrt',\n",
              " 'lcm',\n",
              " 'ldexp',\n",
              " 'lgamma',\n",
              " 'log',\n",
              " 'log10',\n",
              " 'log1p',\n",
              " 'log2',\n",
              " 'modf',\n",
              " 'nan',\n",
              " 'nextafter',\n",
              " 'perm',\n",
              " 'pi',\n",
              " 'pow',\n",
              " 'prod',\n",
              " 'radians',\n",
              " 'remainder',\n",
              " 'sin',\n",
              " 'sinh',\n",
              " 'sqrt',\n",
              " 'tan',\n",
              " 'tanh',\n",
              " 'tau',\n",
              " 'trunc',\n",
              " 'ulp']"
            ]
          },
          "metadata": {},
          "execution_count": 35
        }
      ]
    },
    {
      "cell_type": "code",
      "source": [
        "import statistics"
      ],
      "metadata": {
        "id": "7eJWE7OW769y"
      },
      "execution_count": 36,
      "outputs": []
    },
    {
      "cell_type": "code",
      "source": [
        "dir(statistics)"
      ],
      "metadata": {
        "colab": {
          "base_uri": "https://localhost:8080/"
        },
        "id": "Bd61EjPz8AWj",
        "outputId": "a9a147f7-d3fc-4fc4-983f-04925785ddac"
      },
      "execution_count": 37,
      "outputs": [
        {
          "output_type": "execute_result",
          "data": {
            "text/plain": [
              "['Counter',\n",
              " 'Decimal',\n",
              " 'Fraction',\n",
              " 'NormalDist',\n",
              " 'StatisticsError',\n",
              " '__all__',\n",
              " '__builtins__',\n",
              " '__cached__',\n",
              " '__doc__',\n",
              " '__file__',\n",
              " '__loader__',\n",
              " '__name__',\n",
              " '__package__',\n",
              " '__spec__',\n",
              " '_coerce',\n",
              " '_convert',\n",
              " '_exact_ratio',\n",
              " '_fail_neg',\n",
              " '_find_lteq',\n",
              " '_find_rteq',\n",
              " '_isfinite',\n",
              " '_normal_dist_inv_cdf',\n",
              " '_ss',\n",
              " '_sum',\n",
              " 'bisect_left',\n",
              " 'bisect_right',\n",
              " 'erf',\n",
              " 'exp',\n",
              " 'fabs',\n",
              " 'fmean',\n",
              " 'fsum',\n",
              " 'geometric_mean',\n",
              " 'groupby',\n",
              " 'harmonic_mean',\n",
              " 'hypot',\n",
              " 'itemgetter',\n",
              " 'log',\n",
              " 'math',\n",
              " 'mean',\n",
              " 'median',\n",
              " 'median_grouped',\n",
              " 'median_high',\n",
              " 'median_low',\n",
              " 'mode',\n",
              " 'multimode',\n",
              " 'numbers',\n",
              " 'pstdev',\n",
              " 'pvariance',\n",
              " 'quantiles',\n",
              " 'random',\n",
              " 'sqrt',\n",
              " 'stdev',\n",
              " 'tau',\n",
              " 'variance']"
            ]
          },
          "metadata": {},
          "execution_count": 37
        }
      ]
    },
    {
      "cell_type": "code",
      "source": [
        "print(2)"
      ],
      "metadata": {
        "colab": {
          "base_uri": "https://localhost:8080/"
        },
        "id": "-QNqBCFH8BSa",
        "outputId": "1ecac1f3-5092-4802-9711-f7fc325e65d8"
      },
      "execution_count": 38,
      "outputs": [
        {
          "output_type": "stream",
          "name": "stdout",
          "text": [
            "2\n"
          ]
        }
      ]
    },
    {
      "cell_type": "code",
      "source": [
        "print(\"My name is Peter\")"
      ],
      "metadata": {
        "colab": {
          "base_uri": "https://localhost:8080/"
        },
        "id": "w-oI73658JMB",
        "outputId": "2a8b43a5-b217-46fc-fd46-8df86d52c1da"
      },
      "execution_count": 39,
      "outputs": [
        {
          "output_type": "stream",
          "name": "stdout",
          "text": [
            "My name is Peter\n"
          ]
        }
      ]
    },
    {
      "cell_type": "code",
      "source": [
        "print(2 + 2)\n",
        "3 + 3"
      ],
      "metadata": {
        "colab": {
          "base_uri": "https://localhost:8080/"
        },
        "id": "WEBEOFuh8J2p",
        "outputId": "c150a5c0-dbae-437f-dcc4-f01b13ca148c"
      },
      "execution_count": 40,
      "outputs": [
        {
          "output_type": "stream",
          "name": "stdout",
          "text": [
            "4\n"
          ]
        },
        {
          "output_type": "execute_result",
          "data": {
            "text/plain": [
              "6"
            ]
          },
          "metadata": {},
          "execution_count": 40
        }
      ]
    },
    {
      "cell_type": "code",
      "source": [
        "# show 2 + 2\n",
        "print(\"2 + 2\")"
      ],
      "metadata": {
        "colab": {
          "base_uri": "https://localhost:8080/"
        },
        "id": "l4nfYcuw8gBW",
        "outputId": "b0ec57be-5a82-4e41-dde6-a73c1cb50128"
      },
      "execution_count": 41,
      "outputs": [
        {
          "output_type": "stream",
          "name": "stdout",
          "text": [
            "2 + 2\n"
          ]
        }
      ]
    },
    {
      "cell_type": "code",
      "source": [
        "# show 2 + 2 = 4\n",
        "print(\"2 + 2 =\", 2 + 2)"
      ],
      "metadata": {
        "colab": {
          "base_uri": "https://localhost:8080/"
        },
        "id": "frJ4We3O8llb",
        "outputId": "40bbdb20-90b7-48ca-c08b-a8c3bf6b8d48"
      },
      "execution_count": 42,
      "outputs": [
        {
          "output_type": "stream",
          "name": "stdout",
          "text": [
            "2 + 2 = 4\n"
          ]
        }
      ]
    },
    {
      "cell_type": "markdown",
      "source": [
        "### Three ways to import functions"
      ],
      "metadata": {
        "id": "kwmsT3rLC98O"
      }
    },
    {
      "cell_type": "code",
      "source": [
        "# from module import function\n",
        "from math import sin\n",
        "sin(30)"
      ],
      "metadata": {
        "colab": {
          "base_uri": "https://localhost:8080/"
        },
        "id": "Ke0KGbNv9FNx",
        "outputId": "3aafec05-b54b-4026-c486-3189b11129aa"
      },
      "execution_count": 43,
      "outputs": [
        {
          "output_type": "execute_result",
          "data": {
            "text/plain": [
              "-0.9880316240928618"
            ]
          },
          "metadata": {},
          "execution_count": 43
        }
      ]
    },
    {
      "cell_type": "code",
      "source": [
        "# import the whole module, but need to use the . notation\n",
        "import math\n",
        "\n",
        "math.sin(30)"
      ],
      "metadata": {
        "colab": {
          "base_uri": "https://localhost:8080/"
        },
        "id": "Rmcky-Dj9L8i",
        "outputId": "48fda2f0-ff03-4b49-c22c-57150f1bdf7b"
      },
      "execution_count": 44,
      "outputs": [
        {
          "output_type": "execute_result",
          "data": {
            "text/plain": [
              "-0.9880316240928618"
            ]
          },
          "metadata": {},
          "execution_count": 44
        }
      ]
    },
    {
      "cell_type": "code",
      "source": [
        "# import everyting from a module without needing to use the . notation\n",
        "# but... your instructor does not recommend this\n",
        "from math import *\n",
        "\n",
        "log(2)"
      ],
      "metadata": {
        "colab": {
          "base_uri": "https://localhost:8080/"
        },
        "id": "WBXKGBK_9Uwk",
        "outputId": "8f4a7352-3ea9-46fc-90fe-6a0fa11911a5"
      },
      "execution_count": 45,
      "outputs": [
        {
          "output_type": "execute_result",
          "data": {
            "text/plain": [
              "0.6931471805599453"
            ]
          },
          "metadata": {},
          "execution_count": 45
        }
      ]
    },
    {
      "cell_type": "markdown",
      "source": [
        "### Logarithmic Functions\n",
        "\n",
        "Log functions must be imported from the math module. Note that log() is the natural log (log base e) and log10() is the base 10 log"
      ],
      "metadata": {
        "id": "tHJuuBHv1VcU"
      }
    },
    {
      "cell_type": "code",
      "source": [
        "# imports\n",
        "from math import log, log10, log2, e"
      ],
      "metadata": {
        "id": "r3biMQ7T1kjf"
      },
      "execution_count": 46,
      "outputs": []
    },
    {
      "cell_type": "code",
      "source": [
        "# natural log, or log base e\n",
        "log(e)"
      ],
      "metadata": {
        "colab": {
          "base_uri": "https://localhost:8080/"
        },
        "id": "O6lIKxEP1yua",
        "outputId": "f9d1ddad-e874-4bb6-a7b5-aaa947c583f2"
      },
      "execution_count": 47,
      "outputs": [
        {
          "output_type": "execute_result",
          "data": {
            "text/plain": [
              "1.0"
            ]
          },
          "metadata": {},
          "execution_count": 47
        }
      ]
    },
    {
      "cell_type": "code",
      "source": [
        "log(10)"
      ],
      "metadata": {
        "colab": {
          "base_uri": "https://localhost:8080/"
        },
        "id": "wtyg5H4f2CM5",
        "outputId": "8ef50af0-3e3d-47f3-d479-48f9ee040476"
      },
      "execution_count": 48,
      "outputs": [
        {
          "output_type": "execute_result",
          "data": {
            "text/plain": [
              "2.302585092994046"
            ]
          },
          "metadata": {},
          "execution_count": 48
        }
      ]
    },
    {
      "cell_type": "code",
      "source": [
        "ln(e)"
      ],
      "metadata": {
        "colab": {
          "base_uri": "https://localhost:8080/",
          "height": 168
        },
        "id": "uE-LvFmJ2DkR",
        "outputId": "29b438ca-884a-4bae-bf58-47ead01c5a8b"
      },
      "execution_count": 49,
      "outputs": [
        {
          "output_type": "error",
          "ename": "NameError",
          "evalue": "ignored",
          "traceback": [
            "\u001b[0;31m---------------------------------------------------------------------------\u001b[0m",
            "\u001b[0;31mNameError\u001b[0m                                 Traceback (most recent call last)",
            "\u001b[0;32m<ipython-input-49-e7fe18565214>\u001b[0m in \u001b[0;36m<module>\u001b[0;34m\u001b[0m\n\u001b[0;32m----> 1\u001b[0;31m \u001b[0mln\u001b[0m\u001b[0;34m(\u001b[0m\u001b[0me\u001b[0m\u001b[0;34m)\u001b[0m\u001b[0;34m\u001b[0m\u001b[0;34m\u001b[0m\u001b[0m\n\u001b[0m",
            "\u001b[0;31mNameError\u001b[0m: name 'ln' is not defined"
          ]
        }
      ]
    },
    {
      "cell_type": "code",
      "source": [
        "# log base 10\n",
        "log10(10)"
      ],
      "metadata": {
        "colab": {
          "base_uri": "https://localhost:8080/"
        },
        "id": "ARSdfCzR2G4i",
        "outputId": "4dab5023-0068-43cd-d435-dd37538ec645"
      },
      "execution_count": 50,
      "outputs": [
        {
          "output_type": "execute_result",
          "data": {
            "text/plain": [
              "1.0"
            ]
          },
          "metadata": {},
          "execution_count": 50
        }
      ]
    },
    {
      "cell_type": "code",
      "source": [
        "log10(100)"
      ],
      "metadata": {
        "colab": {
          "base_uri": "https://localhost:8080/"
        },
        "id": "v1k5v7lV2NV2",
        "outputId": "40989c46-0cbb-445b-b9d9-869a205f2be8"
      },
      "execution_count": 51,
      "outputs": [
        {
          "output_type": "execute_result",
          "data": {
            "text/plain": [
              "2.0"
            ]
          },
          "metadata": {},
          "execution_count": 51
        }
      ]
    },
    {
      "cell_type": "code",
      "source": [
        "log10(10**8)"
      ],
      "metadata": {
        "colab": {
          "base_uri": "https://localhost:8080/"
        },
        "id": "mI7o2dzV2O6a",
        "outputId": "60e44066-d5f1-47f3-c4af-88cdf745799b"
      },
      "execution_count": 52,
      "outputs": [
        {
          "output_type": "execute_result",
          "data": {
            "text/plain": [
              "8.0"
            ]
          },
          "metadata": {},
          "execution_count": 52
        }
      ]
    },
    {
      "cell_type": "code",
      "source": [
        "log2(4)"
      ],
      "metadata": {
        "colab": {
          "base_uri": "https://localhost:8080/"
        },
        "id": "t8SLRNG02Wo1",
        "outputId": "b5e719bb-816b-4737-f1a3-5029acdc6d30"
      },
      "execution_count": 53,
      "outputs": [
        {
          "output_type": "execute_result",
          "data": {
            "text/plain": [
              "2.0"
            ]
          },
          "metadata": {},
          "execution_count": 53
        }
      ]
    },
    {
      "cell_type": "code",
      "source": [
        "# find help on the log() function\n",
        "help(log)"
      ],
      "metadata": {
        "colab": {
          "base_uri": "https://localhost:8080/"
        },
        "id": "FQJc3nND2cKn",
        "outputId": "6289233b-422f-44f0-bcd9-d42d411df1f0"
      },
      "execution_count": 54,
      "outputs": [
        {
          "output_type": "stream",
          "name": "stdout",
          "text": [
            "Help on built-in function log in module math:\n",
            "\n",
            "log(...)\n",
            "    log(x, [base=math.e])\n",
            "    Return the logarithm of x to the given base.\n",
            "    \n",
            "    If the base not specified, returns the natural logarithm (base e) of x.\n",
            "\n"
          ]
        }
      ]
    },
    {
      "cell_type": "code",
      "source": [
        "log(25, 5)"
      ],
      "metadata": {
        "colab": {
          "base_uri": "https://localhost:8080/"
        },
        "id": "rSiqQ7aC2g9r",
        "outputId": "6acb77af-7a71-4475-9ead-db9253a25b45"
      },
      "execution_count": 55,
      "outputs": [
        {
          "output_type": "execute_result",
          "data": {
            "text/plain": [
              "2.0"
            ]
          },
          "metadata": {},
          "execution_count": 55
        }
      ]
    },
    {
      "cell_type": "code",
      "source": [
        "5**2"
      ],
      "metadata": {
        "colab": {
          "base_uri": "https://localhost:8080/"
        },
        "id": "bSzXc7FM2z1g",
        "outputId": "aad7e6a1-f0f7-499e-e2e7-a089467fe21f"
      },
      "execution_count": 56,
      "outputs": [
        {
          "output_type": "execute_result",
          "data": {
            "text/plain": [
              "25"
            ]
          },
          "metadata": {},
          "execution_count": 56
        }
      ]
    },
    {
      "cell_type": "code",
      "source": [
        "8**6"
      ],
      "metadata": {
        "colab": {
          "base_uri": "https://localhost:8080/"
        },
        "id": "_sl9YdbX206s",
        "outputId": "3cea0396-db5e-4e8c-941b-de1f75d3aa3f"
      },
      "execution_count": 57,
      "outputs": [
        {
          "output_type": "execute_result",
          "data": {
            "text/plain": [
              "262144"
            ]
          },
          "metadata": {},
          "execution_count": 57
        }
      ]
    },
    {
      "cell_type": "code",
      "source": [
        "log(262144,8)"
      ],
      "metadata": {
        "colab": {
          "base_uri": "https://localhost:8080/"
        },
        "id": "svtXKX0j27xU",
        "outputId": "e0507a40-593b-4ab9-f506-f9609145a4dd"
      },
      "execution_count": 58,
      "outputs": [
        {
          "output_type": "execute_result",
          "data": {
            "text/plain": [
              "6.0"
            ]
          },
          "metadata": {},
          "execution_count": 58
        }
      ]
    },
    {
      "cell_type": "code",
      "source": [],
      "metadata": {
        "id": "AS8QE5QQ3BmE"
      },
      "execution_count": 58,
      "outputs": []
    },
    {
      "cell_type": "markdown",
      "source": [
        "### Assignment Operator and Variables\n",
        "\n",
        "The ```=``` is the assignment operator. This not the same as the equivalent operator which tests for equality ```==```. Read the assignment operator ```=``` as assign the value on the right-hand side to the variable on the left-hand side "
      ],
      "metadata": {
        "id": "-REveUem3SDc"
      }
    },
    {
      "cell_type": "code",
      "source": [
        "# x is a variable and assign it the value 5\n",
        "x = 5"
      ],
      "metadata": {
        "id": "BmZ28aa-4LOe"
      },
      "execution_count": 59,
      "outputs": []
    },
    {
      "cell_type": "code",
      "source": [
        "# print out the value stored in x\n",
        "print(x)"
      ],
      "metadata": {
        "colab": {
          "base_uri": "https://localhost:8080/"
        },
        "id": "GQO9T6xw4VL9",
        "outputId": "99d21c73-14f7-4f5c-8b2b-040f7d3a9f4f"
      },
      "execution_count": 60,
      "outputs": [
        {
          "output_type": "stream",
          "name": "stdout",
          "text": [
            "5\n"
          ]
        }
      ]
    },
    {
      "cell_type": "code",
      "source": [
        "# variable needs to be listed first and the value listed second\n",
        "5 = y"
      ],
      "metadata": {
        "colab": {
          "base_uri": "https://localhost:8080/",
          "height": 132
        },
        "id": "5NuokdS54YKG",
        "outputId": "29f75000-da62-49a8-d286-6f611b479b96"
      },
      "execution_count": 61,
      "outputs": [
        {
          "output_type": "error",
          "ename": "SyntaxError",
          "evalue": "ignored",
          "traceback": [
            "\u001b[0;36m  File \u001b[0;32m\"<ipython-input-61-2922f7d8fa29>\"\u001b[0;36m, line \u001b[0;32m2\u001b[0m\n\u001b[0;31m    5 = y\u001b[0m\n\u001b[0m    ^\u001b[0m\n\u001b[0;31mSyntaxError\u001b[0m\u001b[0;31m:\u001b[0m cannot assign to literal\n"
          ]
        }
      ]
    },
    {
      "cell_type": "code",
      "source": [
        "# assign y the value of 10\n",
        "y = 10\n"
      ],
      "metadata": {
        "id": "Q8XaKcds4i2T"
      },
      "execution_count": 62,
      "outputs": []
    },
    {
      "cell_type": "code",
      "source": [
        "# run a mathemtatical operation on the variables we defined\n",
        "x * y"
      ],
      "metadata": {
        "colab": {
          "base_uri": "https://localhost:8080/"
        },
        "id": "hAcihGYH4qPk",
        "outputId": "b70bc279-e654-4f62-bfdd-e217963622e1"
      },
      "execution_count": 63,
      "outputs": [
        {
          "output_type": "execute_result",
          "data": {
            "text/plain": [
              "50"
            ]
          },
          "metadata": {},
          "execution_count": 63
        }
      ]
    },
    {
      "cell_type": "markdown",
      "source": [
        "#### Rules for variable names in Python\n",
        "\n",
        " * variable names must start with a letter or the underscore character\n",
        " * varibale names can not contain punctuation or spaces\n",
        " * variables names can contain numbers but not at the start of the variable name\n",
        " * typically in Python, variable name are lower case, unless they are contants and then they are uppercase."
      ],
      "metadata": {
        "id": "F0S5bEOR4xsI"
      }
    },
    {
      "cell_type": "code",
      "source": [
        "z_1 = 12"
      ],
      "metadata": {
        "id": "3MnQbwC-5UeV"
      },
      "execution_count": 64,
      "outputs": []
    },
    {
      "cell_type": "code",
      "source": [
        "z_1 + y"
      ],
      "metadata": {
        "colab": {
          "base_uri": "https://localhost:8080/"
        },
        "id": "Zwy7htvt5Y1J",
        "outputId": "9d6ee24d-2923-4df0-db9d-3b5f7f9d4dfc"
      },
      "execution_count": 65,
      "outputs": [
        {
          "output_type": "execute_result",
          "data": {
            "text/plain": [
              "22"
            ]
          },
          "metadata": {},
          "execution_count": 65
        }
      ]
    },
    {
      "cell_type": "code",
      "source": [
        "my_name = \"Peter\""
      ],
      "metadata": {
        "id": "0fZheMbY5aSv"
      },
      "execution_count": 66,
      "outputs": []
    },
    {
      "cell_type": "code",
      "source": [
        "a_letter = 'n'"
      ],
      "metadata": {
        "id": "8jXhabol5pjQ"
      },
      "execution_count": 67,
      "outputs": []
    },
    {
      "cell_type": "code",
      "source": [
        "a_possive_variable = \"Peter's\""
      ],
      "metadata": {
        "id": "4N7FRbFZ5126"
      },
      "execution_count": 68,
      "outputs": []
    },
    {
      "cell_type": "code",
      "source": [
        "a_quote = 'here is a quote \"my name is Peter\" '"
      ],
      "metadata": {
        "id": "dRkXVAEY57hN"
      },
      "execution_count": 69,
      "outputs": []
    },
    {
      "cell_type": "code",
      "source": [
        "print(a_quote)"
      ],
      "metadata": {
        "colab": {
          "base_uri": "https://localhost:8080/"
        },
        "id": "BD5-8BtZ6E8h",
        "outputId": "ae4e6af3-b249-4334-a195-6e06051b35da"
      },
      "execution_count": 70,
      "outputs": [
        {
          "output_type": "stream",
          "name": "stdout",
          "text": [
            "here is a quote \"my name is Peter\" \n"
          ]
        }
      ]
    },
    {
      "cell_type": "code",
      "source": [
        "# invalid variable name\n",
        "5a = 6"
      ],
      "metadata": {
        "colab": {
          "base_uri": "https://localhost:8080/",
          "height": 132
        },
        "id": "a3fu4qm36Hnx",
        "outputId": "658d71c3-3770-4bb8-8993-9c34bb5d17b4"
      },
      "execution_count": 71,
      "outputs": [
        {
          "output_type": "error",
          "ename": "SyntaxError",
          "evalue": "ignored",
          "traceback": [
            "\u001b[0;36m  File \u001b[0;32m\"<ipython-input-71-890ec2fca9b3>\"\u001b[0;36m, line \u001b[0;32m2\u001b[0m\n\u001b[0;31m    5a = 6\u001b[0m\n\u001b[0m     ^\u001b[0m\n\u001b[0;31mSyntaxError\u001b[0m\u001b[0;31m:\u001b[0m invalid syntax\n"
          ]
        }
      ]
    },
    {
      "cell_type": "code",
      "source": [
        "%r = 5"
      ],
      "metadata": {
        "colab": {
          "base_uri": "https://localhost:8080/"
        },
        "id": "r2E4ho_86NZp",
        "outputId": "1dc101d4-0609-4fe3-d83f-223805a6c688"
      },
      "execution_count": 72,
      "outputs": [
        {
          "output_type": "stream",
          "name": "stderr",
          "text": [
            "UsageError: Line magic function `%r` not found.\n"
          ]
        }
      ]
    },
    {
      "cell_type": "code",
      "source": [
        "4$6 = 7"
      ],
      "metadata": {
        "colab": {
          "base_uri": "https://localhost:8080/",
          "height": 132
        },
        "id": "zEbXSiTi6REZ",
        "outputId": "87e5474f-aaac-48f5-96da-8d346adf2b89"
      },
      "execution_count": 73,
      "outputs": [
        {
          "output_type": "error",
          "ename": "SyntaxError",
          "evalue": "ignored",
          "traceback": [
            "\u001b[0;36m  File \u001b[0;32m\"<ipython-input-73-c1ebe2e2a232>\"\u001b[0;36m, line \u001b[0;32m1\u001b[0m\n\u001b[0;31m    4$6 = 7\u001b[0m\n\u001b[0m     ^\u001b[0m\n\u001b[0;31mSyntaxError\u001b[0m\u001b[0;31m:\u001b[0m invalid syntax\n"
          ]
        }
      ]
    },
    {
      "cell_type": "code",
      "source": [
        "a space = 5"
      ],
      "metadata": {
        "colab": {
          "base_uri": "https://localhost:8080/",
          "height": 132
        },
        "id": "vmNKc8Y76VRp",
        "outputId": "feaaa27c-81c3-407d-f1f3-d4ca17dfa224"
      },
      "execution_count": 74,
      "outputs": [
        {
          "output_type": "error",
          "ename": "SyntaxError",
          "evalue": "ignored",
          "traceback": [
            "\u001b[0;36m  File \u001b[0;32m\"<ipython-input-74-115d953d7193>\"\u001b[0;36m, line \u001b[0;32m1\u001b[0m\n\u001b[0;31m    a space = 5\u001b[0m\n\u001b[0m      ^\u001b[0m\n\u001b[0;31mSyntaxError\u001b[0m\u001b[0;31m:\u001b[0m invalid syntax\n"
          ]
        }
      ]
    },
    {
      "cell_type": "markdown",
      "source": [
        "## Data Types in Python"
      ],
      "metadata": {
        "id": "p-W0peUw6lrk"
      }
    },
    {
      "cell_type": "markdown",
      "source": [
        "### Numeric Data Types\n",
        "\n",
        " * integers\n",
        " * floats or floating point numbers\n",
        " * complex numbers"
      ],
      "metadata": {
        "id": "2fmqIyKS66kX"
      }
    },
    {
      "cell_type": "code",
      "source": [
        "# integers are whole numbers positive, negative and zero\n",
        "x = 5\n",
        "type(x)"
      ],
      "metadata": {
        "colab": {
          "base_uri": "https://localhost:8080/"
        },
        "id": "Ih_uq-m37DX_",
        "outputId": "80bea7af-fdcf-40e0-97bc-4dc6b6976095"
      },
      "execution_count": 75,
      "outputs": [
        {
          "output_type": "execute_result",
          "data": {
            "text/plain": [
              "int"
            ]
          },
          "metadata": {},
          "execution_count": 75
        }
      ]
    },
    {
      "cell_type": "code",
      "source": [
        "y = -7\n",
        "type(y)"
      ],
      "metadata": {
        "colab": {
          "base_uri": "https://localhost:8080/"
        },
        "id": "CfoM78Yz7PZq",
        "outputId": "e59c8288-ca58-4884-c034-7a9e32438a12"
      },
      "execution_count": 76,
      "outputs": [
        {
          "output_type": "execute_result",
          "data": {
            "text/plain": [
              "int"
            ]
          },
          "metadata": {},
          "execution_count": 76
        }
      ]
    },
    {
      "cell_type": "code",
      "source": [
        "# floats or floating point numbers are decimals or numbers in scientific notiation\n",
        "z = 3.1\n",
        "type(z)"
      ],
      "metadata": {
        "colab": {
          "base_uri": "https://localhost:8080/"
        },
        "id": "4hAntW1c7WEa",
        "outputId": "63d0ccff-4f5b-4c34-d3c7-41e0c4216bdf"
      },
      "execution_count": 77,
      "outputs": [
        {
          "output_type": "execute_result",
          "data": {
            "text/plain": [
              "float"
            ]
          },
          "metadata": {},
          "execution_count": 77
        }
      ]
    },
    {
      "cell_type": "code",
      "source": [
        "# can define floats using scientific notation\n",
        "a = 10e8\n",
        "print(type(a))\n",
        "print(a)"
      ],
      "metadata": {
        "colab": {
          "base_uri": "https://localhost:8080/"
        },
        "id": "KY82xlfM7gRj",
        "outputId": "6c5883bb-09ac-4174-f448-8e9c48b6a72a"
      },
      "execution_count": 78,
      "outputs": [
        {
          "output_type": "stream",
          "name": "stdout",
          "text": [
            "<class 'float'>\n",
            "1000000000.0\n"
          ]
        }
      ]
    },
    {
      "cell_type": "code",
      "source": [
        "# assign the variable d the float 5\n",
        "b = 5.\n",
        "type(b)"
      ],
      "metadata": {
        "colab": {
          "base_uri": "https://localhost:8080/"
        },
        "id": "qP7eKkFo7qwV",
        "outputId": "4825cadd-6e77-4c94-bd02-a18532bd605d"
      },
      "execution_count": 79,
      "outputs": [
        {
          "output_type": "execute_result",
          "data": {
            "text/plain": [
              "float"
            ]
          },
          "metadata": {},
          "execution_count": 79
        }
      ]
    },
    {
      "cell_type": "code",
      "source": [
        "# Complex numbers also called imaginary numbers have real and complex terms\n",
        "f = 4 + 3j\n",
        "type(f)"
      ],
      "metadata": {
        "colab": {
          "base_uri": "https://localhost:8080/"
        },
        "id": "qc9-_I7773ru",
        "outputId": "e1084144-4e1c-49ae-e362-00f52e3a63f7"
      },
      "execution_count": 80,
      "outputs": [
        {
          "output_type": "execute_result",
          "data": {
            "text/plain": [
              "complex"
            ]
          },
          "metadata": {},
          "execution_count": 80
        }
      ]
    },
    {
      "cell_type": "code",
      "source": [
        "# complex numbers need to be defined with the letter j, not the letter i\n",
        "g = 4 + 3i\n",
        "type(g)"
      ],
      "metadata": {
        "colab": {
          "base_uri": "https://localhost:8080/",
          "height": 132
        },
        "id": "Yz82q1488lrq",
        "outputId": "e2977362-7195-4a43-ee76-a525586f7201"
      },
      "execution_count": 81,
      "outputs": [
        {
          "output_type": "error",
          "ename": "SyntaxError",
          "evalue": "ignored",
          "traceback": [
            "\u001b[0;36m  File \u001b[0;32m\"<ipython-input-81-2342bdb839f0>\"\u001b[0;36m, line \u001b[0;32m2\u001b[0m\n\u001b[0;31m    g = 4 + 3i\u001b[0m\n\u001b[0m             ^\u001b[0m\n\u001b[0;31mSyntaxError\u001b[0m\u001b[0;31m:\u001b[0m invalid syntax\n"
          ]
        }
      ]
    },
    {
      "cell_type": "code",
      "source": [
        "# you can convert between different numeric data types using the int(), float() and complex() functions"
      ],
      "metadata": {
        "id": "xDVkwXpt8sw6"
      },
      "execution_count": 82,
      "outputs": []
    },
    {
      "cell_type": "code",
      "source": [
        "int(5.7)"
      ],
      "metadata": {
        "colab": {
          "base_uri": "https://localhost:8080/"
        },
        "id": "dQFO2WGP9FA0",
        "outputId": "54ab635b-40b1-4a30-9286-6552dc1f0144"
      },
      "execution_count": 83,
      "outputs": [
        {
          "output_type": "execute_result",
          "data": {
            "text/plain": [
              "5"
            ]
          },
          "metadata": {},
          "execution_count": 83
        }
      ]
    },
    {
      "cell_type": "code",
      "source": [
        "float(5)"
      ],
      "metadata": {
        "colab": {
          "base_uri": "https://localhost:8080/"
        },
        "id": "QdY2IhLq9I8U",
        "outputId": "7d2d0b69-2dc7-4ed3-9c7e-68ba20a8ca88"
      },
      "execution_count": 84,
      "outputs": [
        {
          "output_type": "execute_result",
          "data": {
            "text/plain": [
              "5.0"
            ]
          },
          "metadata": {},
          "execution_count": 84
        }
      ]
    },
    {
      "cell_type": "code",
      "source": [
        "complex(2,3)"
      ],
      "metadata": {
        "colab": {
          "base_uri": "https://localhost:8080/"
        },
        "id": "kOI76NeH9Vle",
        "outputId": "3b2ce233-9095-40d5-8dbc-31660d902f04"
      },
      "execution_count": 85,
      "outputs": [
        {
          "output_type": "execute_result",
          "data": {
            "text/plain": [
              "(2+3j)"
            ]
          },
          "metadata": {},
          "execution_count": 85
        }
      ]
    },
    {
      "cell_type": "code",
      "source": [
        "complex(real=2, imag=3)"
      ],
      "metadata": {
        "colab": {
          "base_uri": "https://localhost:8080/"
        },
        "id": "GqJwiY-z9bF9",
        "outputId": "dd23d13a-da12-438c-c4cc-d7e2627cc12c"
      },
      "execution_count": 86,
      "outputs": [
        {
          "output_type": "execute_result",
          "data": {
            "text/plain": [
              "(2+3j)"
            ]
          },
          "metadata": {},
          "execution_count": 86
        }
      ]
    },
    {
      "cell_type": "code",
      "source": [
        "complex(2)"
      ],
      "metadata": {
        "colab": {
          "base_uri": "https://localhost:8080/"
        },
        "id": "tqiMBXqG9ffu",
        "outputId": "79f0881a-209f-4ebd-a19c-0d1f616734d2"
      },
      "execution_count": 87,
      "outputs": [
        {
          "output_type": "execute_result",
          "data": {
            "text/plain": [
              "(2+0j)"
            ]
          },
          "metadata": {},
          "execution_count": 87
        }
      ]
    },
    {
      "cell_type": "code",
      "source": [
        "complex(imag=3)"
      ],
      "metadata": {
        "colab": {
          "base_uri": "https://localhost:8080/"
        },
        "id": "NR7YzuBe9jAs",
        "outputId": "758339db-f97b-42c0-b6b4-9c15a5d198f1"
      },
      "execution_count": 88,
      "outputs": [
        {
          "output_type": "execute_result",
          "data": {
            "text/plain": [
              "3j"
            ]
          },
          "metadata": {},
          "execution_count": 88
        }
      ]
    },
    {
      "cell_type": "code",
      "source": [],
      "metadata": {
        "id": "HIiIWBVo9mMu"
      },
      "execution_count": 88,
      "outputs": []
    },
    {
      "cell_type": "markdown",
      "source": [
        "### Container Data Types\n",
        "\n",
        "Container data types contain one or more objects or elements. You can step through or iterate over a container data type and you access elements stored in a container."
      ],
      "metadata": {
        "id": "qMNyz63G9wC3"
      }
    },
    {
      "cell_type": "markdown",
      "source": [
        "### Strings\n",
        "\n",
        "Strings are sequences of letters, numbers, puctuation and spaces. Note that a space is a character. Strings are defined using single quotes, double quotes or tripple quotes. "
      ],
      "metadata": {
        "id": "_wyUq94v-Gpl"
      }
    },
    {
      "cell_type": "code",
      "source": [
        "s = \"my string\"\n",
        "type(s)"
      ],
      "metadata": {
        "colab": {
          "base_uri": "https://localhost:8080/"
        },
        "id": "YOjyUuOb-XGR",
        "outputId": "35fbb702-030d-44f7-c797-459f6fa57023"
      },
      "execution_count": 89,
      "outputs": [
        {
          "output_type": "execute_result",
          "data": {
            "text/plain": [
              "str"
            ]
          },
          "metadata": {},
          "execution_count": 89
        }
      ]
    },
    {
      "cell_type": "code",
      "source": [
        "t = 'the letter t!'\n",
        "type(t)"
      ],
      "metadata": {
        "colab": {
          "base_uri": "https://localhost:8080/"
        },
        "id": "nyimKeOH-aCJ",
        "outputId": "0dd6c51a-1b9e-4010-aaa5-fa3926062a96"
      },
      "execution_count": 90,
      "outputs": [
        {
          "output_type": "execute_result",
          "data": {
            "text/plain": [
              "str"
            ]
          },
          "metadata": {},
          "execution_count": 90
        }
      ]
    },
    {
      "cell_type": "code",
      "source": [
        "q = \"It's great!\"\n",
        "print(q)"
      ],
      "metadata": {
        "colab": {
          "base_uri": "https://localhost:8080/"
        },
        "id": "86lTMRay-hFp",
        "outputId": "8feb5801-2099-4745-cb21-4dab11cb1e9d"
      },
      "execution_count": 91,
      "outputs": [
        {
          "output_type": "stream",
          "name": "stdout",
          "text": [
            "It's great!\n"
          ]
        }
      ]
    },
    {
      "cell_type": "code",
      "source": [
        "r = 'string \"contains\" a quote'\n",
        "print(r)"
      ],
      "metadata": {
        "colab": {
          "base_uri": "https://localhost:8080/"
        },
        "id": "QNJyx6fI-qTR",
        "outputId": "8724d256-3587-4aa8-e030-166a79f3d9e7"
      },
      "execution_count": 92,
      "outputs": [
        {
          "output_type": "stream",
          "name": "stdout",
          "text": [
            "string \"contains\" a quote\n"
          ]
        }
      ]
    },
    {
      "cell_type": "code",
      "source": [
        "# strings defined with triple quotes can contain multiple lines\n",
        "w = \"\"\"1st line\n",
        "2nd line\n",
        "3rd line\n",
        "4th line\n",
        "\"\"\"\n",
        "print(w)"
      ],
      "metadata": {
        "colab": {
          "base_uri": "https://localhost:8080/"
        },
        "id": "YqFGMpJP-vxq",
        "outputId": "992a6740-7aad-44b9-e558-408a33c0217a"
      },
      "execution_count": 93,
      "outputs": [
        {
          "output_type": "stream",
          "name": "stdout",
          "text": [
            "1st line\n",
            "2nd line\n",
            "3rd line\n",
            "4th line\n",
            "\n"
          ]
        }
      ]
    },
    {
      "cell_type": "code",
      "source": [
        "# you can \"comment out \" lines of code using triple qoutes\n",
        "s = 4\n",
        "\"\"\"sadf\n",
        "sd\n",
        "klj\"\"\"\n",
        "y=4"
      ],
      "metadata": {
        "id": "qDo5BRJi-_P6"
      },
      "execution_count": 94,
      "outputs": []
    },
    {
      "cell_type": "code",
      "source": [
        "# special characters can be included in strings using escape codes\n",
        "# escape codes start with a back slash \\\n",
        "print(\"line 1 \\n line 2\")"
      ],
      "metadata": {
        "colab": {
          "base_uri": "https://localhost:8080/"
        },
        "id": "TywFHK9K_fmD",
        "outputId": "eb20ca3f-76cf-4bbf-bc90-bd36dc9ac1d5"
      },
      "execution_count": 95,
      "outputs": [
        {
          "output_type": "stream",
          "name": "stdout",
          "text": [
            "line 1 \n",
            " line 2\n"
          ]
        }
      ]
    },
    {
      "cell_type": "code",
      "source": [
        "# to include a backslash in a string, you need use a double back slash\n",
        "print(\"here is a back slash \\\\\")"
      ],
      "metadata": {
        "colab": {
          "base_uri": "https://localhost:8080/"
        },
        "id": "RZdWrKG5_9Pd",
        "outputId": "822e6b65-2a73-4ef6-a12b-f775c960c394"
      },
      "execution_count": 96,
      "outputs": [
        {
          "output_type": "stream",
          "name": "stdout",
          "text": [
            "here is a back slash \\\n"
          ]
        }
      ]
    },
    {
      "cell_type": "markdown",
      "source": [
        "## Indexing Strings"
      ],
      "metadata": {
        "id": "yd52oyIG5pLu"
      }
    },
    {
      "cell_type": "code",
      "source": [
        "## Indexing Strings\n",
        "s = \"mystring\"\n",
        "s[0]"
      ],
      "metadata": {
        "colab": {
          "base_uri": "https://localhost:8080/",
          "height": 35
        },
        "id": "vPR12-JiAE7M",
        "outputId": "245d0eff-2238-42bd-ab37-3ef88e059a24"
      },
      "execution_count": 97,
      "outputs": [
        {
          "output_type": "execute_result",
          "data": {
            "text/plain": [
              "'m'"
            ],
            "application/vnd.google.colaboratory.intrinsic+json": {
              "type": "string"
            }
          },
          "metadata": {},
          "execution_count": 97
        }
      ]
    },
    {
      "cell_type": "code",
      "source": [
        "s[1]"
      ],
      "metadata": {
        "colab": {
          "base_uri": "https://localhost:8080/",
          "height": 35
        },
        "id": "jcSTXIUuAoyo",
        "outputId": "829e6297-3bb7-4d0a-c004-ab844ee07ec8"
      },
      "execution_count": 98,
      "outputs": [
        {
          "output_type": "execute_result",
          "data": {
            "text/plain": [
              "'y'"
            ],
            "application/vnd.google.colaboratory.intrinsic+json": {
              "type": "string"
            }
          },
          "metadata": {},
          "execution_count": 98
        }
      ]
    },
    {
      "cell_type": "code",
      "source": [
        "s[-1]"
      ],
      "metadata": {
        "colab": {
          "base_uri": "https://localhost:8080/",
          "height": 35
        },
        "id": "iUtJtG3oAunV",
        "outputId": "a2d12ba7-255c-4be7-b2cf-f8a98943368e"
      },
      "execution_count": 100,
      "outputs": [
        {
          "output_type": "execute_result",
          "data": {
            "text/plain": [
              "'g'"
            ],
            "application/vnd.google.colaboratory.intrinsic+json": {
              "type": "string"
            }
          },
          "metadata": {},
          "execution_count": 100
        }
      ]
    },
    {
      "cell_type": "code",
      "source": [
        "s[-2]"
      ],
      "metadata": {
        "colab": {
          "base_uri": "https://localhost:8080/",
          "height": 35
        },
        "id": "ndYViiz2A3Lm",
        "outputId": "bd78bd36-1fb2-49e8-ac7b-ea8ab98b9efc"
      },
      "execution_count": 99,
      "outputs": [
        {
          "output_type": "execute_result",
          "data": {
            "text/plain": [
              "'n'"
            ],
            "application/vnd.google.colaboratory.intrinsic+json": {
              "type": "string"
            }
          },
          "metadata": {},
          "execution_count": 99
        }
      ]
    },
    {
      "cell_type": "code",
      "source": [
        "# strings are an immutable data type\n",
        "s[0] ='w'"
      ],
      "metadata": {
        "colab": {
          "base_uri": "https://localhost:8080/",
          "height": 185
        },
        "id": "1EicOoSuBAL3",
        "outputId": "be3d9266-23ac-451b-f069-157ab73c4f39"
      },
      "execution_count": 101,
      "outputs": [
        {
          "output_type": "error",
          "ename": "TypeError",
          "evalue": "ignored",
          "traceback": [
            "\u001b[0;31m---------------------------------------------------------------------------\u001b[0m",
            "\u001b[0;31mTypeError\u001b[0m                                 Traceback (most recent call last)",
            "\u001b[0;32m<ipython-input-101-e390c507a0dd>\u001b[0m in \u001b[0;36m<module>\u001b[0;34m\u001b[0m\n\u001b[1;32m      1\u001b[0m \u001b[0;31m# strings are an immutable data type\u001b[0m\u001b[0;34m\u001b[0m\u001b[0;34m\u001b[0m\u001b[0m\n\u001b[0;32m----> 2\u001b[0;31m \u001b[0ms\u001b[0m\u001b[0;34m[\u001b[0m\u001b[0;36m0\u001b[0m\u001b[0;34m]\u001b[0m \u001b[0;34m=\u001b[0m\u001b[0;34m'w'\u001b[0m\u001b[0;34m\u001b[0m\u001b[0;34m\u001b[0m\u001b[0m\n\u001b[0m",
            "\u001b[0;31mTypeError\u001b[0m: 'str' object does not support item assignment"
          ]
        }
      ]
    },
    {
      "cell_type": "code",
      "source": [
        "## Lists are a container data type that stores objects or elements in a particular order\n",
        "## Lists in python are defined using square brackets, elements separated with ,\n",
        "\n",
        "a = [1,2,3]\n",
        "type(a)"
      ],
      "metadata": {
        "colab": {
          "base_uri": "https://localhost:8080/"
        },
        "id": "fOKVurxxBJ1e",
        "outputId": "e4f739c2-ccb3-4162-bc24-26f069fc5fd8"
      },
      "execution_count": 102,
      "outputs": [
        {
          "output_type": "execute_result",
          "data": {
            "text/plain": [
              "list"
            ]
          },
          "metadata": {},
          "execution_count": 102
        }
      ]
    },
    {
      "cell_type": "code",
      "source": [
        "# Lists can contain mutiple differnet data types\n",
        "b = [2,5.4,\"a\"]\n",
        "type(b)"
      ],
      "metadata": {
        "colab": {
          "base_uri": "https://localhost:8080/"
        },
        "id": "hHAjqHijByon",
        "outputId": "2086bd68-9801-4afe-bda2-ae9273ce1f4c"
      },
      "execution_count": 103,
      "outputs": [
        {
          "output_type": "execute_result",
          "data": {
            "text/plain": [
              "list"
            ]
          },
          "metadata": {},
          "execution_count": 103
        }
      ]
    },
    {
      "cell_type": "code",
      "source": [
        "# Lists \n",
        "b*5"
      ],
      "metadata": {
        "colab": {
          "base_uri": "https://localhost:8080/"
        },
        "id": "w0rRdqeeB8d3",
        "outputId": "26ef953c-e089-4c11-93b3-144057eb5986"
      },
      "execution_count": 104,
      "outputs": [
        {
          "output_type": "execute_result",
          "data": {
            "text/plain": [
              "[2, 5.4, 'a', 2, 5.4, 'a', 2, 5.4, 'a', 2, 5.4, 'a', 2, 5.4, 'a']"
            ]
          },
          "metadata": {},
          "execution_count": 104
        }
      ]
    },
    {
      "cell_type": "code",
      "source": [
        "[1,2] + [3,4]"
      ],
      "metadata": {
        "colab": {
          "base_uri": "https://localhost:8080/"
        },
        "id": "yv7otFCZCdhl",
        "outputId": "136d1de4-ab5c-42ce-c170-3015bd9b0e58"
      },
      "execution_count": 105,
      "outputs": [
        {
          "output_type": "execute_result",
          "data": {
            "text/plain": [
              "[1, 2, 3, 4]"
            ]
          },
          "metadata": {},
          "execution_count": 105
        }
      ]
    },
    {
      "cell_type": "code",
      "source": [
        "# lists can be indexed \n",
        "m = ['a','b','c','d']\n",
        "m[0]"
      ],
      "metadata": {
        "colab": {
          "base_uri": "https://localhost:8080/",
          "height": 35
        },
        "id": "FpdBgFEGCfwL",
        "outputId": "deed90de-8583-46ab-fb77-d7d3c58f0e9b"
      },
      "execution_count": 106,
      "outputs": [
        {
          "output_type": "execute_result",
          "data": {
            "text/plain": [
              "'a'"
            ],
            "application/vnd.google.colaboratory.intrinsic+json": {
              "type": "string"
            }
          },
          "metadata": {},
          "execution_count": 106
        }
      ]
    },
    {
      "cell_type": "code",
      "source": [
        "m[1]"
      ],
      "metadata": {
        "colab": {
          "base_uri": "https://localhost:8080/",
          "height": 35
        },
        "id": "AdmP7EXSCvsf",
        "outputId": "079f60a2-5f76-4092-870f-30a784f3814a"
      },
      "execution_count": 107,
      "outputs": [
        {
          "output_type": "execute_result",
          "data": {
            "text/plain": [
              "'b'"
            ],
            "application/vnd.google.colaboratory.intrinsic+json": {
              "type": "string"
            }
          },
          "metadata": {},
          "execution_count": 107
        }
      ]
    },
    {
      "cell_type": "code",
      "source": [
        "m[-1]"
      ],
      "metadata": {
        "colab": {
          "base_uri": "https://localhost:8080/",
          "height": 35
        },
        "id": "6_A2ehMjCyX1",
        "outputId": "7cbbcfa7-a478-4ee7-ee63-4b1dc0026275"
      },
      "execution_count": 108,
      "outputs": [
        {
          "output_type": "execute_result",
          "data": {
            "text/plain": [
              "'d'"
            ],
            "application/vnd.google.colaboratory.intrinsic+json": {
              "type": "string"
            }
          },
          "metadata": {},
          "execution_count": 108
        }
      ]
    },
    {
      "cell_type": "code",
      "source": [
        "m[-2]"
      ],
      "metadata": {
        "colab": {
          "base_uri": "https://localhost:8080/",
          "height": 35
        },
        "id": "wKPczzA3C10l",
        "outputId": "06b11008-d36a-4e15-d627-f771627de384"
      },
      "execution_count": 109,
      "outputs": [
        {
          "output_type": "execute_result",
          "data": {
            "text/plain": [
              "'c'"
            ],
            "application/vnd.google.colaboratory.intrinsic+json": {
              "type": "string"
            }
          },
          "metadata": {},
          "execution_count": 109
        }
      ]
    },
    {
      "cell_type": "code",
      "source": [
        "# add a value to a list using .append()\n",
        "m.append('e')\n",
        "print(m)"
      ],
      "metadata": {
        "colab": {
          "base_uri": "https://localhost:8080/"
        },
        "id": "MPiSAqUlC5_G",
        "outputId": "f9caf240-3ba7-4fc3-fba8-e853932ffaa9"
      },
      "execution_count": 110,
      "outputs": [
        {
          "output_type": "stream",
          "name": "stdout",
          "text": [
            "['a', 'b', 'c', 'd', 'e']\n"
          ]
        }
      ]
    },
    {
      "cell_type": "markdown",
      "source": [
        "m.append('e')"
      ],
      "metadata": {
        "id": "tweUuxrXDyZE"
      }
    },
    {
      "cell_type": "code",
      "source": [
        "m.append('e')\n",
        "m"
      ],
      "metadata": {
        "colab": {
          "base_uri": "https://localhost:8080/"
        },
        "id": "gRNYfCzSD1wE",
        "outputId": "24d3e7cf-4eaf-4d9d-82a3-068b8ef2af86"
      },
      "execution_count": 111,
      "outputs": [
        {
          "output_type": "execute_result",
          "data": {
            "text/plain": [
              "['a', 'b', 'c', 'd', 'e', 'e']"
            ]
          },
          "metadata": {},
          "execution_count": 111
        }
      ]
    },
    {
      "cell_type": "code",
      "source": [
        "# pull a value out of a list using .pop()\n",
        "m.pop(-1)\n",
        "print(m)"
      ],
      "metadata": {
        "colab": {
          "base_uri": "https://localhost:8080/"
        },
        "id": "vzplxpSODAYX",
        "outputId": "0721554a-687d-4cf0-e15b-036a24e2fa46"
      },
      "execution_count": 112,
      "outputs": [
        {
          "output_type": "stream",
          "name": "stdout",
          "text": [
            "['a', 'b', 'c', 'd', 'e']\n"
          ]
        }
      ]
    },
    {
      "cell_type": "code",
      "source": [
        "# list are a mutable data type\n",
        "m[-1] = 'f'\n",
        "print(m)"
      ],
      "metadata": {
        "colab": {
          "base_uri": "https://localhost:8080/"
        },
        "id": "cHZO0c59DeDR",
        "outputId": "920cdcd4-16fb-4be3-ac35-70a1dc294f2b"
      },
      "execution_count": 113,
      "outputs": [
        {
          "output_type": "stream",
          "name": "stdout",
          "text": [
            "['a', 'b', 'c', 'd', 'f']\n"
          ]
        }
      ]
    },
    {
      "cell_type": "code",
      "source": [
        "\"me\"[-1] = 'y'"
      ],
      "metadata": {
        "colab": {
          "base_uri": "https://localhost:8080/",
          "height": 168
        },
        "id": "Ji09OtylEO9-",
        "outputId": "a00c93c8-8006-458f-da8a-9a26750bfef8"
      },
      "execution_count": 114,
      "outputs": [
        {
          "output_type": "error",
          "ename": "TypeError",
          "evalue": "ignored",
          "traceback": [
            "\u001b[0;31m---------------------------------------------------------------------------\u001b[0m",
            "\u001b[0;31mTypeError\u001b[0m                                 Traceback (most recent call last)",
            "\u001b[0;32m<ipython-input-114-e71787d11c62>\u001b[0m in \u001b[0;36m<module>\u001b[0;34m\u001b[0m\n\u001b[0;32m----> 1\u001b[0;31m \u001b[0;34m\"me\"\u001b[0m\u001b[0;34m[\u001b[0m\u001b[0;34m-\u001b[0m\u001b[0;36m1\u001b[0m\u001b[0;34m]\u001b[0m \u001b[0;34m=\u001b[0m \u001b[0;34m'y'\u001b[0m\u001b[0;34m\u001b[0m\u001b[0;34m\u001b[0m\u001b[0m\n\u001b[0m",
            "\u001b[0;31mTypeError\u001b[0m: 'str' object does not support item assignment"
          ]
        }
      ]
    },
    {
      "cell_type": "code",
      "source": [
        "s2 = \"my\""
      ],
      "metadata": {
        "id": "FReDL2qpEfEn"
      },
      "execution_count": 115,
      "outputs": []
    },
    {
      "cell_type": "code",
      "source": [
        "print(\"it's a %%%% syntax error\")"
      ],
      "metadata": {
        "colab": {
          "base_uri": "https://localhost:8080/"
        },
        "id": "NQrNCSE4EkaI",
        "outputId": "f827f0fe-1c5f-4f73-8ba7-685e456626de"
      },
      "execution_count": 116,
      "outputs": [
        {
          "output_type": "stream",
          "name": "stdout",
          "text": [
            "it's a %%%% syntax error\n"
          ]
        }
      ]
    },
    {
      "cell_type": "code",
      "source": [
        "a = \"it is an error\""
      ],
      "metadata": {
        "id": "Pdb1oSsGTCB0"
      },
      "execution_count": 117,
      "outputs": []
    },
    {
      "cell_type": "code",
      "source": [
        "print(a)"
      ],
      "metadata": {
        "id": "kyLqLNpHTziw",
        "outputId": "032ee017-c914-4f8e-aec4-ac0a65bc66bb",
        "colab": {
          "base_uri": "https://localhost:8080/"
        }
      },
      "execution_count": 118,
      "outputs": [
        {
          "output_type": "stream",
          "name": "stdout",
          "text": [
            "it is an error\n"
          ]
        }
      ]
    }
  ]
}