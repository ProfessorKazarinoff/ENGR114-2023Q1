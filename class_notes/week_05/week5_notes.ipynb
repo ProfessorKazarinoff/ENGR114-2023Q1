{
 "cells": [
  {
   "cell_type": "markdown",
   "metadata": {},
   "source": [
    "# Week 5 Notes\n",
    "\n",
    "## Exam 1 Review\n",
    "\n",
    "Download an external data file\n",
    "\n",
    "Move the file within the computer's file system to the same location as you will run your jupyter notebook\n",
    "\n",
    "Open a jupyter notebook in the same location as the external data file"
   ]
  },
  {
   "cell_type": "code",
   "execution_count": 1,
   "metadata": {},
   "outputs": [],
   "source": [
    "import numpy as np\n",
    "import pandas as pd\n",
    "import matplotlib.pyplot as plt\n",
    "%matplotlib inline"
   ]
  },
  {
   "cell_type": "code",
   "execution_count": 2,
   "metadata": {},
   "outputs": [
    {
     "name": "stdout",
     "output_type": "stream",
     "text": [
      "grade_data.csv      stress-strain.xlsx  week5_notes.ipynb\r\n"
     ]
    }
   ],
   "source": [
    "# check to see that the external data file is in the same location as this running Jupyter notebook\n",
    "%ls"
   ]
  },
  {
   "cell_type": "code",
   "execution_count": 3,
   "metadata": {},
   "outputs": [
    {
     "data": {
      "text/html": [
       "<div>\n",
       "<style scoped>\n",
       "    .dataframe tbody tr th:only-of-type {\n",
       "        vertical-align: middle;\n",
       "    }\n",
       "\n",
       "    .dataframe tbody tr th {\n",
       "        vertical-align: top;\n",
       "    }\n",
       "\n",
       "    .dataframe thead th {\n",
       "        text-align: right;\n",
       "    }\n",
       "</style>\n",
       "<table border=\"1\" class=\"dataframe\">\n",
       "  <thead>\n",
       "    <tr style=\"text-align: right;\">\n",
       "      <th></th>\n",
       "      <th>0</th>\n",
       "    </tr>\n",
       "  </thead>\n",
       "  <tbody>\n",
       "    <tr>\n",
       "      <th>0</th>\n",
       "      <td>85</td>\n",
       "    </tr>\n",
       "    <tr>\n",
       "      <th>1</th>\n",
       "      <td>79</td>\n",
       "    </tr>\n",
       "    <tr>\n",
       "      <th>2</th>\n",
       "      <td>86</td>\n",
       "    </tr>\n",
       "    <tr>\n",
       "      <th>3</th>\n",
       "      <td>82</td>\n",
       "    </tr>\n",
       "    <tr>\n",
       "      <th>4</th>\n",
       "      <td>73</td>\n",
       "    </tr>\n",
       "  </tbody>\n",
       "</table>\n",
       "</div>"
      ],
      "text/plain": [
       "    0\n",
       "0  85\n",
       "1  79\n",
       "2  86\n",
       "3  82\n",
       "4  73"
      ]
     },
     "execution_count": 3,
     "metadata": {},
     "output_type": "execute_result"
    }
   ],
   "source": [
    "# bring the data into our running Jupyter notebook using pandas\n",
    "# save the data in a pandas dataframe and print out the first 5 rows\n",
    "df = pd.read_csv(\"grade_data.csv\", header=None)\n",
    "df.head()"
   ]
  },
  {
   "cell_type": "code",
   "execution_count": 4,
   "metadata": {},
   "outputs": [
    {
     "name": "stdout",
     "output_type": "stream",
     "text": [
      "<class 'pandas.core.frame.DataFrame'>\n",
      "<class 'numpy.ndarray'>\n"
     ]
    }
   ],
   "source": [
    "# convert the data from a pandas dataframe into a NumPy array\n",
    "print(type(df))\n",
    "gd = np.array(df[0])\n",
    "print(type(gd))"
   ]
  },
  {
   "cell_type": "code",
   "execution_count": 5,
   "metadata": {},
   "outputs": [
    {
     "name": "stdout",
     "output_type": "stream",
     "text": [
      "[85 79 86 82 73 89 83 82 85 83 73 80 80 77 94 74 77 75 72 79 79 93 79 72\n",
      " 94 91 79 69 77 80 83 79 85 84 71 73 75 77 78 81 57 77 91 72 88 84 81 82\n",
      " 68 80 94 82 81 75 81 83 84 78 79 97 63 99 84 89 68 76 79 84 68 85 71 82\n",
      " 86 84 90 89 76 83 73 70 88 81 81 88 86 84 91 88 83 75 76 91 68 81 65 89\n",
      " 88 81 80 61]\n"
     ]
    }
   ],
   "source": [
    "# print out the data in the array\n",
    "print(gd)"
   ]
  },
  {
   "cell_type": "code",
   "execution_count": 6,
   "metadata": {},
   "outputs": [],
   "source": [
    "# calculate meaningful statistics from the data\n",
    "gd_mean = np.mean(gd)\n",
    "gd_median = np.median(gd)\n",
    "gd_low = np.min(gd)\n",
    "gd_high = np.max(gd)\n",
    "gd_spread = gd_high-gd_low"
   ]
  },
  {
   "cell_type": "code",
   "execution_count": 7,
   "metadata": {},
   "outputs": [
    {
     "name": "stdout",
     "output_type": "stream",
     "text": [
      "The mean: 80.45\n",
      "The median: 81.0\n",
      "The low score: 57\n",
      "The high score: 99\n",
      "The score spread: 42\n"
     ]
    }
   ],
   "source": [
    "# print out the statistics to the user using Python's print() function\n",
    "print(f\"The mean: {gd_mean}\")\n",
    "print(f\"The median: {gd_median}\")\n",
    "print(f\"The low score: {gd_low}\")\n",
    "print(f\"The high score: {gd_high}\")\n",
    "print(f\"The score spread: {gd_spread}\")"
   ]
  },
  {
   "cell_type": "code",
   "execution_count": 8,
   "metadata": {},
   "outputs": [
    {
     "data": {
      "image/png": "[encoded data removed]",
      "text/plain": [
       "<Figure size 432x288 with 1 Axes>"
      ]
     },
     "metadata": {
      "needs_background": "light"
     },
     "output_type": "display_data"
    }
   ],
   "source": [
    "# build a plot from the data\n",
    "\n",
    "# data is already in an array\n",
    "\n",
    "# fig, ax\n",
    "fig, ax = plt.subplots()\n",
    "\n",
    "\n",
    "# plot\n",
    "ax.hist(gd)\n",
    "\n",
    "# customizations\n",
    "ax.set_title(\"Histogram of Grades\")\n",
    "ax.set_xlabel(\"Grade Range\")\n",
    "ax.set_ylabel(\"Number of Scores\")\n",
    "ax.legend([\"Grades\"])\n",
    "\n",
    "# show the plot\n",
    "plt.show()"
   ]
  },
  {
   "cell_type": "markdown",
   "metadata": {},
   "source": [
    "## Exam 1 Review Example 2\n",
    "\n",
    "downloaded the data\n",
    "\n",
    "moved the data to the same directory as this running jupyter notebook"
   ]
  },
  {
   "cell_type": "code",
   "execution_count": 9,
   "metadata": {},
   "outputs": [],
   "source": [
    "import numpy as np\n",
    "import pandas as pd\n",
    "import matplotlib.pyplot as plt\n",
    "%matplotlib inline"
   ]
  },
  {
   "cell_type": "code",
   "execution_count": 10,
   "metadata": {},
   "outputs": [
    {
     "name": "stdout",
     "output_type": "stream",
     "text": [
      "grade_data.csv      stress-strain.xlsx  week5_notes.ipynb\r\n"
     ]
    }
   ],
   "source": [
    "# check to see if the data is in the same directory as this jupyter notebook\n",
    "%ls"
   ]
  },
  {
   "cell_type": "code",
   "execution_count": 11,
   "metadata": {},
   "outputs": [
    {
     "data": {
      "text/html": [
       "<div>\n",
       "<style scoped>\n",
       "    .dataframe tbody tr th:only-of-type {\n",
       "        vertical-align: middle;\n",
       "    }\n",
       "\n",
       "    .dataframe tbody tr th {\n",
       "        vertical-align: top;\n",
       "    }\n",
       "\n",
       "    .dataframe thead th {\n",
       "        text-align: right;\n",
       "    }\n",
       "</style>\n",
       "<table border=\"1\" class=\"dataframe\">\n",
       "  <thead>\n",
       "    <tr style=\"text-align: right;\">\n",
       "      <th></th>\n",
       "      <th>0</th>\n",
       "      <th>1</th>\n",
       "      <th>2</th>\n",
       "    </tr>\n",
       "  </thead>\n",
       "  <tbody>\n",
       "    <tr>\n",
       "      <th>53</th>\n",
       "      <td>54</td>\n",
       "      <td>20156.65368</td>\n",
       "      <td>22.436658</td>\n",
       "    </tr>\n",
       "    <tr>\n",
       "      <th>54</th>\n",
       "      <td>55</td>\n",
       "      <td>19737.00480</td>\n",
       "      <td>22.860102</td>\n",
       "    </tr>\n",
       "    <tr>\n",
       "      <th>55</th>\n",
       "      <td>56</td>\n",
       "      <td>19175.09319</td>\n",
       "      <td>23.283291</td>\n",
       "    </tr>\n",
       "    <tr>\n",
       "      <th>56</th>\n",
       "      <td>57</td>\n",
       "      <td>18408.50040</td>\n",
       "      <td>23.706582</td>\n",
       "    </tr>\n",
       "    <tr>\n",
       "      <th>57</th>\n",
       "      <td>58</td>\n",
       "      <td>17301.29612</td>\n",
       "      <td>24.129975</td>\n",
       "    </tr>\n",
       "  </tbody>\n",
       "</table>\n",
       "</div>"
      ],
      "text/plain": [
       "     0            1          2\n",
       "53  54  20156.65368  22.436658\n",
       "54  55  19737.00480  22.860102\n",
       "55  56  19175.09319  23.283291\n",
       "56  57  18408.50040  23.706582\n",
       "57  58  17301.29612  24.129975"
      ]
     },
     "execution_count": 11,
     "metadata": {},
     "output_type": "execute_result"
    }
   ],
   "source": [
    "# import the data into a pandas dataframe\n",
    "\n",
    "df = pd.read_excel(\"stress-strain.xlsx\", header=None)\n",
    "df.tail()"
   ]
  },
  {
   "cell_type": "code",
   "execution_count": 12,
   "metadata": {},
   "outputs": [],
   "source": [
    "# convert the data from a pandas dataframe into a NumPy array\n",
    "td = np.array(df)\n",
    "# print(td)"
   ]
  },
  {
   "cell_type": "code",
   "execution_count": 13,
   "metadata": {},
   "outputs": [],
   "source": [
    "# Pull out the force column and save to a variable f\n",
    "# and pull out the extension column and save it to a variable ex\n",
    "f = td[:,1]\n",
    "ex = td[:,2]"
   ]
  },
  {
   "cell_type": "code",
   "execution_count": 14,
   "metadata": {},
   "outputs": [],
   "source": [
    "# pull out some statistics\n",
    "f_max = np.max(f)\n",
    "f_frac = f[-1]   # force at fracture is the very last force value\n",
    "ex_max = np.max(ex)\n",
    "f_range = np.max(f) - np.min(f)"
   ]
  },
  {
   "cell_type": "code",
   "execution_count": 15,
   "metadata": {},
   "outputs": [
    {
     "name": "stdout",
     "output_type": "stream",
     "text": [
      "The maximum force: 20979.50083\n",
      "The force at fracture: 17301.29612\n",
      "The maximum extension: 24.1299746\n",
      "The range of force: 20741.740310200003\n"
     ]
    }
   ],
   "source": [
    "# print out the statistics as Python f-strings\n",
    "print(f\"The maximum force: {f_max}\")\n",
    "print(f\"The force at fracture: {f_frac}\")\n",
    "print(f\"The maximum extension: {ex_max}\")\n",
    "print(f\"The range of force: {f_range}\")"
   ]
  },
  {
   "cell_type": "code",
   "execution_count": 16,
   "metadata": {},
   "outputs": [
    {
     "data": {
      "image/png": "[encoded data removed]",
      "text/plain": [
       "<Figure size 432x288 with 1 Axes>"
      ]
     },
     "metadata": {
      "needs_background": "light"
     },
     "output_type": "display_data"
    }
   ],
   "source": [
    "# build a plot\n",
    "\n",
    "# data (already have it in variables f and ex)\n",
    "\n",
    "# fig, ax\n",
    "fig, ax = plt.subplots()\n",
    "\n",
    "# plot\n",
    "ax.plot(ex,f)\n",
    "\n",
    "# customizations\n",
    "ax.set_title(\"Force vs. Extension Curve\")\n",
    "ax.set_xlabel(\"Extension (%)\")\n",
    "ax.set_ylabel(\"Force (lb)\")\n",
    "ax.legend([\"force for a ductile metal\"])\n",
    "\n",
    "# show the plot\n",
    "plt.show()"
   ]
  },
  {
   "cell_type": "code",
   "execution_count": null,
   "metadata": {},
   "outputs": [],
   "source": []
  }
 ],
 "metadata": {
  "kernelspec": {
   "display_name": "Python 3",
   "language": "python",
   "name": "python3"
  },
  "language_info": {
   "codemirror_mode": {
    "name": "ipython",
    "version": 3
   },
   "file_extension": ".py",
   "mimetype": "text/x-python",
   "name": "python",
   "nbconvert_exporter": "python",
   "pygments_lexer": "ipython3",
   "version": "3.7.4"
  }
 },
 "nbformat": 4,
 "nbformat_minor": 5
}
