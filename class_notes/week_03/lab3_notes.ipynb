{
 "cells": [
  {
   "cell_type": "markdown",
   "id": "5d1c9e8b",
   "metadata": {},
   "source": [
    "# Lab 3 Sifting Weather Data\n",
    "\n",
    " * Name: Class Notes\n",
    " * Date: 2022-10-13\n",
    " * Course and Quater: ENGR114 Fall 2022"
   ]
  },
  {
   "cell_type": "code",
   "execution_count": 1,
   "id": "6963eab4",
   "metadata": {},
   "outputs": [],
   "source": [
    "import numpy as np\n",
    "import pandas as pd"
   ]
  },
  {
   "cell_type": "code",
   "execution_count": 2,
   "id": "baebe562",
   "metadata": {},
   "outputs": [
    {
     "name": "stdout",
     "output_type": "stream",
     "text": [
      "cat_in_hat_words.txt\r\n",
      "lab3_notes.ipynb\r\n",
      "lab_03_notes.ipynb\r\n",
      "weather_data.xlsx\r\n",
      "week_03_notes.ipynb\r\n",
      "week_03_notes_outline.ipynb\r\n",
      "week_03_notes_review_arrays_and_lists.ipynb\r\n"
     ]
    }
   ],
   "source": [
    "# make sure the weather_data.xlsx file is\n",
    "# in the same directory as this running Jupyter notebook\n",
    "%ls"
   ]
  },
  {
   "cell_type": "code",
   "execution_count": 3,
   "id": "fd8c3632",
   "metadata": {},
   "outputs": [],
   "source": [
    "# import the weather_data.xlsx as a pandas dataframe, df\n",
    "df = pd.read_excel(\"weather_data.xlsx\", header=None)"
   ]
  },
  {
   "cell_type": "code",
   "execution_count": 4,
   "id": "bd89fd75",
   "metadata": {},
   "outputs": [
    {
     "name": "stdout",
     "output_type": "stream",
     "text": [
      "(12, 31)\n"
     ]
    },
    {
     "data": {
      "text/html": [
       "<div>\n",
       "<style scoped>\n",
       "    .dataframe tbody tr th:only-of-type {\n",
       "        vertical-align: middle;\n",
       "    }\n",
       "\n",
       "    .dataframe tbody tr th {\n",
       "        vertical-align: top;\n",
       "    }\n",
       "\n",
       "    .dataframe thead th {\n",
       "        text-align: right;\n",
       "    }\n",
       "</style>\n",
       "<table border=\"1\" class=\"dataframe\">\n",
       "  <thead>\n",
       "    <tr style=\"text-align: right;\">\n",
       "      <th></th>\n",
       "      <th>0</th>\n",
       "      <th>1</th>\n",
       "      <th>2</th>\n",
       "      <th>3</th>\n",
       "      <th>4</th>\n",
       "      <th>5</th>\n",
       "      <th>6</th>\n",
       "      <th>7</th>\n",
       "      <th>8</th>\n",
       "      <th>9</th>\n",
       "      <th>...</th>\n",
       "      <th>21</th>\n",
       "      <th>22</th>\n",
       "      <th>23</th>\n",
       "      <th>24</th>\n",
       "      <th>25</th>\n",
       "      <th>26</th>\n",
       "      <th>27</th>\n",
       "      <th>28</th>\n",
       "      <th>29</th>\n",
       "      <th>30</th>\n",
       "    </tr>\n",
       "  </thead>\n",
       "  <tbody>\n",
       "    <tr>\n",
       "      <th>0</th>\n",
       "      <td>0</td>\n",
       "      <td>0</td>\n",
       "      <td>272</td>\n",
       "      <td>0</td>\n",
       "      <td>0</td>\n",
       "      <td>0</td>\n",
       "      <td>0</td>\n",
       "      <td>9</td>\n",
       "      <td>26</td>\n",
       "      <td>1</td>\n",
       "      <td>...</td>\n",
       "      <td>1</td>\n",
       "      <td>15</td>\n",
       "      <td>224</td>\n",
       "      <td>0</td>\n",
       "      <td>0</td>\n",
       "      <td>0</td>\n",
       "      <td>0</td>\n",
       "      <td>0</td>\n",
       "      <td>33</td>\n",
       "      <td>33</td>\n",
       "    </tr>\n",
       "    <tr>\n",
       "      <th>1</th>\n",
       "      <td>61</td>\n",
       "      <td>103</td>\n",
       "      <td>0</td>\n",
       "      <td>2</td>\n",
       "      <td>0</td>\n",
       "      <td>0</td>\n",
       "      <td>0</td>\n",
       "      <td>2</td>\n",
       "      <td>0</td>\n",
       "      <td>68</td>\n",
       "      <td>...</td>\n",
       "      <td>0</td>\n",
       "      <td>0</td>\n",
       "      <td>5</td>\n",
       "      <td>0</td>\n",
       "      <td>0</td>\n",
       "      <td>0</td>\n",
       "      <td>62</td>\n",
       "      <td>-99999</td>\n",
       "      <td>-99999</td>\n",
       "      <td>-99999</td>\n",
       "    </tr>\n",
       "    <tr>\n",
       "      <th>2</th>\n",
       "      <td>2</td>\n",
       "      <td>0</td>\n",
       "      <td>17</td>\n",
       "      <td>27</td>\n",
       "      <td>0</td>\n",
       "      <td>10</td>\n",
       "      <td>0</td>\n",
       "      <td>0</td>\n",
       "      <td>30</td>\n",
       "      <td>25</td>\n",
       "      <td>...</td>\n",
       "      <td>26</td>\n",
       "      <td>0</td>\n",
       "      <td>0</td>\n",
       "      <td>9</td>\n",
       "      <td>6</td>\n",
       "      <td>78</td>\n",
       "      <td>0</td>\n",
       "      <td>5</td>\n",
       "      <td>8</td>\n",
       "      <td>0</td>\n",
       "    </tr>\n",
       "    <tr>\n",
       "      <th>3</th>\n",
       "      <td>260</td>\n",
       "      <td>1</td>\n",
       "      <td>0</td>\n",
       "      <td>0</td>\n",
       "      <td>0</td>\n",
       "      <td>1</td>\n",
       "      <td>3</td>\n",
       "      <td>0</td>\n",
       "      <td>5</td>\n",
       "      <td>0</td>\n",
       "      <td>...</td>\n",
       "      <td>0</td>\n",
       "      <td>0</td>\n",
       "      <td>0</td>\n",
       "      <td>0</td>\n",
       "      <td>9</td>\n",
       "      <td>35</td>\n",
       "      <td>13</td>\n",
       "      <td>86</td>\n",
       "      <td>0</td>\n",
       "      <td>-99999</td>\n",
       "    </tr>\n",
       "    <tr>\n",
       "      <th>4</th>\n",
       "      <td>47</td>\n",
       "      <td>0</td>\n",
       "      <td>0</td>\n",
       "      <td>0</td>\n",
       "      <td>5</td>\n",
       "      <td>115</td>\n",
       "      <td>49</td>\n",
       "      <td>81</td>\n",
       "      <td>0</td>\n",
       "      <td>0</td>\n",
       "      <td>...</td>\n",
       "      <td>0</td>\n",
       "      <td>0</td>\n",
       "      <td>0</td>\n",
       "      <td>0</td>\n",
       "      <td>0</td>\n",
       "      <td>2</td>\n",
       "      <td>0</td>\n",
       "      <td>0</td>\n",
       "      <td>0</td>\n",
       "      <td>0</td>\n",
       "    </tr>\n",
       "    <tr>\n",
       "      <th>5</th>\n",
       "      <td>0</td>\n",
       "      <td>0</td>\n",
       "      <td>30</td>\n",
       "      <td>42</td>\n",
       "      <td>0</td>\n",
       "      <td>0</td>\n",
       "      <td>0</td>\n",
       "      <td>0</td>\n",
       "      <td>0</td>\n",
       "      <td>0</td>\n",
       "      <td>...</td>\n",
       "      <td>0</td>\n",
       "      <td>2</td>\n",
       "      <td>2</td>\n",
       "      <td>240</td>\n",
       "      <td>16</td>\n",
       "      <td>35</td>\n",
       "      <td>14</td>\n",
       "      <td>14</td>\n",
       "      <td>8</td>\n",
       "      <td>-99999</td>\n",
       "    </tr>\n",
       "    <tr>\n",
       "      <th>6</th>\n",
       "      <td>0</td>\n",
       "      <td>0</td>\n",
       "      <td>0</td>\n",
       "      <td>0</td>\n",
       "      <td>0</td>\n",
       "      <td>0</td>\n",
       "      <td>0</td>\n",
       "      <td>7</td>\n",
       "      <td>0</td>\n",
       "      <td>0</td>\n",
       "      <td>...</td>\n",
       "      <td>0</td>\n",
       "      <td>0</td>\n",
       "      <td>0</td>\n",
       "      <td>10</td>\n",
       "      <td>0</td>\n",
       "      <td>0</td>\n",
       "      <td>5</td>\n",
       "      <td>0</td>\n",
       "      <td>0</td>\n",
       "      <td>0</td>\n",
       "    </tr>\n",
       "    <tr>\n",
       "      <th>7</th>\n",
       "      <td>0</td>\n",
       "      <td>45</td>\n",
       "      <td>0</td>\n",
       "      <td>0</td>\n",
       "      <td>0</td>\n",
       "      <td>0</td>\n",
       "      <td>0</td>\n",
       "      <td>0</td>\n",
       "      <td>5</td>\n",
       "      <td>0</td>\n",
       "      <td>...</td>\n",
       "      <td>0</td>\n",
       "      <td>0</td>\n",
       "      <td>158</td>\n",
       "      <td>62</td>\n",
       "      <td>1</td>\n",
       "      <td>0</td>\n",
       "      <td>0</td>\n",
       "      <td>0</td>\n",
       "      <td>0</td>\n",
       "      <td>0</td>\n",
       "    </tr>\n",
       "    <tr>\n",
       "      <th>8</th>\n",
       "      <td>0</td>\n",
       "      <td>0</td>\n",
       "      <td>0</td>\n",
       "      <td>0</td>\n",
       "      <td>0</td>\n",
       "      <td>0</td>\n",
       "      <td>0</td>\n",
       "      <td>0</td>\n",
       "      <td>0</td>\n",
       "      <td>0</td>\n",
       "      <td>...</td>\n",
       "      <td>37</td>\n",
       "      <td>0</td>\n",
       "      <td>0</td>\n",
       "      <td>0</td>\n",
       "      <td>0</td>\n",
       "      <td>6</td>\n",
       "      <td>138</td>\n",
       "      <td>58</td>\n",
       "      <td>10</td>\n",
       "      <td>-99999</td>\n",
       "    </tr>\n",
       "    <tr>\n",
       "      <th>9</th>\n",
       "      <td>0</td>\n",
       "      <td>0</td>\n",
       "      <td>0</td>\n",
       "      <td>14</td>\n",
       "      <td>156</td>\n",
       "      <td>0</td>\n",
       "      <td>0</td>\n",
       "      <td>0</td>\n",
       "      <td>0</td>\n",
       "      <td>110</td>\n",
       "      <td>...</td>\n",
       "      <td>0</td>\n",
       "      <td>0</td>\n",
       "      <td>0</td>\n",
       "      <td>0</td>\n",
       "      <td>0</td>\n",
       "      <td>0</td>\n",
       "      <td>0</td>\n",
       "      <td>0</td>\n",
       "      <td>0</td>\n",
       "      <td>1</td>\n",
       "    </tr>\n",
       "    <tr>\n",
       "      <th>10</th>\n",
       "      <td>1</td>\n",
       "      <td>163</td>\n",
       "      <td>5</td>\n",
       "      <td>0</td>\n",
       "      <td>0</td>\n",
       "      <td>0</td>\n",
       "      <td>0</td>\n",
       "      <td>0</td>\n",
       "      <td>0</td>\n",
       "      <td>0</td>\n",
       "      <td>...</td>\n",
       "      <td>0</td>\n",
       "      <td>2</td>\n",
       "      <td>2</td>\n",
       "      <td>10</td>\n",
       "      <td>255</td>\n",
       "      <td>2</td>\n",
       "      <td>0</td>\n",
       "      <td>0</td>\n",
       "      <td>0</td>\n",
       "      <td>-99999</td>\n",
       "    </tr>\n",
       "    <tr>\n",
       "      <th>11</th>\n",
       "      <td>0</td>\n",
       "      <td>0</td>\n",
       "      <td>0</td>\n",
       "      <td>0</td>\n",
       "      <td>0</td>\n",
       "      <td>45</td>\n",
       "      <td>0</td>\n",
       "      <td>0</td>\n",
       "      <td>0</td>\n",
       "      <td>15</td>\n",
       "      <td>...</td>\n",
       "      <td>34</td>\n",
       "      <td>0</td>\n",
       "      <td>0</td>\n",
       "      <td>0</td>\n",
       "      <td>0</td>\n",
       "      <td>0</td>\n",
       "      <td>0</td>\n",
       "      <td>0</td>\n",
       "      <td>0</td>\n",
       "      <td>0</td>\n",
       "    </tr>\n",
       "  </tbody>\n",
       "</table>\n",
       "<p>12 rows × 31 columns</p>\n",
       "</div>"
      ],
      "text/plain": [
       "     0    1    2   3    4    5   6   7   8    9   ...  21  22   23   24   25  \\\n",
       "0     0    0  272   0    0    0   0   9  26    1  ...   1  15  224    0    0   \n",
       "1    61  103    0   2    0    0   0   2   0   68  ...   0   0    5    0    0   \n",
       "2     2    0   17  27    0   10   0   0  30   25  ...  26   0    0    9    6   \n",
       "3   260    1    0   0    0    1   3   0   5    0  ...   0   0    0    0    9   \n",
       "4    47    0    0   0    5  115  49  81   0    0  ...   0   0    0    0    0   \n",
       "5     0    0   30  42    0    0   0   0   0    0  ...   0   2    2  240   16   \n",
       "6     0    0    0   0    0    0   0   7   0    0  ...   0   0    0   10    0   \n",
       "7     0   45    0   0    0    0   0   0   5    0  ...   0   0  158   62    1   \n",
       "8     0    0    0   0    0    0   0   0   0    0  ...  37   0    0    0    0   \n",
       "9     0    0    0  14  156    0   0   0   0  110  ...   0   0    0    0    0   \n",
       "10    1  163    5   0    0    0   0   0   0    0  ...   0   2    2   10  255   \n",
       "11    0    0    0   0    0   45   0   0   0   15  ...  34   0    0    0    0   \n",
       "\n",
       "    26   27     28     29     30  \n",
       "0    0    0      0     33     33  \n",
       "1    0   62 -99999 -99999 -99999  \n",
       "2   78    0      5      8      0  \n",
       "3   35   13     86      0 -99999  \n",
       "4    2    0      0      0      0  \n",
       "5   35   14     14      8 -99999  \n",
       "6    0    5      0      0      0  \n",
       "7    0    0      0      0      0  \n",
       "8    6  138     58     10 -99999  \n",
       "9    0    0      0      0      1  \n",
       "10   2    0      0      0 -99999  \n",
       "11   0    0      0      0      0  \n",
       "\n",
       "[12 rows x 31 columns]"
      ]
     },
     "execution_count": 4,
     "metadata": {},
     "output_type": "execute_result"
    }
   ],
   "source": [
    "# find the shape of the data frame and take a look at the data\n",
    "print(df.shape)\n",
    "df"
   ]
  },
  {
   "cell_type": "code",
   "execution_count": 5,
   "id": "81b1dfb5",
   "metadata": {},
   "outputs": [
    {
     "data": {
      "text/plain": [
       "pandas.core.frame.DataFrame"
      ]
     },
     "execution_count": 5,
     "metadata": {},
     "output_type": "execute_result"
    }
   ],
   "source": [
    "# what variable type is the variable df?\n",
    "type(df)"
   ]
  },
  {
   "cell_type": "code",
   "execution_count": 6,
   "id": "0c34447a",
   "metadata": {},
   "outputs": [
    {
     "data": {
      "text/plain": [
       "numpy.ndarray"
      ]
     },
     "execution_count": 6,
     "metadata": {},
     "output_type": "execute_result"
    }
   ],
   "source": [
    "# convert the DataFrame into a NumPy array\n",
    "wd = np.array(df)\n",
    "type(wd)"
   ]
  },
  {
   "cell_type": "code",
   "execution_count": 7,
   "id": "d3f98cec",
   "metadata": {},
   "outputs": [
    {
     "data": {
      "text/plain": [
       "(12, 31)"
      ]
     },
     "execution_count": 7,
     "metadata": {},
     "output_type": "execute_result"
    }
   ],
   "source": [
    "# make sure the array is 12 rows and 31 cols\n",
    "wd.shape"
   ]
  },
  {
   "cell_type": "code",
   "execution_count": 8,
   "id": "00c50468",
   "metadata": {},
   "outputs": [],
   "source": [
    "# convert the data from 100ths of an inch to inches\n",
    "wd = wd*0.01"
   ]
  },
  {
   "cell_type": "code",
   "execution_count": 9,
   "id": "c5ff22a2",
   "metadata": {},
   "outputs": [
    {
     "name": "stdout",
     "output_type": "stream",
     "text": [
      "[ 6.1000e-01  1.0300e+00  0.0000e+00  2.0000e-02  0.0000e+00  0.0000e+00\n",
      "  0.0000e+00  2.0000e-02  0.0000e+00  6.8000e-01  3.0000e-02  3.0000e-02\n",
      "  1.0000e-02  0.0000e+00  0.0000e+00  0.0000e+00  1.0000e-02  1.3500e+00\n",
      "  3.0000e-02  6.6000e-01  0.0000e+00  0.0000e+00  0.0000e+00  5.0000e-02\n",
      "  0.0000e+00  0.0000e+00  0.0000e+00  6.2000e-01 -9.9999e+02 -9.9999e+02\n",
      " -9.9999e+02]\n"
     ]
    }
   ],
   "source": [
    "# set the month as February, row index 1\n",
    "m = 1\n",
    "md = wd[m,:]   # row according to month, all columns\n",
    "print(md)"
   ]
  },
  {
   "cell_type": "code",
   "execution_count": 10,
   "id": "8e030938",
   "metadata": {},
   "outputs": [
    {
     "name": "stdout",
     "output_type": "stream",
     "text": [
      "[0.61 1.03 0.   0.02 0.   0.   0.   0.02 0.   0.68 0.03 0.03 0.01 0.\n",
      " 0.   0.   0.01 1.35 0.03 0.66 0.   0.   0.   0.05 0.   0.   0.   0.62]\n"
     ]
    }
   ],
   "source": [
    "# use a mask to remove the -9.9999 values, that don't represent rainfall\n",
    "mask = md>-1\n",
    "md = md[mask]\n",
    "print(md)"
   ]
  },
  {
   "cell_type": "markdown",
   "id": "8280b3de",
   "metadata": {},
   "source": [
    "### Compute weather statistics"
   ]
  },
  {
   "cell_type": "code",
   "execution_count": 11,
   "id": "4c8d1628",
   "metadata": {},
   "outputs": [
    {
     "name": "stdout",
     "output_type": "stream",
     "text": [
      "The days of the month with zero rain were: [ 3  5  6  7  9 14 15 16 21 22 23 25 26 27]\n"
     ]
    }
   ],
   "source": [
    "# d_zero: day(s) of month m in which zero inches fell\n",
    "locs = np.where(md==0)\n",
    "d_zero = locs[0]+1     # need to pull out the index zero value from the tuple\n",
    "print(\"The days of the month with zero rain were:\",d_zero)"
   ]
  },
  {
   "cell_type": "code",
   "execution_count": null,
   "id": "6b7201a7",
   "metadata": {},
   "outputs": [],
   "source": []
  }
 ],
 "metadata": {
  "kernelspec": {
   "display_name": "Python 3 (ipykernel)",
   "language": "python",
   "name": "python3"
  },
  "language_info": {
   "codemirror_mode": {
    "name": "ipython",
    "version": 3
   },
   "file_extension": ".py",
   "mimetype": "text/x-python",
   "name": "python",
   "nbconvert_exporter": "python",
   "pygments_lexer": "ipython3",
   "version": "3.9.7"
  }
 },
 "nbformat": 4,
 "nbformat_minor": 5
}
