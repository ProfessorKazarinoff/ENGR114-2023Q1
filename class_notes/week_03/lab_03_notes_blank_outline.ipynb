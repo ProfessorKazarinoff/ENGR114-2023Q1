{
 "cells": [
  {
   "cell_type": "markdown",
   "id": "dd9c038b",
   "metadata": {},
   "source": [
    "# Lab 03 Notes"
   ]
  },
  {
   "cell_type": "markdown",
   "id": "cb357145",
   "metadata": {},
   "source": [
    "## Review of Python's print function"
   ]
  },
  {
   "cell_type": "code",
   "execution_count": null,
   "id": "bf40912b",
   "metadata": {},
   "outputs": [],
   "source": []
  },
  {
   "cell_type": "code",
   "execution_count": null,
   "id": "ad691b54",
   "metadata": {},
   "outputs": [],
   "source": []
  },
  {
   "cell_type": "code",
   "execution_count": null,
   "id": "01c7763d",
   "metadata": {},
   "outputs": [],
   "source": []
  },
  {
   "cell_type": "markdown",
   "id": "6e6443c1",
   "metadata": {},
   "source": [
    "## Python f-strings"
   ]
  },
  {
   "cell_type": "code",
   "execution_count": null,
   "id": "2b1eeb15",
   "metadata": {},
   "outputs": [],
   "source": []
  },
  {
   "cell_type": "code",
   "execution_count": null,
   "id": "3fe39dd7",
   "metadata": {},
   "outputs": [],
   "source": []
  },
  {
   "cell_type": "code",
   "execution_count": null,
   "id": "f5bf5ca1",
   "metadata": {},
   "outputs": [],
   "source": []
  },
  {
   "cell_type": "markdown",
   "id": "ae688393",
   "metadata": {},
   "source": [
    "## Review of indexing, slicing arrays"
   ]
  },
  {
   "cell_type": "code",
   "execution_count": null,
   "id": "c3fabbb3",
   "metadata": {},
   "outputs": [],
   "source": []
  },
  {
   "cell_type": "code",
   "execution_count": null,
   "id": "03647f60",
   "metadata": {},
   "outputs": [],
   "source": []
  },
  {
   "cell_type": "code",
   "execution_count": null,
   "id": "c15b0eba",
   "metadata": {},
   "outputs": [],
   "source": []
  },
  {
   "cell_type": "markdown",
   "id": "f2705e76",
   "metadata": {},
   "source": [
    "## Review of masking arrays"
   ]
  },
  {
   "cell_type": "code",
   "execution_count": null,
   "id": "78f5b167",
   "metadata": {},
   "outputs": [],
   "source": []
  },
  {
   "cell_type": "code",
   "execution_count": null,
   "id": "9eee8d6d",
   "metadata": {},
   "outputs": [],
   "source": []
  },
  {
   "cell_type": "code",
   "execution_count": null,
   "id": "6f27d686",
   "metadata": {},
   "outputs": [],
   "source": []
  }
 ],
 "metadata": {
  "kernelspec": {
   "display_name": "Python 3 (ipykernel)",
   "language": "python",
   "name": "python3"
  },
  "language_info": {
   "codemirror_mode": {
    "name": "ipython",
    "version": 3
   },
   "file_extension": ".py",
   "mimetype": "text/x-python",
   "name": "python",
   "nbconvert_exporter": "python",
   "pygments_lexer": "ipython3",
   "version": "3.9.7"
  }
 },
 "nbformat": 4,
 "nbformat_minor": 5
}
