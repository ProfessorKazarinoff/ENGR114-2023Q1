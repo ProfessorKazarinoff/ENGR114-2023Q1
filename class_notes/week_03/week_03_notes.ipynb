{
 "cells": [
  {
   "cell_type": "markdown",
   "metadata": {},
   "source": [
    "# Week 3 - NumPy and Arrays¶\n",
    "\n",
    "### NumPy is a Python package for numerical computing. The core NumPy data type is the homogeneous array.\n",
    "\n",
    "### Built-in functions in Python don't have to be 'imported' before use"
   ]
  },
  {
   "cell_type": "code",
   "execution_count": 1,
   "metadata": {},
   "outputs": [
    {
     "data": {
      "text/plain": [
       "int"
      ]
     },
     "execution_count": 1,
     "metadata": {},
     "output_type": "execute_result"
    }
   ],
   "source": [
    "a=5\n",
    "type(a) # Python's type() function is built-in and does not need to be imported before it is called"
   ]
  },
  {
   "cell_type": "code",
   "execution_count": 2,
   "metadata": {},
   "outputs": [
    {
     "data": {
      "text/plain": [
       "str"
      ]
     },
     "execution_count": 2,
     "metadata": {},
     "output_type": "execute_result"
    }
   ],
   "source": [
    "b=\"NumPy and Arrays\"\n",
    "type(b)"
   ]
  },
  {
   "cell_type": "code",
   "execution_count": 3,
   "metadata": {},
   "outputs": [
    {
     "name": "stdout",
     "output_type": "stream",
     "text": [
      "What is your name? Peter\n",
      "Your name is: Peter\n"
     ]
    }
   ],
   "source": [
    "name = input(\"What is your name? \")    # the input() function is built-in\n",
    "print(\"Your name is:\",name)"
   ]
  },
  {
   "cell_type": "code",
   "execution_count": 4,
   "metadata": {},
   "outputs": [
    {
     "name": "stdout",
     "output_type": "stream",
     "text": [
      "What number of month is it?10\n",
      "Next month is number: 11\n"
     ]
    }
   ],
   "source": [
    "n_month = input(\"What number of month is it?\")  # Python's input function always returns a string\n",
    "print(\"Next month is number:\",int(n_month)+1)"
   ]
  },
  {
   "cell_type": "code",
   "execution_count": 5,
   "metadata": {},
   "outputs": [
    {
     "name": "stdout",
     "output_type": "stream",
     "text": [
      "enter something:2\n"
     ]
    },
    {
     "data": {
      "text/plain": [
       "'2'"
      ]
     },
     "execution_count": 5,
     "metadata": {},
     "output_type": "execute_result"
    }
   ],
   "source": [
    "input(\"enter something:\")    # a code cell that runs Python's input() function must \"complete\" before another code cell is run"
   ]
  },
  {
   "cell_type": "code",
   "execution_count": 6,
   "metadata": {},
   "outputs": [
    {
     "data": {
      "text/plain": [
       "4"
      ]
     },
     "execution_count": 6,
     "metadata": {},
     "output_type": "execute_result"
    }
   ],
   "source": [
    "2+2"
   ]
  },
  {
   "cell_type": "markdown",
   "metadata": {},
   "source": [
    "### Some functions are part of the Python Standard Library, but not built-in\n",
    "\n",
    "### These functions come with every Python installation, but must be imported before they are used"
   ]
  },
  {
   "cell_type": "code",
   "execution_count": 7,
   "metadata": {},
   "outputs": [
    {
     "data": {
      "text/plain": [
       "-0.9880316240928618"
      ]
     },
     "execution_count": 7,
     "metadata": {},
     "output_type": "execute_result"
    }
   ],
   "source": [
    "from math import sin\n",
    "sin(30)  # sine of 30 radians"
   ]
  },
  {
   "cell_type": "code",
   "execution_count": 8,
   "metadata": {},
   "outputs": [
    {
     "name": "stdout",
     "output_type": "stream",
     "text": [
      "6.123233995736766e-17\n",
      "0.9999999999999999\n"
     ]
    }
   ],
   "source": [
    "from math import cos, tan, pi\n",
    "print(cos(pi/2))\n",
    "print(tan(pi/4))"
   ]
  },
  {
   "cell_type": "code",
   "execution_count": 9,
   "metadata": {},
   "outputs": [
    {
     "data": {
      "text/plain": [
       "9.833333333333334"
      ]
     },
     "execution_count": 9,
     "metadata": {},
     "output_type": "execute_result"
    }
   ],
   "source": [
    "from statistics import mean\n",
    "a = [13,8,7,9,12,10]\n",
    "mean(a)"
   ]
  },
  {
   "cell_type": "markdown",
   "metadata": {},
   "source": [
    "### Functions in external packages like NumPy and Pandas need to be installed before they can be used. If using just Python, would need to install the NumPy and Pandas package first with pip install command.¶\n",
    "\n",
    "### In the Anaconda distribution of Python , these external packages come pre-installed, so we can directly import them"
   ]
  },
  {
   "cell_type": "code",
   "execution_count": 13,
   "metadata": {},
   "outputs": [],
   "source": [
    "import numpy as np   # typical import"
   ]
  },
  {
   "cell_type": "code",
   "execution_count": 14,
   "metadata": {},
   "outputs": [
    {
     "data": {
      "text/plain": [
       "'1.21.2'"
      ]
     },
     "execution_count": 14,
     "metadata": {},
     "output_type": "execute_result"
    }
   ],
   "source": [
    "np.__version__     # the .__version__ attribute is common to many Python packages"
   ]
  },
  {
   "cell_type": "code",
   "execution_count": 15,
   "metadata": {},
   "outputs": [
    {
     "name": "stdout",
     "output_type": "stream",
     "text": [
      "[1 2 3]\n"
     ]
    }
   ],
   "source": [
    "a = np.array([1,2,3])\n",
    "print(a)"
   ]
  },
  {
   "cell_type": "code",
   "execution_count": 17,
   "metadata": {},
   "outputs": [],
   "source": [
    "import numpy     # functional, but not the typical way NumPy is imported"
   ]
  },
  {
   "cell_type": "code",
   "execution_count": 18,
   "metadata": {},
   "outputs": [
    {
     "data": {
      "text/plain": [
       "'1.21.2'"
      ]
     },
     "execution_count": 18,
     "metadata": {},
     "output_type": "execute_result"
    }
   ],
   "source": [
    "numpy.__version__"
   ]
  },
  {
   "cell_type": "code",
   "execution_count": 19,
   "metadata": {},
   "outputs": [
    {
     "name": "stdout",
     "output_type": "stream",
     "text": [
      "[1 2 3]\n"
     ]
    },
    {
     "data": {
      "text/plain": [
       "numpy.ndarray"
      ]
     },
     "execution_count": 19,
     "metadata": {},
     "output_type": "execute_result"
    }
   ],
   "source": [
    "b = numpy.array([1,2,3])\n",
    "print(b)\n",
    "type(b)"
   ]
  },
  {
   "cell_type": "code",
   "execution_count": 22,
   "metadata": {},
   "outputs": [],
   "source": [
    "from math import sin as mysine    # the alias mysine() can now be called. mysine will call the sin() function."
   ]
  },
  {
   "cell_type": "code",
   "execution_count": 23,
   "metadata": {},
   "outputs": [
    {
     "data": {
      "text/plain": [
       "-0.9880316240928618"
      ]
     },
     "execution_count": 23,
     "metadata": {},
     "output_type": "execute_result"
    }
   ],
   "source": [
    "mysine(30)"
   ]
  },
  {
   "cell_type": "code",
   "execution_count": 24,
   "metadata": {},
   "outputs": [],
   "source": [
    "import math"
   ]
  },
  {
   "cell_type": "code",
   "execution_count": 25,
   "metadata": {},
   "outputs": [
    {
     "data": {
      "text/plain": [
       "-0.9880316240928618"
      ]
     },
     "execution_count": 25,
     "metadata": {},
     "output_type": "execute_result"
    }
   ],
   "source": [
    "math.sin(30)"
   ]
  },
  {
   "cell_type": "code",
   "execution_count": 26,
   "metadata": {},
   "outputs": [
    {
     "data": {
      "text/plain": [
       "['__doc__',\n",
       " '__file__',\n",
       " '__loader__',\n",
       " '__name__',\n",
       " '__package__',\n",
       " '__spec__',\n",
       " 'acos',\n",
       " 'acosh',\n",
       " 'asin',\n",
       " 'asinh',\n",
       " 'atan',\n",
       " 'atan2',\n",
       " 'atanh',\n",
       " 'ceil',\n",
       " 'comb',\n",
       " 'copysign',\n",
       " 'cos',\n",
       " 'cosh',\n",
       " 'degrees',\n",
       " 'dist',\n",
       " 'e',\n",
       " 'erf',\n",
       " 'erfc',\n",
       " 'exp',\n",
       " 'expm1',\n",
       " 'fabs',\n",
       " 'factorial',\n",
       " 'floor',\n",
       " 'fmod',\n",
       " 'frexp',\n",
       " 'fsum',\n",
       " 'gamma',\n",
       " 'gcd',\n",
       " 'hypot',\n",
       " 'inf',\n",
       " 'isclose',\n",
       " 'isfinite',\n",
       " 'isinf',\n",
       " 'isnan',\n",
       " 'isqrt',\n",
       " 'lcm',\n",
       " 'ldexp',\n",
       " 'lgamma',\n",
       " 'log',\n",
       " 'log10',\n",
       " 'log1p',\n",
       " 'log2',\n",
       " 'modf',\n",
       " 'nan',\n",
       " 'nextafter',\n",
       " 'perm',\n",
       " 'pi',\n",
       " 'pow',\n",
       " 'prod',\n",
       " 'radians',\n",
       " 'remainder',\n",
       " 'sin',\n",
       " 'sinh',\n",
       " 'sqrt',\n",
       " 'tan',\n",
       " 'tanh',\n",
       " 'tau',\n",
       " 'trunc',\n",
       " 'ulp']"
      ]
     },
     "execution_count": 26,
     "metadata": {},
     "output_type": "execute_result"
    }
   ],
   "source": [
    "dir(math)   # Python's dir() function will return all the available functions, methods and attributes on an object"
   ]
  },
  {
   "cell_type": "code",
   "execution_count": 27,
   "metadata": {},
   "outputs": [
    {
     "data": {
      "text/plain": [
       "5343237290762.231"
      ]
     },
     "execution_count": 27,
     "metadata": {},
     "output_type": "execute_result"
    }
   ],
   "source": [
    "math.sinh(30)"
   ]
  },
  {
   "cell_type": "code",
   "execution_count": 28,
   "metadata": {},
   "outputs": [],
   "source": [
    "from math import * # not recommended. This imports all the fuctions of the math module all at once. Then just the function name needs to be used"
   ]
  },
  {
   "cell_type": "code",
   "execution_count": 29,
   "metadata": {},
   "outputs": [
    {
     "data": {
      "text/plain": [
       "2.0"
      ]
     },
     "execution_count": 29,
     "metadata": {},
     "output_type": "execute_result"
    }
   ],
   "source": [
    "sqrt(4)"
   ]
  },
  {
   "cell_type": "markdown",
   "metadata": {},
   "source": [
    "## Data Types in NumPy Arrays¶\n",
    "\n",
    "The array converts all elements into the least precise data type, if there is mixed data types in array\n",
    "\n",
    " * np.bool (most precise)\n",
    " * np.int64\n",
    " * np.float64\n",
    " * np.string\n",
    " * np.object (least precise)"
   ]
  },
  {
   "cell_type": "code",
   "execution_count": 32,
   "metadata": {},
   "outputs": [],
   "source": [
    "import numpy as np"
   ]
  },
  {
   "cell_type": "code",
   "execution_count": 33,
   "metadata": {},
   "outputs": [
    {
     "name": "stdout",
     "output_type": "stream",
     "text": [
      "['1' '3.04' 'name']\n"
     ]
    }
   ],
   "source": [
    "c = np.array([1,3.04,\"name\"])\n",
    "print(c)"
   ]
  },
  {
   "cell_type": "code",
   "execution_count": 34,
   "metadata": {},
   "outputs": [
    {
     "name": "stdout",
     "output_type": "stream",
     "text": [
      "[2.03 2.   5.   6.7 ]\n"
     ]
    }
   ],
   "source": [
    "d = np.array([2.03,2,5,6.7])\n",
    "print(d)"
   ]
  },
  {
   "cell_type": "code",
   "execution_count": 35,
   "metadata": {},
   "outputs": [
    {
     "name": "stdout",
     "output_type": "stream",
     "text": [
      "[1 0 3]\n"
     ]
    }
   ],
   "source": [
    "f = np.array([True,False,3])\n",
    "print(f)"
   ]
  },
  {
   "cell_type": "markdown",
   "metadata": {},
   "source": [
    "### Array Attributes - these specify data type of array element, size of array, dimension of array etc.and they can be changed too by using assignment operator"
   ]
  },
  {
   "cell_type": "code",
   "execution_count": 36,
   "metadata": {},
   "outputs": [],
   "source": [
    "import numpy as np"
   ]
  },
  {
   "cell_type": "code",
   "execution_count": 37,
   "metadata": {},
   "outputs": [],
   "source": [
    "a = np.array([1,2,3])"
   ]
  },
  {
   "cell_type": "code",
   "execution_count": 42,
   "metadata": {},
   "outputs": [
    {
     "data": {
      "text/plain": [
       "1"
      ]
     },
     "execution_count": 42,
     "metadata": {},
     "output_type": "execute_result"
    }
   ],
   "source": [
    "a.ndim   # number of dimensions. A \"rectangular\" or 2D array will return a .ndim of 2"
   ]
  },
  {
   "cell_type": "code",
   "execution_count": 39,
   "metadata": {},
   "outputs": [
    {
     "data": {
      "text/plain": [
       "dtype('int64')"
      ]
     },
     "execution_count": 39,
     "metadata": {},
     "output_type": "execute_result"
    }
   ],
   "source": [
    "a.dtype  # data type"
   ]
  },
  {
   "cell_type": "code",
   "execution_count": 40,
   "metadata": {},
   "outputs": [
    {
     "data": {
      "text/plain": [
       "3"
      ]
     },
     "execution_count": 40,
     "metadata": {},
     "output_type": "execute_result"
    }
   ],
   "source": [
    "a.size   # total number of elements"
   ]
  },
  {
   "cell_type": "code",
   "execution_count": 43,
   "metadata": {},
   "outputs": [
    {
     "data": {
      "text/plain": [
       "3"
      ]
     },
     "execution_count": 43,
     "metadata": {},
     "output_type": "execute_result"
    }
   ],
   "source": [
    "len(a)   # Python's built-in len() function returns the number of elements in a container data type like a list"
   ]
  },
  {
   "cell_type": "code",
   "execution_count": 44,
   "metadata": {},
   "outputs": [],
   "source": [
    "b = np.array([[1,2,3],[3,4,5]])"
   ]
  },
  {
   "cell_type": "code",
   "execution_count": 45,
   "metadata": {},
   "outputs": [
    {
     "data": {
      "text/plain": [
       "array([[1, 2, 3],\n",
       "       [3, 4, 5]])"
      ]
     },
     "execution_count": 45,
     "metadata": {},
     "output_type": "execute_result"
    }
   ],
   "source": [
    "b"
   ]
  },
  {
   "cell_type": "code",
   "execution_count": 46,
   "metadata": {},
   "outputs": [
    {
     "data": {
      "text/plain": [
       "2"
      ]
     },
     "execution_count": 46,
     "metadata": {},
     "output_type": "execute_result"
    }
   ],
   "source": [
    "b.ndim"
   ]
  },
  {
   "cell_type": "code",
   "execution_count": 47,
   "metadata": {},
   "outputs": [
    {
     "data": {
      "text/plain": [
       "dtype('int64')"
      ]
     },
     "execution_count": 47,
     "metadata": {},
     "output_type": "execute_result"
    }
   ],
   "source": [
    "b.dtype"
   ]
  },
  {
   "cell_type": "code",
   "execution_count": 48,
   "metadata": {},
   "outputs": [
    {
     "data": {
      "text/plain": [
       "6"
      ]
     },
     "execution_count": 48,
     "metadata": {},
     "output_type": "execute_result"
    }
   ],
   "source": [
    "b.size"
   ]
  },
  {
   "cell_type": "code",
   "execution_count": 49,
   "metadata": {},
   "outputs": [
    {
     "data": {
      "text/plain": [
       "array([[1., 2., 3.],\n",
       "       [3., 4., 5.]])"
      ]
     },
     "execution_count": 49,
     "metadata": {},
     "output_type": "execute_result"
    }
   ],
   "source": [
    "c = np.array([[1,2,3],[3,4,5]], np.float64)\n",
    "c"
   ]
  },
  {
   "cell_type": "code",
   "execution_count": 50,
   "metadata": {},
   "outputs": [
    {
     "data": {
      "text/plain": [
       "dtype('float64')"
      ]
     },
     "execution_count": 50,
     "metadata": {},
     "output_type": "execute_result"
    }
   ],
   "source": [
    "c.dtype"
   ]
  },
  {
   "cell_type": "code",
   "execution_count": 52,
   "metadata": {},
   "outputs": [
    {
     "name": "stdout",
     "output_type": "stream",
     "text": [
      "[1, 2, 4000]\n",
      "[1, 2]\n"
     ]
    }
   ],
   "source": [
    "g = [1,2,4000]   # example showing how to remove an element from a list\n",
    "print(g)\n",
    "g.pop()\n",
    "print(g)"
   ]
  },
  {
   "cell_type": "code",
   "execution_count": 53,
   "metadata": {},
   "outputs": [
    {
     "name": "stdout",
     "output_type": "stream",
     "text": [
      "[1, 4000, 2]\n",
      "[1, 2]\n"
     ]
    }
   ],
   "source": [
    "h = [1,4000,2] # example showing how to remove an element from a list\n",
    "print(h)\n",
    "h.pop(1)\n",
    "print(h)"
   ]
  },
  {
   "cell_type": "code",
   "execution_count": 54,
   "metadata": {},
   "outputs": [
    {
     "name": "stdout",
     "output_type": "stream",
     "text": [
      "[[1 2 3]\n",
      " [3 4 5]]\n"
     ]
    },
    {
     "data": {
      "text/plain": [
       "(2, 3)"
      ]
     },
     "execution_count": 54,
     "metadata": {},
     "output_type": "execute_result"
    }
   ],
   "source": [
    "b = np.array([[1,2,3],[3,4,5]])\n",
    "print(b)\n",
    "b.shape"
   ]
  },
  {
   "cell_type": "code",
   "execution_count": 55,
   "metadata": {},
   "outputs": [
    {
     "name": "stdout",
     "output_type": "stream",
     "text": [
      "[[1 2]\n",
      " [3 3]\n",
      " [4 5]]\n"
     ]
    },
    {
     "data": {
      "text/plain": [
       "(3, 2)"
      ]
     },
     "execution_count": 55,
     "metadata": {},
     "output_type": "execute_result"
    }
   ],
   "source": [
    "b.shape = (3,2)\n",
    "print(b)\n",
    "b.shape"
   ]
  },
  {
   "cell_type": "markdown",
   "metadata": {},
   "source": [
    "## Array generation functions in NumPy"
   ]
  },
  {
   "cell_type": "code",
   "execution_count": 56,
   "metadata": {},
   "outputs": [],
   "source": [
    "a = np.array([1,2,3,4,5,6,7])"
   ]
  },
  {
   "cell_type": "code",
   "execution_count": 57,
   "metadata": {},
   "outputs": [
    {
     "name": "stdout",
     "output_type": "stream",
     "text": [
      "[0 1 2 3 4 5 6 7 8 9]\n"
     ]
    }
   ],
   "source": [
    "b = np.arange(0,10,1)   #start(inclusive),stop (exclusive),step\n",
    "print(b)"
   ]
  },
  {
   "cell_type": "code",
   "execution_count": 58,
   "metadata": {},
   "outputs": [
    {
     "name": "stdout",
     "output_type": "stream",
     "text": [
      "[0 1 2 3 4 5 6 7 8 9]\n"
     ]
    }
   ],
   "source": [
    "c = np.arange(10)\n",
    "print(c)"
   ]
  },
  {
   "cell_type": "code",
   "execution_count": 59,
   "metadata": {},
   "outputs": [
    {
     "name": "stdout",
     "output_type": "stream",
     "text": [
      "[2 3 4 5 6 7 8]\n"
     ]
    }
   ],
   "source": [
    "d = np.arange(2,9)    #start, stop, step=1 (the default)\n",
    "print(d)"
   ]
  },
  {
   "cell_type": "code",
   "execution_count": 60,
   "metadata": {},
   "outputs": [
    {
     "name": "stdout",
     "output_type": "stream",
     "text": [
      "[ 0  2  4  6  8 10 12 14 16 18 20]\n"
     ]
    }
   ],
   "source": [
    "f = np.arange(0,22,2) #start, stop, step=2\n",
    "print(f)"
   ]
  },
  {
   "cell_type": "code",
   "execution_count": 61,
   "metadata": {},
   "outputs": [
    {
     "name": "stdout",
     "output_type": "stream",
     "text": [
      "[  0.  72. 144. 216. 288. 360.]\n"
     ]
    }
   ],
   "source": [
    "g = np.linspace(0,360,6)   #start, stop, number of elements\n",
    "print(g)"
   ]
  },
  {
   "cell_type": "code",
   "execution_count": 62,
   "metadata": {},
   "outputs": [
    {
     "name": "stdout",
     "output_type": "stream",
     "text": [
      "[1.e+00 1.e+02 1.e+04]\n"
     ]
    }
   ],
   "source": [
    "h = np.logspace(0,4,3)   #exponent start, exponent stop, number of log spaced elements\n",
    "print(h)"
   ]
  },
  {
   "cell_type": "code",
   "execution_count": 63,
   "metadata": {},
   "outputs": [
    {
     "name": "stdout",
     "output_type": "stream",
     "text": [
      "[ 0  1  2  3  4  5  6  7  8  9 10 11 12 13 14 15 16 17 18 19 20 21 22 23\n",
      " 24 25 26 27 28 29 30 31 32 33 34 35 36 37 38 39 40 41 42 43 44 45 46 47\n",
      " 48 49 50 51 52 53 54 55 56 57 58 59 60 61 62 63 64 65 66 67 68 69 70 71\n",
      " 72 73 74 75 76 77 78 79 80 81 82 83 84 85 86 87 88 89 90 91 92 93 94 95\n",
      " 96 97 98 99] (100,)\n",
      "[[ 0  1  2  3  4  5  6  7  8  9]\n",
      " [10 11 12 13 14 15 16 17 18 19]\n",
      " [20 21 22 23 24 25 26 27 28 29]\n",
      " [30 31 32 33 34 35 36 37 38 39]\n",
      " [40 41 42 43 44 45 46 47 48 49]\n",
      " [50 51 52 53 54 55 56 57 58 59]\n",
      " [60 61 62 63 64 65 66 67 68 69]\n",
      " [70 71 72 73 74 75 76 77 78 79]\n",
      " [80 81 82 83 84 85 86 87 88 89]\n",
      " [90 91 92 93 94 95 96 97 98 99]] (10, 10)\n"
     ]
    }
   ],
   "source": [
    "k = np.arange(0,100,1)\n",
    "print(k,k.shape)\n",
    "k.shape = (10,10)      # can \"re-shape\" an array by assigning a shape as a tuple (rows,cols)\n",
    "print(k,k.shape)"
   ]
  },
  {
   "cell_type": "code",
   "execution_count": 64,
   "metadata": {},
   "outputs": [
    {
     "name": "stdout",
     "output_type": "stream",
     "text": [
      "[0. 0. 0. 0. 0.]\n"
     ]
    }
   ],
   "source": [
    "a = np.zeros(5)\n",
    "print(a)"
   ]
  },
  {
   "cell_type": "code",
   "execution_count": 65,
   "metadata": {},
   "outputs": [
    {
     "name": "stdout",
     "output_type": "stream",
     "text": [
      "[[0. 0. 0. 0.]\n",
      " [0. 0. 0. 0.]\n",
      " [0. 0. 0. 0.]]\n",
      "[[0. 0.]\n",
      " [0. 0.]\n",
      " [0. 0.]\n",
      " [0. 0.]\n",
      " [0. 0.]\n",
      " [0. 0.]]\n"
     ]
    }
   ],
   "source": [
    "a = np.zeros([3,4])\n",
    "print(a)\n",
    "a.shape = (6,2)\n",
    "print(a)"
   ]
  },
  {
   "cell_type": "code",
   "execution_count": 66,
   "metadata": {},
   "outputs": [
    {
     "name": "stdout",
     "output_type": "stream",
     "text": [
      "<class 'list'>\n",
      "[3, 5]\n",
      "<class 'tuple'>\n"
     ]
    },
    {
     "ename": "TypeError",
     "evalue": "'tuple' object does not support item assignment",
     "output_type": "error",
     "traceback": [
      "\u001b[0;31m---------------------------------------------------------------------------\u001b[0m",
      "\u001b[0;31mTypeError\u001b[0m                                 Traceback (most recent call last)",
      "\u001b[0;32m/var/folders/j_/slj0lw_d2z36h4_c_pkrvdcm0000gq/T/ipykernel_7992/120821871.py\u001b[0m in \u001b[0;36m<module>\u001b[0;34m\u001b[0m\n\u001b[1;32m      5\u001b[0m \u001b[0mx\u001b[0m \u001b[0;34m=\u001b[0m \u001b[0;34m(\u001b[0m\u001b[0;36m3\u001b[0m\u001b[0;34m,\u001b[0m\u001b[0;36m4\u001b[0m\u001b[0;34m)\u001b[0m\u001b[0;34m\u001b[0m\u001b[0;34m\u001b[0m\u001b[0m\n\u001b[1;32m      6\u001b[0m \u001b[0mprint\u001b[0m\u001b[0;34m(\u001b[0m\u001b[0mtype\u001b[0m\u001b[0;34m(\u001b[0m\u001b[0mx\u001b[0m\u001b[0;34m)\u001b[0m\u001b[0;34m)\u001b[0m\u001b[0;34m\u001b[0m\u001b[0;34m\u001b[0m\u001b[0m\n\u001b[0;32m----> 7\u001b[0;31m \u001b[0mx\u001b[0m\u001b[0;34m[\u001b[0m\u001b[0;36m1\u001b[0m\u001b[0;34m]\u001b[0m \u001b[0;34m=\u001b[0m \u001b[0;36m5\u001b[0m\u001b[0;34m\u001b[0m\u001b[0;34m\u001b[0m\u001b[0m\n\u001b[0m",
      "\u001b[0;31mTypeError\u001b[0m: 'tuple' object does not support item assignment"
     ]
    }
   ],
   "source": [
    "# example showing the different between a list and tuple\n",
    "v = [3,4]      # lists are defined with [ ]\n",
    "print(type(v))\n",
    "v[1] = 5\n",
    "print(v)\n",
    "x = (3,4)      # tuples are defined with (  )\n",
    "print(type(x))\n",
    "x[1] = 5       # can't modify the elements in a tuple."
   ]
  },
  {
   "cell_type": "code",
   "execution_count": 67,
   "metadata": {},
   "outputs": [
    {
     "name": "stdout",
     "output_type": "stream",
     "text": [
      "[1. 1. 1. 1. 1.]\n"
     ]
    }
   ],
   "source": [
    "c = np.ones(5)\n",
    "print(c)"
   ]
  },
  {
   "cell_type": "code",
   "execution_count": 68,
   "metadata": {},
   "outputs": [
    {
     "name": "stdout",
     "output_type": "stream",
     "text": [
      "[[1. 1. 1. 1. 1. 1.]\n",
      " [1. 1. 1. 1. 1. 1.]\n",
      " [1. 1. 1. 1. 1. 1.]\n",
      " [1. 1. 1. 1. 1. 1.]]\n"
     ]
    }
   ],
   "source": [
    "d = np.ones([4,6])\n",
    "print(d)"
   ]
  },
  {
   "cell_type": "code",
   "execution_count": 69,
   "metadata": {},
   "outputs": [
    {
     "name": "stdout",
     "output_type": "stream",
     "text": [
      "[ 0  1  2  3  4  5  6  7  8  9 10 11 12 13 14 15 16 17 18 19 20 21 22 23\n",
      " 24 25 26 27 28 29 30 31 32 33 34 35 36 37 38 39 40 41 42 43 44 45 46 47\n",
      " 48 49 50 51 52 53 54 55 56 57 58 59 60 61 62 63 64 65 66 67 68 69 70 71\n",
      " 72 73 74 75 76 77 78 79 80 81 82 83 84 85 86 87 88 89 90 91 92 93 94 95\n",
      " 96 97 98 99]\n",
      "[   -10     -9    -12    -19    -30    -45    -64    -87   -114   -145\n",
      "   -180   -219   -262   -309   -360   -415   -474   -537   -604   -675\n",
      "   -750   -829   -912   -999  -1090  -1185  -1284  -1387  -1494  -1605\n",
      "  -1720  -1839  -1962  -2089  -2220  -2355  -2494  -2637  -2784  -2935\n",
      "  -3090  -3249  -3412  -3579  -3750  -3925  -4104  -4287  -4474  -4665\n",
      "  -4860  -5059  -5262  -5469  -5680  -5895  -6114  -6337  -6564  -6795\n",
      "  -7030  -7269  -7512  -7759  -8010  -8265  -8524  -8787  -9054  -9325\n",
      "  -9600  -9879 -10162 -10449 -10740 -11035 -11334 -11637 -11944 -12255\n",
      " -12570 -12889 -13212 -13539 -13870 -14205 -14544 -14887 -15234 -15585\n",
      " -15940 -16299 -16662 -17029 -17400 -17775 -18154 -18537 -18924 -19315]\n"
     ]
    }
   ],
   "source": [
    "# example of broadcasting\n",
    "a = np.arange(0,100,1)\n",
    "print(a)\n",
    "b = -2*a**2 + 3*a - 10\n",
    "print(b)"
   ]
  },
  {
   "cell_type": "markdown",
   "metadata": {},
   "source": [
    "## Array Indexing and Slicing\n",
    "\n",
    " * NumPy arrays can be indexed and sliced just like Python lists and strings\n",
    " * Counting starts from 0 and stops at n-1 with default step 1\n",
    " * Array dimension maybe one, two or multi dimensional\n",
    "\n",
    "### One dimensional array and array attributes"
   ]
  },
  {
   "cell_type": "code",
   "execution_count": 70,
   "metadata": {},
   "outputs": [
    {
     "name": "stdout",
     "output_type": "stream",
     "text": [
      "[100 200 300 400 500 600 700 800 900]\n",
      "9\n"
     ]
    }
   ],
   "source": [
    "a = np.arange(100,1000,100)\n",
    "print(a)\n",
    "print(a.size)"
   ]
  },
  {
   "cell_type": "code",
   "execution_count": 71,
   "metadata": {},
   "outputs": [
    {
     "data": {
      "text/plain": [
       "100"
      ]
     },
     "execution_count": 71,
     "metadata": {},
     "output_type": "execute_result"
    }
   ],
   "source": [
    "a[0]   # index out the element at index 0 (first element)"
   ]
  },
  {
   "cell_type": "code",
   "execution_count": 72,
   "metadata": {},
   "outputs": [
    {
     "data": {
      "text/plain": [
       "300"
      ]
     },
     "execution_count": 72,
     "metadata": {},
     "output_type": "execute_result"
    }
   ],
   "source": [
    "a[2]"
   ]
  },
  {
   "cell_type": "code",
   "execution_count": 73,
   "metadata": {},
   "outputs": [
    {
     "data": {
      "text/plain": [
       "900"
      ]
     },
     "execution_count": 73,
     "metadata": {},
     "output_type": "execute_result"
    }
   ],
   "source": [
    "a[-1]"
   ]
  },
  {
   "cell_type": "code",
   "execution_count": 74,
   "metadata": {},
   "outputs": [
    {
     "data": {
      "text/plain": [
       "array([100, 300, 500, 700, 900])"
      ]
     },
     "execution_count": 74,
     "metadata": {},
     "output_type": "execute_result"
    }
   ],
   "source": [
    "a[0:9:2]   # [start:stop:step]"
   ]
  },
  {
   "cell_type": "code",
   "execution_count": 75,
   "metadata": {},
   "outputs": [
    {
     "data": {
      "text/plain": [
       "array([200, 400, 600, 800])"
      ]
     },
     "execution_count": 75,
     "metadata": {},
     "output_type": "execute_result"
    }
   ],
   "source": [
    "a[1:9:2]"
   ]
  },
  {
   "cell_type": "code",
   "execution_count": 76,
   "metadata": {},
   "outputs": [
    {
     "data": {
      "text/plain": [
       "array([100, 300, 500, 700, 900])"
      ]
     },
     "execution_count": 76,
     "metadata": {},
     "output_type": "execute_result"
    }
   ],
   "source": [
    "a[::2]    # [default start: default stop: step=2]"
   ]
  },
  {
   "cell_type": "markdown",
   "metadata": {},
   "source": [
    "### Two dimensional arrays and array attributes\n",
    "\n",
    " * Indexed and sliced like one dimensional arrays\n",
    " * array elements are referenced as [row,column] by location"
   ]
  },
  {
   "cell_type": "code",
   "execution_count": 77,
   "metadata": {},
   "outputs": [
    {
     "name": "stdout",
     "output_type": "stream",
     "text": [
      "[ 1  2  3  4  5  6  7  8  9 10 11 12]\n",
      "[[ 1  2  3  4]\n",
      " [ 5  6  7  8]\n",
      " [ 9 10 11 12]]\n"
     ]
    }
   ],
   "source": [
    "a = np.arange(1,13,1)\n",
    "print(a)\n",
    "a.shape = (3,4)\n",
    "print(a)"
   ]
  },
  {
   "cell_type": "code",
   "execution_count": 78,
   "metadata": {},
   "outputs": [
    {
     "data": {
      "text/plain": [
       "1"
      ]
     },
     "execution_count": 78,
     "metadata": {},
     "output_type": "execute_result"
    }
   ],
   "source": [
    "a[0,0]  # row 0, col 0"
   ]
  },
  {
   "cell_type": "code",
   "execution_count": 79,
   "metadata": {},
   "outputs": [
    {
     "data": {
      "text/plain": [
       "8"
      ]
     },
     "execution_count": 79,
     "metadata": {},
     "output_type": "execute_result"
    }
   ],
   "source": [
    "a[1,3]  # row 1, col 3"
   ]
  },
  {
   "cell_type": "code",
   "execution_count": 80,
   "metadata": {},
   "outputs": [
    {
     "data": {
      "text/plain": [
       "10"
      ]
     },
     "execution_count": 80,
     "metadata": {},
     "output_type": "execute_result"
    }
   ],
   "source": [
    "a[2,1]"
   ]
  },
  {
   "cell_type": "code",
   "execution_count": 81,
   "metadata": {},
   "outputs": [
    {
     "data": {
      "text/plain": [
       "array([1, 5, 9])"
      ]
     },
     "execution_count": 81,
     "metadata": {},
     "output_type": "execute_result"
    }
   ],
   "source": [
    "a[0:3:1,0]  # rows: start 0, end 3, count by 1, col 0"
   ]
  },
  {
   "cell_type": "code",
   "execution_count": 82,
   "metadata": {},
   "outputs": [
    {
     "data": {
      "text/plain": [
       "array([1, 5, 9])"
      ]
     },
     "execution_count": 82,
     "metadata": {},
     "output_type": "execute_result"
    }
   ],
   "source": [
    "a[:,0]     # rows: all (default start, default stop, default step), col 0"
   ]
  },
  {
   "cell_type": "code",
   "execution_count": 83,
   "metadata": {},
   "outputs": [
    {
     "data": {
      "text/plain": [
       "array([3, 7])"
      ]
     },
     "execution_count": 83,
     "metadata": {},
     "output_type": "execute_result"
    }
   ],
   "source": [
    "a[0:2,2]"
   ]
  },
  {
   "cell_type": "code",
   "execution_count": 84,
   "metadata": {},
   "outputs": [
    {
     "data": {
      "text/plain": [
       "array([[ 7,  8],\n",
       "       [11, 12]])"
      ]
     },
     "execution_count": 84,
     "metadata": {},
     "output_type": "execute_result"
    }
   ],
   "source": [
    "a[1:,2:]   # rows: start 1, end at default, col: start 2, end at default"
   ]
  },
  {
   "cell_type": "markdown",
   "metadata": {},
   "source": [
    "### np.where() returns the location of a value in an array"
   ]
  },
  {
   "cell_type": "code",
   "execution_count": 85,
   "metadata": {},
   "outputs": [
    {
     "name": "stdout",
     "output_type": "stream",
     "text": [
      "[-3 -2 -1  0  1  2  3]\n"
     ]
    }
   ],
   "source": [
    "c = np.arange(-3,4,1)\n",
    "print(c)"
   ]
  },
  {
   "cell_type": "code",
   "execution_count": 86,
   "metadata": {},
   "outputs": [
    {
     "name": "stdout",
     "output_type": "stream",
     "text": [
      "(array([5]),)\n"
     ]
    }
   ],
   "source": [
    "# where is the number 2 in the array, what is the index where number 2 is located?\n",
    "loc = np.where(c==2)\n",
    "print(loc)"
   ]
  },
  {
   "cell_type": "code",
   "execution_count": 87,
   "metadata": {},
   "outputs": [
    {
     "data": {
      "text/plain": [
       "array([2])"
      ]
     },
     "execution_count": 87,
     "metadata": {},
     "output_type": "execute_result"
    }
   ],
   "source": [
    "c[loc]"
   ]
  },
  {
   "cell_type": "code",
   "execution_count": 88,
   "metadata": {},
   "outputs": [
    {
     "name": "stdout",
     "output_type": "stream",
     "text": [
      "(array([0, 1, 2]),)\n"
     ]
    }
   ],
   "source": [
    "neg_loc = np.where(c<0)\n",
    "print(neg_loc)"
   ]
  },
  {
   "cell_type": "code",
   "execution_count": 89,
   "metadata": {},
   "outputs": [
    {
     "name": "stdout",
     "output_type": "stream",
     "text": [
      "The indexes or locations that contain positive numbers\n",
      "(array([4, 5, 6]),)\n",
      "The positive numbers are:\n",
      "[1 2 3]\n"
     ]
    }
   ],
   "source": [
    "pos_loc = np.where(c>0)\n",
    "print(\"The indexes or locations that contain positive numbers\")\n",
    "print(pos_loc)\n",
    "print(\"The positive numbers are:\")\n",
    "print(c[pos_loc])"
   ]
  },
  {
   "cell_type": "code",
   "execution_count": 90,
   "metadata": {},
   "outputs": [
    {
     "name": "stdout",
     "output_type": "stream",
     "text": [
      "(array([2]),)\n"
     ]
    }
   ],
   "source": [
    "s = np.array([\"a\",\"b\",\"c\",\"d\"])\n",
    "loc = np.where(s==\"c\")\n",
    "print(loc)"
   ]
  },
  {
   "cell_type": "code",
   "execution_count": 91,
   "metadata": {},
   "outputs": [
    {
     "name": "stdout",
     "output_type": "stream",
     "text": [
      "[[0 1 2]\n",
      " [3 4 5]\n",
      " [6 7 8]]\n",
      "(array([1, 2, 2, 2]), array([2, 0, 1, 2]))\n",
      "the numbers greater than 4 are: \n",
      "[5 6 7 8]\n"
     ]
    }
   ],
   "source": [
    "a = np.arange(0,9,1)\n",
    "a.shape=(3,3)\n",
    "print(a)\n",
    "# locations of all the numbers greater than 4\n",
    "loc = np.where(a>4)\n",
    "print(loc)\n",
    "print(\"the numbers greater than 4 are: \")\n",
    "print(a[loc])"
   ]
  },
  {
   "cell_type": "code",
   "execution_count": 92,
   "metadata": {},
   "outputs": [
    {
     "name": "stdout",
     "output_type": "stream",
     "text": [
      "(array([2]),)\n",
      "[1 3 5 4]\n"
     ]
    }
   ],
   "source": [
    "b = np.array([1,3,50000,4])\n",
    "# set the outlier 50000 to 5\n",
    "loc = np.where(b>10)\n",
    "print(loc)\n",
    "b[loc] = 5\n",
    "print(b)"
   ]
  },
  {
   "cell_type": "code",
   "execution_count": 93,
   "metadata": {},
   "outputs": [
    {
     "name": "stdout",
     "output_type": "stream",
     "text": [
      "[1 3 4]\n"
     ]
    }
   ],
   "source": [
    "# remove the outlier\n",
    "b = np.array([1,3,50000,4])\n",
    "loc = np.where(b<10)\n",
    "c = b[loc]\n",
    "print(c)"
   ]
  },
  {
   "cell_type": "markdown",
   "metadata": {},
   "source": [
    "## Boolean Masks\n",
    "\n",
    "### A boolean mask is an array that contains all True or False values only.\n",
    "\n",
    " * For each True value in the boolean mask, a value is returned from an indexed array.\n",
    " * For each False value in the boolean mask, no value is returned from an indexed array.\n"
   ]
  },
  {
   "cell_type": "code",
   "execution_count": 94,
   "metadata": {},
   "outputs": [
    {
     "data": {
      "text/plain": [
       "array([-3, -4, 10, 15])"
      ]
     },
     "execution_count": 94,
     "metadata": {},
     "output_type": "execute_result"
    }
   ],
   "source": [
    "a = np.array([-3,-4,10,15])\n",
    "a"
   ]
  },
  {
   "cell_type": "code",
   "execution_count": 95,
   "metadata": {},
   "outputs": [
    {
     "data": {
      "text/plain": [
       "array([ True,  True, False,  True])"
      ]
     },
     "execution_count": 95,
     "metadata": {},
     "output_type": "execute_result"
    }
   ],
   "source": [
    "mask = np.array([True,True,False,True])\n",
    "mask"
   ]
  },
  {
   "cell_type": "code",
   "execution_count": 96,
   "metadata": {},
   "outputs": [
    {
     "data": {
      "text/plain": [
       "array([-3, -4, 15])"
      ]
     },
     "execution_count": 96,
     "metadata": {},
     "output_type": "execute_result"
    }
   ],
   "source": [
    "a[mask]  # index out all the values where the mask is \"True\""
   ]
  },
  {
   "cell_type": "code",
   "execution_count": 97,
   "metadata": {},
   "outputs": [
    {
     "data": {
      "text/plain": [
       "array([-4, 15])"
      ]
     },
     "execution_count": 97,
     "metadata": {},
     "output_type": "execute_result"
    }
   ],
   "source": [
    "mask2 = np.array([False,True,False,True])\n",
    "a[mask2]"
   ]
  },
  {
   "cell_type": "code",
   "execution_count": 98,
   "metadata": {},
   "outputs": [
    {
     "data": {
      "text/plain": [
       "array([ True,  True, False, False])"
      ]
     },
     "execution_count": 98,
     "metadata": {},
     "output_type": "execute_result"
    }
   ],
   "source": [
    "# can use an expression to create a boolean mask\n",
    "mask3 = a < 0\n",
    "mask3"
   ]
  },
  {
   "cell_type": "code",
   "execution_count": 99,
   "metadata": {},
   "outputs": [
    {
     "data": {
      "text/plain": [
       "array([-3, -4])"
      ]
     },
     "execution_count": 99,
     "metadata": {},
     "output_type": "execute_result"
    }
   ],
   "source": [
    "a[mask3]"
   ]
  },
  {
   "cell_type": "code",
   "execution_count": 100,
   "metadata": {},
   "outputs": [
    {
     "data": {
      "text/plain": [
       "array([-3, -4, 10, 15])"
      ]
     },
     "execution_count": 100,
     "metadata": {},
     "output_type": "execute_result"
    }
   ],
   "source": [
    "a"
   ]
  },
  {
   "cell_type": "code",
   "execution_count": 101,
   "metadata": {},
   "outputs": [
    {
     "data": {
      "text/plain": [
       "array([False, False,  True,  True])"
      ]
     },
     "execution_count": 101,
     "metadata": {},
     "output_type": "execute_result"
    }
   ],
   "source": [
    "mask4 = a > 0\n",
    "mask4"
   ]
  },
  {
   "cell_type": "code",
   "execution_count": 102,
   "metadata": {},
   "outputs": [
    {
     "data": {
      "text/plain": [
       "array([10, 15])"
      ]
     },
     "execution_count": 102,
     "metadata": {},
     "output_type": "execute_result"
    }
   ],
   "source": [
    "a[mask4]"
   ]
  },
  {
   "cell_type": "code",
   "execution_count": 104,
   "metadata": {},
   "outputs": [
    {
     "data": {
      "text/plain": [
       "array([10, 15])"
      ]
     },
     "execution_count": 104,
     "metadata": {},
     "output_type": "execute_result"
    }
   ],
   "source": [
    "a[a>0]      # instead of creating a mask variable, you can pass the mask creation directly in as an index"
   ]
  },
  {
   "cell_type": "code",
   "execution_count": 105,
   "metadata": {},
   "outputs": [
    {
     "data": {
      "text/plain": [
       "array([-3, -4])"
      ]
     },
     "execution_count": 105,
     "metadata": {},
     "output_type": "execute_result"
    }
   ],
   "source": [
    "a[a<0]"
   ]
  },
  {
   "cell_type": "code",
   "execution_count": 106,
   "metadata": {},
   "outputs": [
    {
     "data": {
      "text/plain": [
       "array([-1, -2,  8])"
      ]
     },
     "execution_count": 106,
     "metadata": {},
     "output_type": "execute_result"
    }
   ],
   "source": [
    "c = np.array([-1,-2,3000000,8])\n",
    "c[c<10]"
   ]
  },
  {
   "cell_type": "code",
   "execution_count": 107,
   "metadata": {},
   "outputs": [
    {
     "data": {
      "text/plain": [
       "array([ True,  True,  True,  True])"
      ]
     },
     "execution_count": 107,
     "metadata": {},
     "output_type": "execute_result"
    }
   ],
   "source": [
    "c>=-2   # c"
   ]
  },
  {
   "cell_type": "code",
   "execution_count": 108,
   "metadata": {},
   "outputs": [
    {
     "data": {
      "text/plain": [
       "array([     -1,      -2, 3000000])"
      ]
     },
     "execution_count": 108,
     "metadata": {},
     "output_type": "execute_result"
    }
   ],
   "source": [
    "c[c!=8]    # not equivalent to 8"
   ]
  },
  {
   "cell_type": "code",
   "execution_count": 110,
   "metadata": {},
   "outputs": [
    {
     "data": {
      "text/plain": [
       "array([8])"
      ]
     },
     "execution_count": 110,
     "metadata": {},
     "output_type": "execute_result"
    }
   ],
   "source": [
    "c[c[c==-1]]   # deeply nested masking"
   ]
  },
  {
   "cell_type": "code",
   "execution_count": 111,
   "metadata": {},
   "outputs": [
    {
     "data": {
      "text/plain": [
       "array([ True, False, False, False])"
      ]
     },
     "execution_count": 111,
     "metadata": {},
     "output_type": "execute_result"
    }
   ],
   "source": [
    "c==-1"
   ]
  },
  {
   "cell_type": "code",
   "execution_count": 112,
   "metadata": {},
   "outputs": [
    {
     "data": {
      "text/plain": [
       "array([-1])"
      ]
     },
     "execution_count": 112,
     "metadata": {},
     "output_type": "execute_result"
    }
   ],
   "source": [
    "c[c==-1]"
   ]
  },
  {
   "cell_type": "code",
   "execution_count": 113,
   "metadata": {},
   "outputs": [
    {
     "data": {
      "text/plain": [
       "array([], dtype=int64)"
      ]
     },
     "execution_count": 113,
     "metadata": {},
     "output_type": "execute_result"
    }
   ],
   "source": [
    "c[c[c==100]]"
   ]
  },
  {
   "cell_type": "markdown",
   "metadata": {},
   "source": [
    "### Broadcasting functions and mathematical operations across arrays"
   ]
  },
  {
   "cell_type": "code",
   "execution_count": 114,
   "metadata": {},
   "outputs": [
    {
     "name": "stdout",
     "output_type": "stream",
     "text": [
      "34\n"
     ]
    }
   ],
   "source": [
    "t = 2\n",
    "x = 2*t**2 + 4*4 +10\n",
    "print(x)"
   ]
  },
  {
   "cell_type": "code",
   "execution_count": 115,
   "metadata": {},
   "outputs": [
    {
     "name": "stdout",
     "output_type": "stream",
     "text": [
      "[ 0  1  2  3  4  5  6  7  8  9 10 11 12 13 14 15 16 17 18 19 20 21 22 23\n",
      " 24 25 26 27 28 29 30 31 32 33 34 35 36 37 38 39 40 41 42 43 44 45 46 47\n",
      " 48 49 50 51 52 53 54 55 56 57 58 59 60]\n",
      "[  26   28   34   44   58   76   98  124  154  188  226  268  314  364\n",
      "  418  476  538  604  674  748  826  908  994 1084 1178 1276 1378 1484\n",
      " 1594 1708 1826 1948 2074 2204 2338 2476 2618 2764 2914 3068 3226 3388\n",
      " 3554 3724 3898 4076 4258 4444 4634 4828 5026 5228 5434 5644 5858 6076\n",
      " 6298 6524 6754 6988 7226]\n"
     ]
    }
   ],
   "source": [
    "t = np.arange(0,61)\n",
    "print(t)\n",
    "x = 2*t**2 + 4*4 +10\n",
    "print(x)"
   ]
  },
  {
   "cell_type": "code",
   "execution_count": 116,
   "metadata": {},
   "outputs": [
    {
     "data": {
      "text/plain": [
       "array([ 0, 10, 40])"
      ]
     },
     "execution_count": 116,
     "metadata": {},
     "output_type": "execute_result"
    }
   ],
   "source": [
    "a = np.array([0,1,2])\n",
    "b = np.array([0,10,20])\n",
    "a*b"
   ]
  },
  {
   "cell_type": "code",
   "execution_count": 117,
   "metadata": {},
   "outputs": [
    {
     "data": {
      "text/plain": [
       "array([ 0, 11, 22])"
      ]
     },
     "execution_count": 117,
     "metadata": {},
     "output_type": "execute_result"
    }
   ],
   "source": [
    "a+b"
   ]
  },
  {
   "cell_type": "markdown",
   "metadata": {},
   "source": [
    "## Getting help with NumPy and Python Math functions / methods"
   ]
  },
  {
   "cell_type": "markdown",
   "metadata": {},
   "source": [
    "### Get help using dir in Jupyter on functions, methods,variables or objects"
   ]
  },
  {
   "cell_type": "code",
   "execution_count": 118,
   "metadata": {},
   "outputs": [],
   "source": [
    "import statistics"
   ]
  },
  {
   "cell_type": "code",
   "execution_count": 119,
   "metadata": {},
   "outputs": [
    {
     "data": {
      "text/plain": [
       "['Counter',\n",
       " 'Decimal',\n",
       " 'Fraction',\n",
       " 'NormalDist',\n",
       " 'StatisticsError',\n",
       " '__all__',\n",
       " '__builtins__',\n",
       " '__cached__',\n",
       " '__doc__',\n",
       " '__file__',\n",
       " '__loader__',\n",
       " '__name__',\n",
       " '__package__',\n",
       " '__spec__',\n",
       " '_coerce',\n",
       " '_convert',\n",
       " '_exact_ratio',\n",
       " '_fail_neg',\n",
       " '_find_lteq',\n",
       " '_find_rteq',\n",
       " '_isfinite',\n",
       " '_normal_dist_inv_cdf',\n",
       " '_ss',\n",
       " '_sum',\n",
       " 'bisect_left',\n",
       " 'bisect_right',\n",
       " 'erf',\n",
       " 'exp',\n",
       " 'fabs',\n",
       " 'fmean',\n",
       " 'fsum',\n",
       " 'geometric_mean',\n",
       " 'groupby',\n",
       " 'harmonic_mean',\n",
       " 'hypot',\n",
       " 'itemgetter',\n",
       " 'log',\n",
       " 'math',\n",
       " 'mean',\n",
       " 'median',\n",
       " 'median_grouped',\n",
       " 'median_high',\n",
       " 'median_low',\n",
       " 'mode',\n",
       " 'multimode',\n",
       " 'numbers',\n",
       " 'pstdev',\n",
       " 'pvariance',\n",
       " 'quantiles',\n",
       " 'random',\n",
       " 'sqrt',\n",
       " 'stdev',\n",
       " 'tau',\n",
       " 'variance']"
      ]
     },
     "execution_count": 119,
     "metadata": {},
     "output_type": "execute_result"
    }
   ],
   "source": [
    "dir(statistics)"
   ]
  },
  {
   "cell_type": "markdown",
   "metadata": {},
   "source": [
    "### Get help using tab key after objectname.[tab] in Jupter cel"
   ]
  },
  {
   "cell_type": "code",
   "execution_count": 121,
   "metadata": {},
   "outputs": [
    {
     "data": {
      "text/plain": [
       "3"
      ]
     },
     "execution_count": 121,
     "metadata": {},
     "output_type": "execute_result"
    }
   ],
   "source": [
    "statistics.median([1,3,4])"
   ]
  },
  {
   "cell_type": "code",
   "execution_count": null,
   "metadata": {},
   "outputs": [],
   "source": []
  },
  {
   "cell_type": "markdown",
   "metadata": {},
   "source": [
    "### Get help using help() function in Jupyter cell"
   ]
  },
  {
   "cell_type": "code",
   "execution_count": 122,
   "metadata": {},
   "outputs": [
    {
     "name": "stdout",
     "output_type": "stream",
     "text": [
      "Help on function median in module statistics:\n",
      "\n",
      "median(data)\n",
      "    Return the median (middle value) of numeric data.\n",
      "    \n",
      "    When the number of data points is odd, return the middle data point.\n",
      "    When the number of data points is even, the median is interpolated by\n",
      "    taking the average of the two middle values:\n",
      "    \n",
      "    >>> median([1, 3, 5])\n",
      "    3\n",
      "    >>> median([1, 3, 5, 7])\n",
      "    4.0\n",
      "\n"
     ]
    }
   ],
   "source": [
    "help(statistics.median)"
   ]
  },
  {
   "cell_type": "markdown",
   "metadata": {},
   "source": [
    "## Refer to Appendix E in the text: NumPy Math functions. Describes various NumPy functions."
   ]
  },
  {
   "cell_type": "code",
   "execution_count": 123,
   "metadata": {},
   "outputs": [
    {
     "name": "stdout",
     "output_type": "stream",
     "text": [
      "ALLOW_THREADS\n",
      "AxisError\n",
      "BUFSIZE\n",
      "Bytes0\n",
      "CLIP\n",
      "ComplexWarning\n",
      "DataSource\n",
      "Datetime64\n",
      "ERR_CALL\n",
      "ERR_DEFAULT\n",
      "ERR_IGNORE\n",
      "ERR_LOG\n",
      "ERR_PRINT\n",
      "ERR_RAISE\n",
      "ERR_WARN\n",
      "FLOATING_POINT_SUPPORT\n",
      "FPE_DIVIDEBYZERO\n",
      "FPE_INVALID\n",
      "FPE_OVERFLOW\n",
      "FPE_UNDERFLOW\n",
      "False_\n",
      "Inf\n",
      "Infinity\n",
      "MAXDIMS\n",
      "MAY_SHARE_BOUNDS\n",
      "MAY_SHARE_EXACT\n",
      "MachAr\n",
      "ModuleDeprecationWarning\n",
      "NAN\n",
      "NINF\n",
      "NZERO\n",
      "NaN\n",
      "PINF\n",
      "PZERO\n",
      "RAISE\n",
      "RankWarning\n",
      "SHIFT_DIVIDEBYZERO\n",
      "SHIFT_INVALID\n",
      "SHIFT_OVERFLOW\n",
      "SHIFT_UNDERFLOW\n",
      "ScalarType\n",
      "Str0\n",
      "Tester\n",
      "TooHardError\n",
      "True_\n",
      "UFUNC_BUFSIZE_DEFAULT\n",
      "UFUNC_PYVALS_NAME\n",
      "Uint64\n",
      "VisibleDeprecationWarning\n",
      "WRAP\n",
      "_NoValue\n",
      "_UFUNC_API\n",
      "__NUMPY_SETUP__\n",
      "__all__\n",
      "__builtins__\n",
      "__cached__\n",
      "__config__\n",
      "__deprecated_attrs__\n",
      "__dir__\n",
      "__doc__\n",
      "__expired_functions__\n",
      "__file__\n",
      "__getattr__\n",
      "__git_version__\n",
      "__loader__\n",
      "__mkl_version__\n",
      "__name__\n",
      "__package__\n",
      "__path__\n",
      "__spec__\n",
      "__version__\n",
      "_add_newdoc_ufunc\n",
      "_distributor_init\n",
      "_financial_names\n",
      "_globals\n",
      "_mat\n",
      "_pytesttester\n",
      "_version\n",
      "abs\n",
      "absolute\n",
      "add\n",
      "add_docstring\n",
      "add_newdoc\n",
      "add_newdoc_ufunc\n",
      "alen\n",
      "all\n",
      "allclose\n",
      "alltrue\n",
      "amax\n",
      "amin\n",
      "angle\n",
      "any\n",
      "append\n",
      "apply_along_axis\n",
      "apply_over_axes\n",
      "arange\n",
      "arccos\n",
      "arccosh\n",
      "arcsin\n",
      "arcsinh\n",
      "arctan\n",
      "arctan2\n",
      "arctanh\n",
      "argmax\n",
      "argmin\n",
      "argpartition\n",
      "argsort\n",
      "argwhere\n",
      "around\n",
      "array\n",
      "array2string\n",
      "array_equal\n",
      "array_equiv\n",
      "array_repr\n",
      "array_split\n",
      "array_str\n",
      "asanyarray\n",
      "asarray\n",
      "asarray_chkfinite\n",
      "ascontiguousarray\n",
      "asfarray\n",
      "asfortranarray\n",
      "asmatrix\n",
      "asscalar\n",
      "atleast_1d\n",
      "atleast_2d\n",
      "atleast_3d\n",
      "average\n",
      "bartlett\n",
      "base_repr\n",
      "binary_repr\n",
      "bincount\n",
      "bitwise_and\n",
      "bitwise_not\n",
      "bitwise_or\n",
      "bitwise_xor\n",
      "blackman\n",
      "block\n",
      "bmat\n",
      "bool8\n",
      "bool_\n",
      "broadcast\n",
      "broadcast_arrays\n",
      "broadcast_shapes\n",
      "broadcast_to\n",
      "busday_count\n",
      "busday_offset\n",
      "busdaycalendar\n",
      "byte\n",
      "byte_bounds\n",
      "bytes0\n",
      "bytes_\n",
      "c_\n",
      "can_cast\n",
      "cast\n",
      "cbrt\n",
      "cdouble\n",
      "ceil\n",
      "cfloat\n",
      "char\n",
      "character\n",
      "chararray\n",
      "choose\n",
      "clip\n",
      "clongdouble\n",
      "clongfloat\n",
      "column_stack\n",
      "common_type\n",
      "compare_chararrays\n",
      "compat\n",
      "complex128\n",
      "complex256\n",
      "complex64\n",
      "complex_\n",
      "complexfloating\n",
      "compress\n",
      "concatenate\n",
      "conj\n",
      "conjugate\n",
      "convolve\n",
      "copy\n",
      "copysign\n",
      "copyto\n",
      "core\n",
      "corrcoef\n",
      "correlate\n",
      "cos\n",
      "cosh\n",
      "count_nonzero\n",
      "cov\n",
      "cross\n",
      "csingle\n",
      "ctypeslib\n",
      "cumprod\n",
      "cumproduct\n",
      "cumsum\n",
      "datetime64\n",
      "datetime_as_string\n",
      "datetime_data\n",
      "deg2rad\n",
      "degrees\n",
      "delete\n",
      "deprecate\n",
      "deprecate_with_doc\n",
      "diag\n",
      "diag_indices\n",
      "diag_indices_from\n",
      "diagflat\n",
      "diagonal\n",
      "diff\n",
      "digitize\n",
      "disp\n",
      "divide\n",
      "divmod\n",
      "dot\n",
      "double\n",
      "dsplit\n",
      "dstack\n",
      "dtype\n",
      "e\n",
      "ediff1d\n",
      "einsum\n",
      "einsum_path\n",
      "emath\n",
      "empty\n",
      "empty_like\n",
      "equal\n",
      "error_message\n",
      "errstate\n",
      "euler_gamma\n",
      "exp\n",
      "exp2\n",
      "expand_dims\n",
      "expm1\n",
      "extract\n",
      "eye\n",
      "fabs\n",
      "fastCopyAndTranspose\n",
      "fft\n",
      "fill_diagonal\n",
      "find_common_type\n",
      "finfo\n",
      "fix\n",
      "flatiter\n",
      "flatnonzero\n",
      "flexible\n",
      "flip\n",
      "fliplr\n",
      "flipud\n",
      "float128\n",
      "float16\n",
      "float32\n",
      "float64\n",
      "float_\n",
      "float_power\n",
      "floating\n",
      "floor\n",
      "floor_divide\n",
      "fmax\n",
      "fmin\n",
      "fmod\n",
      "format_float_positional\n",
      "format_float_scientific\n",
      "format_parser\n",
      "frexp\n",
      "frombuffer\n",
      "fromfile\n",
      "fromfunction\n",
      "fromiter\n",
      "frompyfunc\n",
      "fromregex\n",
      "fromstring\n",
      "full\n",
      "full_like\n",
      "gcd\n",
      "generic\n",
      "genfromtxt\n",
      "geomspace\n",
      "get_array_wrap\n",
      "get_include\n",
      "get_printoptions\n",
      "getbufsize\n",
      "geterr\n",
      "geterrcall\n",
      "geterrobj\n",
      "gradient\n",
      "greater\n",
      "greater_equal\n",
      "half\n",
      "hamming\n",
      "hanning\n",
      "heaviside\n",
      "histogram\n",
      "histogram2d\n",
      "histogram_bin_edges\n",
      "histogramdd\n",
      "hsplit\n",
      "hstack\n",
      "hypot\n",
      "i0\n",
      "identity\n",
      "iinfo\n",
      "imag\n",
      "in1d\n",
      "index_exp\n",
      "indices\n",
      "inexact\n",
      "inf\n",
      "info\n",
      "infty\n",
      "inner\n",
      "insert\n",
      "int0\n",
      "int16\n",
      "int32\n",
      "int64\n",
      "int8\n",
      "int_\n",
      "intc\n",
      "integer\n",
      "interp\n",
      "intersect1d\n",
      "intp\n",
      "invert\n",
      "is_busday\n",
      "isclose\n",
      "iscomplex\n",
      "iscomplexobj\n",
      "isfinite\n",
      "isfortran\n",
      "isin\n",
      "isinf\n",
      "isnan\n",
      "isnat\n",
      "isneginf\n",
      "isposinf\n",
      "isreal\n",
      "isrealobj\n",
      "isscalar\n",
      "issctype\n",
      "issubclass_\n",
      "issubdtype\n",
      "issubsctype\n",
      "iterable\n",
      "ix_\n",
      "kaiser\n",
      "kron\n",
      "lcm\n",
      "ldexp\n",
      "left_shift\n",
      "less\n",
      "less_equal\n",
      "lexsort\n",
      "lib\n",
      "linalg\n",
      "linspace\n",
      "little_endian\n",
      "load\n",
      "loads\n",
      "loadtxt\n",
      "log\n",
      "log10\n",
      "log1p\n",
      "log2\n",
      "logaddexp\n",
      "logaddexp2\n",
      "logical_and\n",
      "logical_not\n",
      "logical_or\n",
      "logical_xor\n",
      "logspace\n",
      "longcomplex\n",
      "longdouble\n",
      "longfloat\n",
      "longlong\n",
      "lookfor\n",
      "ma\n",
      "mafromtxt\n",
      "mask_indices\n",
      "mat\n",
      "math\n",
      "matmul\n",
      "matrix\n",
      "matrixlib\n",
      "max\n",
      "maximum\n",
      "maximum_sctype\n",
      "may_share_memory\n",
      "mean\n",
      "median\n",
      "memmap\n",
      "meshgrid\n",
      "mgrid\n",
      "min\n",
      "min_scalar_type\n",
      "minimum\n",
      "mintypecode\n",
      "mkl\n",
      "mod\n",
      "modf\n",
      "moveaxis\n",
      "msort\n",
      "multiply\n",
      "nan\n",
      "nan_to_num\n",
      "nanargmax\n",
      "nanargmin\n",
      "nancumprod\n",
      "nancumsum\n",
      "nanmax\n",
      "nanmean\n",
      "nanmedian\n",
      "nanmin\n",
      "nanpercentile\n",
      "nanprod\n",
      "nanquantile\n",
      "nanstd\n",
      "nansum\n",
      "nanvar\n",
      "nbytes\n",
      "ndarray\n",
      "ndenumerate\n",
      "ndfromtxt\n",
      "ndim\n",
      "ndindex\n",
      "nditer\n",
      "negative\n",
      "nested_iters\n",
      "newaxis\n",
      "nextafter\n",
      "nonzero\n",
      "not_equal\n",
      "numarray\n",
      "number\n",
      "obj2sctype\n",
      "object0\n",
      "object_\n",
      "ogrid\n",
      "oldnumeric\n",
      "ones\n",
      "ones_like\n",
      "os\n",
      "outer\n",
      "packbits\n",
      "pad\n",
      "partition\n",
      "percentile\n",
      "pi\n",
      "piecewise\n",
      "place\n",
      "poly\n",
      "poly1d\n",
      "polyadd\n",
      "polyder\n",
      "polydiv\n",
      "polyfit\n",
      "polyint\n",
      "polymul\n",
      "polynomial\n",
      "polysub\n",
      "polyval\n",
      "positive\n",
      "power\n",
      "printoptions\n",
      "prod\n",
      "product\n",
      "promote_types\n",
      "ptp\n",
      "put\n",
      "put_along_axis\n",
      "putmask\n",
      "quantile\n",
      "r_\n",
      "rad2deg\n",
      "radians\n",
      "random\n",
      "ravel\n",
      "ravel_multi_index\n",
      "real\n",
      "real_if_close\n",
      "rec\n",
      "recarray\n",
      "recfromcsv\n",
      "recfromtxt\n",
      "reciprocal\n",
      "record\n",
      "remainder\n",
      "repeat\n",
      "require\n",
      "reshape\n",
      "resize\n",
      "result_type\n",
      "right_shift\n",
      "rint\n",
      "roll\n",
      "rollaxis\n",
      "roots\n",
      "rot90\n",
      "round\n",
      "round_\n",
      "row_stack\n",
      "s_\n",
      "safe_eval\n",
      "save\n",
      "savetxt\n",
      "savez\n",
      "savez_compressed\n",
      "sctype2char\n",
      "sctypeDict\n",
      "sctypes\n",
      "searchsorted\n",
      "select\n",
      "set_numeric_ops\n",
      "set_printoptions\n",
      "set_string_function\n",
      "setbufsize\n",
      "setdiff1d\n",
      "seterr\n",
      "seterrcall\n",
      "seterrobj\n",
      "setxor1d\n",
      "shape\n",
      "shares_memory\n",
      "short\n",
      "show_config\n",
      "sign\n",
      "signbit\n",
      "signedinteger\n",
      "sin\n",
      "sinc\n",
      "single\n",
      "singlecomplex\n",
      "sinh\n",
      "size\n",
      "sometrue\n",
      "sort\n",
      "sort_complex\n",
      "source\n",
      "spacing\n",
      "split\n",
      "sqrt\n",
      "square\n",
      "squeeze\n",
      "stack\n",
      "std\n",
      "str0\n",
      "str_\n",
      "string_\n",
      "subtract\n",
      "sum\n",
      "swapaxes\n",
      "sys\n",
      "take\n",
      "take_along_axis\n",
      "tan\n",
      "tanh\n",
      "tensordot\n",
      "test\n",
      "testing\n",
      "tile\n",
      "timedelta64\n",
      "trace\n",
      "tracemalloc_domain\n",
      "transpose\n",
      "trapz\n",
      "tri\n",
      "tril\n",
      "tril_indices\n",
      "tril_indices_from\n",
      "trim_zeros\n",
      "triu\n",
      "triu_indices\n",
      "triu_indices_from\n",
      "true_divide\n",
      "trunc\n",
      "typecodes\n",
      "typename\n",
      "ubyte\n",
      "ufunc\n",
      "uint\n",
      "uint0\n",
      "uint16\n",
      "uint32\n",
      "uint64\n",
      "uint8\n",
      "uintc\n",
      "uintp\n",
      "ulonglong\n",
      "unicode_\n",
      "union1d\n",
      "unique\n",
      "unpackbits\n",
      "unravel_index\n",
      "unsignedinteger\n",
      "unwrap\n",
      "use_hugepage\n",
      "ushort\n",
      "vander\n",
      "var\n",
      "vdot\n",
      "vectorize\n",
      "version\n",
      "void\n",
      "void0\n",
      "vsplit\n",
      "vstack\n",
      "w\n",
      "warnings\n",
      "where\n",
      "who\n",
      "zeros\n",
      "zeros_like\n"
     ]
    }
   ],
   "source": [
    "# For a list of all NumPy functions and methods\n",
    "import numpy as np\n",
    "for func in dir(np):\n",
    "    print(func)"
   ]
  },
  {
   "cell_type": "markdown",
   "metadata": {},
   "source": [
    "## Example of pulling out an entire column or entire row from an array"
   ]
  },
  {
   "cell_type": "code",
   "execution_count": 129,
   "metadata": {},
   "outputs": [
    {
     "data": {
      "text/plain": [
       "array([[ 99,   4,  10,  18],\n",
       "       [  8,   2,   7,  20],\n",
       "       [-44,  56,   8,   5]])"
      ]
     },
     "execution_count": 129,
     "metadata": {},
     "output_type": "execute_result"
    }
   ],
   "source": [
    "# From worksheet\n",
    "B = np.array([ [ 99 , 4, 10, 18 ],\n",
    "[ 8, 2, 7, 20 ],\n",
    "[ -44, 56, 8, 5 ] ])\n",
    "B"
   ]
  },
  {
   "cell_type": "code",
   "execution_count": 130,
   "metadata": {},
   "outputs": [
    {
     "data": {
      "text/plain": [
       "array([10,  7,  8])"
      ]
     },
     "execution_count": 130,
     "metadata": {},
     "output_type": "execute_result"
    }
   ],
   "source": [
    "# pull out the 3rd column (column at index 2)\n",
    "B[0:3:1,2]"
   ]
  },
  {
   "cell_type": "code",
   "execution_count": 131,
   "metadata": {},
   "outputs": [
    {
     "data": {
      "text/plain": [
       "array([10,  7,  8])"
      ]
     },
     "execution_count": 131,
     "metadata": {},
     "output_type": "execute_result"
    }
   ],
   "source": [
    "B[:,2]"
   ]
  },
  {
   "cell_type": "code",
   "execution_count": 132,
   "metadata": {},
   "outputs": [
    {
     "data": {
      "text/plain": [
       "array([ 4,  2, 56])"
      ]
     },
     "execution_count": 132,
     "metadata": {},
     "output_type": "execute_result"
    }
   ],
   "source": [
    "# pull out the 2nd column (column at index 1)\n",
    "B[:,1]"
   ]
  },
  {
   "cell_type": "code",
   "execution_count": 133,
   "metadata": {},
   "outputs": [
    {
     "data": {
      "text/plain": [
       "array([ 8,  2,  7, 20])"
      ]
     },
     "execution_count": 133,
     "metadata": {},
     "output_type": "execute_result"
    }
   ],
   "source": [
    "# pull out all elements from the 2nd row (row index 1)\n",
    "B[1,:]"
   ]
  },
  {
   "cell_type": "code",
   "execution_count": 135,
   "metadata": {},
   "outputs": [],
   "source": [
    "# B[row,col]"
   ]
  }
 ],
 "metadata": {
  "kernelspec": {
   "display_name": "Python 3 (ipykernel)",
   "language": "python",
   "name": "python3"
  },
  "language_info": {
   "codemirror_mode": {
    "name": "ipython",
    "version": 3
   },
   "file_extension": ".py",
   "mimetype": "text/x-python",
   "name": "python",
   "nbconvert_exporter": "python",
   "pygments_lexer": "ipython3",
   "version": "3.9.7"
  }
 },
 "nbformat": 4,
 "nbformat_minor": 2
}
