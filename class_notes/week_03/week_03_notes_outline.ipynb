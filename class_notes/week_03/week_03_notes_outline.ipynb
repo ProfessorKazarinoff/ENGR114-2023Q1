{
 "cells": [
  {
   "cell_type": "markdown",
   "metadata": {},
   "source": [
    "# Week 3 - NumPy and Arrays¶\n",
    "\n",
    "### NumPy is a Python package for numerical computing. The core NumPy data type is the homogeneous array.\n",
    "\n",
    "### Built-in functions in Python don't have to be 'imported' before use"
   ]
  },
  {
   "cell_type": "code",
   "execution_count": null,
   "metadata": {},
   "outputs": [],
   "source": []
  },
  {
   "cell_type": "markdown",
   "metadata": {},
   "source": [
    "### Some functions are part of the Python Standard Library, but not built-in\n",
    "\n",
    "### These functions come with every Python installation, but must be imported before they are used"
   ]
  },
  {
   "cell_type": "code",
   "execution_count": null,
   "metadata": {},
   "outputs": [],
   "source": []
  },
  {
   "cell_type": "markdown",
   "metadata": {},
   "source": [
    "### Functions in external packages like NumPy and Pandas need to be installed before they can be used. If using just Python, would need to install the NumPy and Pandas package first with pip install command.¶\n",
    "\n",
    "### In the Anaconda distribution of Python , these external packages come pre-installed, so we can directly import them"
   ]
  },
  {
   "cell_type": "code",
   "execution_count": null,
   "metadata": {},
   "outputs": [],
   "source": []
  },
  {
   "cell_type": "markdown",
   "metadata": {},
   "source": [
    "## Data Types in NumPy Arrays¶\n",
    "\n",
    "The array converts all elements into the least precise data type, if there is mixed data types in array\n",
    "\n",
    " * np.bool (most precise)\n",
    " * np.int64\n",
    " * np.float64\n",
    " * np.string\n",
    " * np.object (least precise)"
   ]
  },
  {
   "cell_type": "code",
   "execution_count": null,
   "metadata": {},
   "outputs": [],
   "source": []
  },
  {
   "cell_type": "markdown",
   "metadata": {},
   "source": [
    "### Array Attributes - these specify data type of array element, size of array, dimension of array etc.and they can be changed too by using assignment operator"
   ]
  },
  {
   "cell_type": "code",
   "execution_count": null,
   "metadata": {},
   "outputs": [],
   "source": []
  },
  {
   "cell_type": "markdown",
   "metadata": {},
   "source": [
    "## Array generation functions in NumPy"
   ]
  },
  {
   "cell_type": "code",
   "execution_count": null,
   "metadata": {},
   "outputs": [],
   "source": []
  },
  {
   "cell_type": "markdown",
   "metadata": {},
   "source": [
    "## Array Indexing and Slicing\n",
    "\n",
    " * NumPy arrays can be indexed and sliced just like Python lists and strings\n",
    " * Counting starts from 0 and stops at n-1 with default step 1\n",
    " * Array dimension maybe one, two or multi dimensional\n",
    "\n",
    "### One dimensional array and array attributes"
   ]
  },
  {
   "cell_type": "code",
   "execution_count": null,
   "metadata": {},
   "outputs": [],
   "source": []
  },
  {
   "cell_type": "markdown",
   "metadata": {},
   "source": [
    "### Two dimensional arrays and array attributes\n",
    "\n",
    " * Indexed and sliced like one dimensional arrays\n",
    " * array elements are referenced as [row,column] by location"
   ]
  },
  {
   "cell_type": "code",
   "execution_count": null,
   "metadata": {},
   "outputs": [],
   "source": []
  },
  {
   "cell_type": "markdown",
   "metadata": {},
   "source": [
    "### np.where() returns the location of a value in an array"
   ]
  },
  {
   "cell_type": "code",
   "execution_count": null,
   "metadata": {},
   "outputs": [],
   "source": []
  },
  {
   "cell_type": "markdown",
   "metadata": {},
   "source": [
    "## Boolean Masks\n",
    "\n",
    "### A boolean mask is an array that contains all True or False values only.\n",
    "\n",
    " * For each True value in the boolean mask, a value is returned from an indexed array.\n",
    " * For each False value in the boolean mask, no value is returned from an indexed array.\n"
   ]
  },
  {
   "cell_type": "code",
   "execution_count": null,
   "metadata": {},
   "outputs": [],
   "source": []
  },
  {
   "cell_type": "markdown",
   "metadata": {},
   "source": [
    "### Broadcasting functions and mathematical operations across arrays"
   ]
  },
  {
   "cell_type": "code",
   "execution_count": null,
   "metadata": {},
   "outputs": [],
   "source": []
  },
  {
   "cell_type": "markdown",
   "metadata": {},
   "source": [
    "## Getting help with NumPy and Python Math functions / methods"
   ]
  },
  {
   "cell_type": "markdown",
   "metadata": {},
   "source": [
    "### Get help using dir in Jupyter on functions, methods,variables or objects"
   ]
  },
  {
   "cell_type": "code",
   "execution_count": null,
   "metadata": {},
   "outputs": [],
   "source": []
  },
  {
   "cell_type": "code",
   "execution_count": null,
   "metadata": {},
   "outputs": [],
   "source": []
  },
  {
   "cell_type": "markdown",
   "metadata": {},
   "source": [
    "### Get help using tab key after objectname.[tab] in Jupter cel"
   ]
  },
  {
   "cell_type": "code",
   "execution_count": null,
   "metadata": {},
   "outputs": [],
   "source": []
  },
  {
   "cell_type": "markdown",
   "metadata": {},
   "source": [
    "### Get help using help() function in Jupyter cell"
   ]
  },
  {
   "cell_type": "code",
   "execution_count": null,
   "metadata": {},
   "outputs": [],
   "source": []
  },
  {
   "cell_type": "markdown",
   "metadata": {},
   "source": [
    "## Refer to Appendix E in the text: NumPy Math functions. Describes various NumPy functions."
   ]
  },
  {
   "cell_type": "code",
   "execution_count": null,
   "metadata": {},
   "outputs": [],
   "source": [
    "# For a list of all NumPy functions and methods\n",
    "import numpy as np\n",
    "for func in dir(np):\n",
    "    print(func)"
   ]
  }
 ],
 "metadata": {
  "kernelspec": {
   "display_name": "Python 3 (ipykernel)",
   "language": "python",
   "name": "python3"
  },
  "language_info": {
   "codemirror_mode": {
    "name": "ipython",
    "version": 3
   },
   "file_extension": ".py",
   "mimetype": "text/x-python",
   "name": "python",
   "nbconvert_exporter": "python",
   "pygments_lexer": "ipython3",
   "version": "3.9.7"
  }
 },
 "nbformat": 4,
 "nbformat_minor": 2
}
