{
 "cells": [
  {
   "cell_type": "markdown",
   "id": "6f925647",
   "metadata": {},
   "source": [
    "# Lab 7 Notes\n",
    "\n",
    " * ENGR114 2022Q4\n",
    " * 2022-11-17"
   ]
  },
  {
   "cell_type": "markdown",
   "id": "35017b6d",
   "metadata": {},
   "source": [
    "## Explore a taylor series using a for loop"
   ]
  },
  {
   "cell_type": "markdown",
   "id": "0d4b68d1",
   "metadata": {},
   "source": [
    "### See if there is a factorial function in Python's math module"
   ]
  },
  {
   "cell_type": "code",
   "execution_count": 1,
   "id": "907a0f6d",
   "metadata": {},
   "outputs": [],
   "source": [
    "import math"
   ]
  },
  {
   "cell_type": "code",
   "execution_count": 2,
   "id": "90b674b6",
   "metadata": {},
   "outputs": [],
   "source": [
    "# dir(math)  turns out the math module does have a factorial function"
   ]
  },
  {
   "cell_type": "markdown",
   "id": "e4fd2893",
   "metadata": {},
   "source": [
    "### Import the factorial function from the math module"
   ]
  },
  {
   "cell_type": "code",
   "execution_count": 3,
   "id": "2bc5a17d",
   "metadata": {},
   "outputs": [],
   "source": [
    "from math import factorial"
   ]
  },
  {
   "cell_type": "code",
   "execution_count": 4,
   "id": "341f0a70",
   "metadata": {},
   "outputs": [
    {
     "data": {
      "text/plain": [
       "2"
      ]
     },
     "execution_count": 4,
     "metadata": {},
     "output_type": "execute_result"
    }
   ],
   "source": [
    "# test 2! and 3!\n",
    "factorial(2)"
   ]
  },
  {
   "cell_type": "code",
   "execution_count": 5,
   "id": "b30dc45d",
   "metadata": {},
   "outputs": [
    {
     "data": {
      "text/plain": [
       "6"
      ]
     },
     "execution_count": 5,
     "metadata": {},
     "output_type": "execute_result"
    }
   ],
   "source": [
    "factorial(3)"
   ]
  },
  {
   "cell_type": "code",
   "execution_count": 6,
   "id": "83ced760",
   "metadata": {},
   "outputs": [
    {
     "data": {
      "text/plain": [
       "1"
      ]
     },
     "execution_count": 6,
     "metadata": {},
     "output_type": "execute_result"
    }
   ],
   "source": [
    "# what is 0!  ????\n",
    "factorial(0)"
   ]
  },
  {
   "cell_type": "markdown",
   "id": "99db489d",
   "metadata": {},
   "source": [
    "### Approximate e^2 or exp(2) by typing the taylor series terms"
   ]
  },
  {
   "cell_type": "code",
   "execution_count": 7,
   "id": "03a32f73",
   "metadata": {},
   "outputs": [
    {
     "data": {
      "text/plain": [
       "7.266666666666667"
      ]
     },
     "execution_count": 7,
     "metadata": {},
     "output_type": "execute_result"
    }
   ],
   "source": [
    "1 + 2 + 2**2/factorial(2) + 2**3/factorial(3) + 2**4/factorial(4) + 2**5/factorial(5)"
   ]
  },
  {
   "cell_type": "code",
   "execution_count": 8,
   "id": "3080bffc",
   "metadata": {},
   "outputs": [],
   "source": [
    "# check against python's exp() function\n",
    "from math import exp"
   ]
  },
  {
   "cell_type": "code",
   "execution_count": 9,
   "id": "1b1abe42",
   "metadata": {},
   "outputs": [
    {
     "data": {
      "text/plain": [
       "7.38905609893065"
      ]
     },
     "execution_count": 9,
     "metadata": {},
     "output_type": "execute_result"
    }
   ],
   "source": [
    "exp(2)"
   ]
  },
  {
   "cell_type": "code",
   "execution_count": 10,
   "id": "7c17f68b",
   "metadata": {},
   "outputs": [
    {
     "data": {
      "text/plain": [
       "18.4"
      ]
     },
     "execution_count": 10,
     "metadata": {},
     "output_type": "execute_result"
    }
   ],
   "source": [
    "x=3\n",
    "1 + x + x**2/factorial(2) + x**3/factorial(3) + x**4/factorial(4) + x**5/factorial(5)"
   ]
  },
  {
   "cell_type": "code",
   "execution_count": 11,
   "id": "4ac08555",
   "metadata": {},
   "outputs": [
    {
     "data": {
      "text/plain": [
       "20.085536923187668"
      ]
     },
     "execution_count": 11,
     "metadata": {},
     "output_type": "execute_result"
    }
   ],
   "source": [
    "exp(3)"
   ]
  },
  {
   "cell_type": "markdown",
   "id": "cad90fd7",
   "metadata": {},
   "source": [
    "### rewrite the taylor series terms using a loop"
   ]
  },
  {
   "cell_type": "code",
   "execution_count": 12,
   "id": "918fcc64",
   "metadata": {},
   "outputs": [
    {
     "data": {
      "text/plain": [
       "3"
      ]
     },
     "execution_count": 12,
     "metadata": {},
     "output_type": "execute_result"
    }
   ],
   "source": [
    "x = 1\n",
    "x += 2\n",
    "x"
   ]
  },
  {
   "cell_type": "code",
   "execution_count": 13,
   "id": "4e6137eb",
   "metadata": {},
   "outputs": [
    {
     "name": "stdout",
     "output_type": "stream",
     "text": [
      "20.085536921517665\n"
     ]
    }
   ],
   "source": [
    "x = 3  # find exp(3)\n",
    "exp_t = 0\n",
    "for n in range(20):\n",
    "    term = x**n/factorial(n)\n",
    "    exp_t += term\n",
    "    \n",
    "print(exp_t)"
   ]
  },
  {
   "cell_type": "code",
   "execution_count": 14,
   "id": "94ae738f",
   "metadata": {},
   "outputs": [
    {
     "data": {
      "text/plain": [
       "-1.6700028027116787e-09"
      ]
     },
     "execution_count": 14,
     "metadata": {},
     "output_type": "execute_result"
    }
   ],
   "source": [
    "exp_t - exp(3)"
   ]
  },
  {
   "cell_type": "markdown",
   "id": "92523e88",
   "metadata": {},
   "source": [
    "### break out the number of terms into a variable"
   ]
  },
  {
   "cell_type": "code",
   "execution_count": 15,
   "id": "ecc99369",
   "metadata": {},
   "outputs": [
    {
     "name": "stdout",
     "output_type": "stream",
     "text": [
      "20.08553692318766\n"
     ]
    }
   ],
   "source": [
    "x = 3  # find exp(3)\n",
    "exp_t = 0\n",
    "n_terms = 40\n",
    "for n in range(n_terms):\n",
    "    term = x**n/factorial(n)\n",
    "    exp_t += term\n",
    "    \n",
    "print(exp_t)"
   ]
  },
  {
   "cell_type": "markdown",
   "id": "77effc26",
   "metadata": {},
   "source": [
    "### put the loop into a function"
   ]
  },
  {
   "cell_type": "code",
   "execution_count": 16,
   "id": "634d0752",
   "metadata": {},
   "outputs": [],
   "source": [
    "def exp_taylor(x, n_terms):\n",
    "    exp_t = 0\n",
    "    for n in range(n_terms):\n",
    "        term = x**n/factorial(n)\n",
    "        exp_t += term\n",
    "        \n",
    "    return exp_t"
   ]
  },
  {
   "cell_type": "code",
   "execution_count": 17,
   "id": "ba7d21a7",
   "metadata": {},
   "outputs": [
    {
     "data": {
      "text/plain": [
       "20.08553692318766"
      ]
     },
     "execution_count": 17,
     "metadata": {},
     "output_type": "execute_result"
    }
   ],
   "source": [
    "# test the exp_taylor function with x=3 and 40 terms\n",
    "exp_taylor(3,40)"
   ]
  },
  {
   "cell_type": "code",
   "execution_count": 18,
   "id": "3e9dd480",
   "metadata": {},
   "outputs": [
    {
     "data": {
      "text/plain": [
       "7.266666666666667"
      ]
     },
     "execution_count": 18,
     "metadata": {},
     "output_type": "execute_result"
    }
   ],
   "source": [
    "# test exp_taylor function with x=2 and 6 terms\n",
    "exp_taylor(2,6)"
   ]
  },
  {
   "cell_type": "code",
   "execution_count": 19,
   "id": "ccaea854",
   "metadata": {},
   "outputs": [],
   "source": [
    "## put the exp_taylor function in a .py file, import it and use it"
   ]
  },
  {
   "cell_type": "code",
   "execution_count": 20,
   "id": "d481e754",
   "metadata": {},
   "outputs": [],
   "source": [
    "from taylor_series import exp_taylor"
   ]
  },
  {
   "cell_type": "code",
   "execution_count": 21,
   "id": "c3742896",
   "metadata": {},
   "outputs": [
    {
     "data": {
      "text/plain": [
       "7.266666666666667"
      ]
     },
     "execution_count": 21,
     "metadata": {},
     "output_type": "execute_result"
    }
   ],
   "source": [
    "exp_taylor(2,6)"
   ]
  },
  {
   "cell_type": "markdown",
   "id": "f8249ab7",
   "metadata": {},
   "source": [
    "### Calculate sin(0.5) using 5 terms of the taylor series"
   ]
  },
  {
   "cell_type": "code",
   "execution_count": 22,
   "id": "0a2e0442",
   "metadata": {},
   "outputs": [
    {
     "data": {
      "text/plain": [
       "0.4794255386164159"
      ]
     },
     "execution_count": 22,
     "metadata": {},
     "output_type": "execute_result"
    }
   ],
   "source": [
    "0.5 - 0.5**3/factorial(3) + 0.5**5/factorial(5) - 0.5**7/factorial(7) + 0.5**9/factorial(9) "
   ]
  },
  {
   "cell_type": "code",
   "execution_count": 23,
   "id": "8f4d0417",
   "metadata": {},
   "outputs": [],
   "source": [
    "# compare to the sin() function from Python's math module\n",
    "from math import sin"
   ]
  },
  {
   "cell_type": "code",
   "execution_count": 24,
   "id": "6704e35b",
   "metadata": {},
   "outputs": [
    {
     "data": {
      "text/plain": [
       "0.479425538604203"
      ]
     },
     "execution_count": 24,
     "metadata": {},
     "output_type": "execute_result"
    }
   ],
   "source": [
    "sin(0.5)"
   ]
  },
  {
   "cell_type": "code",
   "execution_count": 25,
   "id": "29ef0d02",
   "metadata": {},
   "outputs": [
    {
     "data": {
      "text/plain": [
       "1.2212897360086572e-11"
      ]
     },
     "execution_count": 25,
     "metadata": {},
     "output_type": "execute_result"
    }
   ],
   "source": [
    "# compare\n",
    "0.4794255386164159 - sin(0.5)"
   ]
  },
  {
   "cell_type": "markdown",
   "id": "90bc7c5c",
   "metadata": {},
   "source": [
    "### put in a variable to be able to find the sine of any number using the taylor series"
   ]
  },
  {
   "cell_type": "code",
   "execution_count": 29,
   "id": "a43386ce",
   "metadata": {},
   "outputs": [],
   "source": [
    "from math import pi"
   ]
  },
  {
   "cell_type": "code",
   "execution_count": 30,
   "id": "b1f35510",
   "metadata": {},
   "outputs": [
    {
     "data": {
      "text/plain": [
       "-0.444365928237735"
      ]
     },
     "execution_count": 30,
     "metadata": {},
     "output_type": "execute_result"
    }
   ],
   "source": [
    "x = 3*pi/2\n",
    "x - x**3/factorial(3) + x**5/factorial(5) - x**7/factorial(7) + x**9/factorial(9)"
   ]
  },
  {
   "cell_type": "code",
   "execution_count": 31,
   "id": "1b998e98",
   "metadata": {},
   "outputs": [
    {
     "data": {
      "text/plain": [
       "0.1411200080598672"
      ]
     },
     "execution_count": 31,
     "metadata": {},
     "output_type": "execute_result"
    }
   ],
   "source": [
    "# compare to the sin() function in Python's math module\n",
    "sin(3)"
   ]
  },
  {
   "cell_type": "code",
   "execution_count": 32,
   "id": "1470661e",
   "metadata": {},
   "outputs": [],
   "source": [
    "from math import pi"
   ]
  },
  {
   "cell_type": "code",
   "execution_count": 33,
   "id": "c46566b3",
   "metadata": {},
   "outputs": [
    {
     "data": {
      "text/plain": [
       "-1.0"
      ]
     },
     "execution_count": 33,
     "metadata": {},
     "output_type": "execute_result"
    }
   ],
   "source": [
    "sin(3*pi/2)"
   ]
  },
  {
   "cell_type": "markdown",
   "id": "656010fe",
   "metadata": {},
   "source": [
    "### use a loop to write out the taylor series"
   ]
  },
  {
   "cell_type": "code",
   "execution_count": 34,
   "id": "4e59fe08",
   "metadata": {},
   "outputs": [
    {
     "data": {
      "text/plain": [
       "0.6442176877315008"
      ]
     },
     "execution_count": 34,
     "metadata": {},
     "output_type": "execute_result"
    }
   ],
   "source": [
    "x = 0.7\n",
    "sin_t = 0   # initialize the variable that will store the growing sum of terms\n",
    "for n in range(5):\n",
    "    term = (-1)**n * x**(2*n+1)/factorial(2*n+1)\n",
    "    sin_t += term\n",
    "    \n",
    "sin_t"
   ]
  },
  {
   "cell_type": "code",
   "execution_count": 35,
   "id": "d80f416a",
   "metadata": {},
   "outputs": [
    {
     "data": {
      "text/plain": [
       "0.644217687237691"
      ]
     },
     "execution_count": 35,
     "metadata": {},
     "output_type": "execute_result"
    }
   ],
   "source": [
    "sin(0.7)"
   ]
  },
  {
   "cell_type": "markdown",
   "id": "bb911445",
   "metadata": {},
   "source": [
    "### pull all hard coded numbers out of the loop and into a variable\n"
   ]
  },
  {
   "cell_type": "code",
   "execution_count": 36,
   "id": "9346d5e8",
   "metadata": {},
   "outputs": [
    {
     "data": {
      "text/plain": [
       "0.6442176877315008"
      ]
     },
     "execution_count": 36,
     "metadata": {},
     "output_type": "execute_result"
    }
   ],
   "source": [
    "x = 0.7\n",
    "sin_t = 0   # initialize the variable that will store the growing sum of terms\n",
    "n_terms = 5\n",
    "for n in range(n_terms):\n",
    "    term = (-1)**n * x**(2*n+1)/factorial(2*n+1)\n",
    "    sin_t += term\n",
    "    \n",
    "sin_t"
   ]
  },
  {
   "cell_type": "markdown",
   "id": "40b55956",
   "metadata": {},
   "source": [
    "### put the loop into a function\n",
    "\n"
   ]
  },
  {
   "cell_type": "code",
   "execution_count": 37,
   "id": "f8ff136b",
   "metadata": {},
   "outputs": [],
   "source": [
    "def sin_taylor(x, n_terms):\n",
    "    sin_t = 0\n",
    "    for n in range(n_terms):\n",
    "        term = (-1)**n * x**(2*n+1)/factorial(2*n+1)\n",
    "        sin_t += term\n",
    "        \n",
    "    return sin_t"
   ]
  },
  {
   "cell_type": "code",
   "execution_count": 38,
   "id": "9e2e49c2",
   "metadata": {},
   "outputs": [
    {
     "data": {
      "text/plain": [
       "0.6442176877315008"
      ]
     },
     "execution_count": 38,
     "metadata": {},
     "output_type": "execute_result"
    }
   ],
   "source": [
    "# test the function with x=0.7 and 5 terms\n",
    "sin_taylor(0.7,5)"
   ]
  },
  {
   "cell_type": "code",
   "execution_count": 39,
   "id": "1effaaa0",
   "metadata": {},
   "outputs": [],
   "source": [
    "# copy the sin_taylor function in the taylor_series.py file, import the function and test it"
   ]
  },
  {
   "cell_type": "code",
   "execution_count": 40,
   "id": "b8b963dc",
   "metadata": {},
   "outputs": [],
   "source": [
    "from taylor_series import sin_taylor"
   ]
  },
  {
   "cell_type": "code",
   "execution_count": 41,
   "id": "bfa95fcb",
   "metadata": {},
   "outputs": [
    {
     "data": {
      "text/plain": [
       "0.6442176877315008"
      ]
     },
     "execution_count": 41,
     "metadata": {},
     "output_type": "execute_result"
    }
   ],
   "source": [
    "sin_taylor(0.7,5)"
   ]
  },
  {
   "cell_type": "markdown",
   "id": "cf0b21a8",
   "metadata": {},
   "source": [
    "### use selection logic to choose which function to run and then run the function"
   ]
  },
  {
   "cell_type": "code",
   "execution_count": 42,
   "id": "5de23a19",
   "metadata": {},
   "outputs": [],
   "source": [
    "from taylor_series import sin_taylor, exp_taylor"
   ]
  },
  {
   "cell_type": "code",
   "execution_count": 43,
   "id": "e7431c3c",
   "metadata": {},
   "outputs": [
    {
     "name": "stdout",
     "output_type": "stream",
     "text": [
      "2.0121708333333332\n"
     ]
    }
   ],
   "source": [
    "func = 'exp'\n",
    "x = 0.7\n",
    "n_terms = 5\n",
    "if func == 'sin':\n",
    "    ans = sin_taylor(x,n_terms)\n",
    "elif func == 'exp':\n",
    "    ans = exp_taylor(x,n_terms)\n",
    "else:\n",
    "    print(\"not one of the functions\")\n",
    "print(ans)"
   ]
  },
  {
   "cell_type": "code",
   "execution_count": 44,
   "id": "8aaebc5c",
   "metadata": {},
   "outputs": [],
   "source": [
    "from math import exp"
   ]
  },
  {
   "cell_type": "code",
   "execution_count": 45,
   "id": "cd2a7c61",
   "metadata": {},
   "outputs": [
    {
     "data": {
      "text/plain": [
       "2.0137527074704766"
      ]
     },
     "execution_count": 45,
     "metadata": {},
     "output_type": "execute_result"
    }
   ],
   "source": [
    "# compare to Python's exp() function\n",
    "exp(0.7)"
   ]
  },
  {
   "cell_type": "markdown",
   "id": "638d57c9",
   "metadata": {},
   "source": [
    "### Create a \"main\" taylor() function that runs the selection logic"
   ]
  },
  {
   "cell_type": "code",
   "execution_count": 46,
   "id": "162d5213",
   "metadata": {},
   "outputs": [],
   "source": [
    "def taylor(func, x, terms):\n",
    "    if func == 'sin':\n",
    "        ans = sin_taylor(x,n_terms)\n",
    "    elif func == 'exp':\n",
    "        ans = exp_taylor(x,n_terms)\n",
    "    else:\n",
    "        print(\"not one of the functions\")\n",
    "        return None\n",
    "        \n",
    "    return ans"
   ]
  },
  {
   "cell_type": "code",
   "execution_count": 47,
   "id": "6f068f1e",
   "metadata": {},
   "outputs": [
    {
     "data": {
      "text/plain": [
       "2.0121708333333332"
      ]
     },
     "execution_count": 47,
     "metadata": {},
     "output_type": "execute_result"
    }
   ],
   "source": [
    "# test with exp, x=0.7 and 5 terms\n",
    "taylor('exp',0.7,5)"
   ]
  },
  {
   "cell_type": "code",
   "execution_count": 48,
   "id": "a4b1ae32",
   "metadata": {},
   "outputs": [
    {
     "data": {
      "text/plain": [
       "0.6442176877315008"
      ]
     },
     "execution_count": 48,
     "metadata": {},
     "output_type": "execute_result"
    }
   ],
   "source": [
    "taylor('sin',0.7,5)"
   ]
  },
  {
   "cell_type": "code",
   "execution_count": 49,
   "id": "ce6c38b1",
   "metadata": {},
   "outputs": [
    {
     "name": "stdout",
     "output_type": "stream",
     "text": [
      "not one of the functions\n"
     ]
    }
   ],
   "source": [
    "taylor('me',0.8,5)"
   ]
  },
  {
   "cell_type": "code",
   "execution_count": 50,
   "id": "f3e25610",
   "metadata": {},
   "outputs": [
    {
     "name": "stdout",
     "output_type": "stream",
     "text": [
      "not one of the functions\n"
     ]
    }
   ],
   "source": [
    "a = taylor('me',0.8,5)"
   ]
  },
  {
   "cell_type": "code",
   "execution_count": 51,
   "id": "6f1f2905",
   "metadata": {},
   "outputs": [
    {
     "name": "stdout",
     "output_type": "stream",
     "text": [
      "None\n"
     ]
    }
   ],
   "source": [
    "print(a)"
   ]
  },
  {
   "cell_type": "markdown",
   "id": "d21712d1",
   "metadata": {},
   "source": [
    "### Re-write the function so that we only accept a number of terms between 1 and 50"
   ]
  },
  {
   "cell_type": "code",
   "execution_count": 52,
   "id": "122f670b",
   "metadata": {},
   "outputs": [],
   "source": [
    "def taylor(func, x, terms):\n",
    "    if terms>50:\n",
    "        raise Exception('number of terms should not exceed 50')\n",
    "    elif terms<1:\n",
    "        raise Exception('number of terms should be 1 or greater')\n",
    "    if func == 'sin':\n",
    "        ans = sin_taylor(x,n_terms)\n",
    "    elif func == 'exp':\n",
    "        ans = exp_taylor(x,n_terms)\n",
    "    else:\n",
    "        print(\"not one of the functions\")\n",
    "        return None\n",
    "        \n",
    "    return ans"
   ]
  },
  {
   "cell_type": "code",
   "execution_count": 53,
   "id": "5c95fa23",
   "metadata": {},
   "outputs": [
    {
     "ename": "Exception",
     "evalue": "number of terms should not exceed 50",
     "output_type": "error",
     "traceback": [
      "\u001b[0;31m---------------------------------------------------------------------------\u001b[0m",
      "\u001b[0;31mException\u001b[0m                                 Traceback (most recent call last)",
      "\u001b[0;32m/var/folders/j_/slj0lw_d2z36h4_c_pkrvdcm0000gq/T/ipykernel_45298/813735400.py\u001b[0m in \u001b[0;36m<module>\u001b[0;34m\u001b[0m\n\u001b[0;32m----> 1\u001b[0;31m \u001b[0mtaylor\u001b[0m\u001b[0;34m(\u001b[0m\u001b[0;34m'exp'\u001b[0m\u001b[0;34m,\u001b[0m\u001b[0;36m2\u001b[0m\u001b[0;34m,\u001b[0m\u001b[0;36m100\u001b[0m\u001b[0;34m)\u001b[0m\u001b[0;34m\u001b[0m\u001b[0;34m\u001b[0m\u001b[0m\n\u001b[0m",
      "\u001b[0;32m/var/folders/j_/slj0lw_d2z36h4_c_pkrvdcm0000gq/T/ipykernel_45298/2325042358.py\u001b[0m in \u001b[0;36mtaylor\u001b[0;34m(func, x, terms)\u001b[0m\n\u001b[1;32m      1\u001b[0m \u001b[0;32mdef\u001b[0m \u001b[0mtaylor\u001b[0m\u001b[0;34m(\u001b[0m\u001b[0mfunc\u001b[0m\u001b[0;34m,\u001b[0m \u001b[0mx\u001b[0m\u001b[0;34m,\u001b[0m \u001b[0mterms\u001b[0m\u001b[0;34m)\u001b[0m\u001b[0;34m:\u001b[0m\u001b[0;34m\u001b[0m\u001b[0;34m\u001b[0m\u001b[0m\n\u001b[1;32m      2\u001b[0m     \u001b[0;32mif\u001b[0m \u001b[0mterms\u001b[0m\u001b[0;34m>\u001b[0m\u001b[0;36m50\u001b[0m\u001b[0;34m:\u001b[0m\u001b[0;34m\u001b[0m\u001b[0;34m\u001b[0m\u001b[0m\n\u001b[0;32m----> 3\u001b[0;31m         \u001b[0;32mraise\u001b[0m \u001b[0mException\u001b[0m\u001b[0;34m(\u001b[0m\u001b[0;34m'number of terms should not exceed 50'\u001b[0m\u001b[0;34m)\u001b[0m\u001b[0;34m\u001b[0m\u001b[0;34m\u001b[0m\u001b[0m\n\u001b[0m\u001b[1;32m      4\u001b[0m     \u001b[0;32melif\u001b[0m \u001b[0mterms\u001b[0m\u001b[0;34m<\u001b[0m\u001b[0;36m1\u001b[0m\u001b[0;34m:\u001b[0m\u001b[0;34m\u001b[0m\u001b[0;34m\u001b[0m\u001b[0m\n\u001b[1;32m      5\u001b[0m         \u001b[0;32mraise\u001b[0m \u001b[0mException\u001b[0m\u001b[0;34m(\u001b[0m\u001b[0;34m'number of terms should be 1 or greater'\u001b[0m\u001b[0;34m)\u001b[0m\u001b[0;34m\u001b[0m\u001b[0;34m\u001b[0m\u001b[0m\n",
      "\u001b[0;31mException\u001b[0m: number of terms should not exceed 50"
     ]
    }
   ],
   "source": [
    "taylor('exp',2,100)"
   ]
  },
  {
   "cell_type": "code",
   "execution_count": 54,
   "id": "38f0e0c2",
   "metadata": {},
   "outputs": [
    {
     "ename": "Exception",
     "evalue": "number of terms should be 1 or greater",
     "output_type": "error",
     "traceback": [
      "\u001b[0;31m---------------------------------------------------------------------------\u001b[0m",
      "\u001b[0;31mException\u001b[0m                                 Traceback (most recent call last)",
      "\u001b[0;32m/var/folders/j_/slj0lw_d2z36h4_c_pkrvdcm0000gq/T/ipykernel_45298/121460240.py\u001b[0m in \u001b[0;36m<module>\u001b[0;34m\u001b[0m\n\u001b[0;32m----> 1\u001b[0;31m \u001b[0mtaylor\u001b[0m\u001b[0;34m(\u001b[0m\u001b[0;34m'exp'\u001b[0m\u001b[0;34m,\u001b[0m\u001b[0;36m2\u001b[0m\u001b[0;34m,\u001b[0m\u001b[0;34m-\u001b[0m\u001b[0;36m5\u001b[0m\u001b[0;34m)\u001b[0m\u001b[0;34m\u001b[0m\u001b[0;34m\u001b[0m\u001b[0m\n\u001b[0m",
      "\u001b[0;32m/var/folders/j_/slj0lw_d2z36h4_c_pkrvdcm0000gq/T/ipykernel_45298/2325042358.py\u001b[0m in \u001b[0;36mtaylor\u001b[0;34m(func, x, terms)\u001b[0m\n\u001b[1;32m      3\u001b[0m         \u001b[0;32mraise\u001b[0m \u001b[0mException\u001b[0m\u001b[0;34m(\u001b[0m\u001b[0;34m'number of terms should not exceed 50'\u001b[0m\u001b[0;34m)\u001b[0m\u001b[0;34m\u001b[0m\u001b[0;34m\u001b[0m\u001b[0m\n\u001b[1;32m      4\u001b[0m     \u001b[0;32melif\u001b[0m \u001b[0mterms\u001b[0m\u001b[0;34m<\u001b[0m\u001b[0;36m1\u001b[0m\u001b[0;34m:\u001b[0m\u001b[0;34m\u001b[0m\u001b[0;34m\u001b[0m\u001b[0m\n\u001b[0;32m----> 5\u001b[0;31m         \u001b[0;32mraise\u001b[0m \u001b[0mException\u001b[0m\u001b[0;34m(\u001b[0m\u001b[0;34m'number of terms should be 1 or greater'\u001b[0m\u001b[0;34m)\u001b[0m\u001b[0;34m\u001b[0m\u001b[0;34m\u001b[0m\u001b[0m\n\u001b[0m\u001b[1;32m      6\u001b[0m     \u001b[0;32mif\u001b[0m \u001b[0mfunc\u001b[0m \u001b[0;34m==\u001b[0m \u001b[0;34m'sin'\u001b[0m\u001b[0;34m:\u001b[0m\u001b[0;34m\u001b[0m\u001b[0;34m\u001b[0m\u001b[0m\n\u001b[1;32m      7\u001b[0m         \u001b[0mans\u001b[0m \u001b[0;34m=\u001b[0m \u001b[0msin_taylor\u001b[0m\u001b[0;34m(\u001b[0m\u001b[0mx\u001b[0m\u001b[0;34m,\u001b[0m\u001b[0mn_terms\u001b[0m\u001b[0;34m)\u001b[0m\u001b[0;34m\u001b[0m\u001b[0;34m\u001b[0m\u001b[0m\n",
      "\u001b[0;31mException\u001b[0m: number of terms should be 1 or greater"
     ]
    }
   ],
   "source": [
    "taylor('exp',2,-5)"
   ]
  },
  {
   "cell_type": "markdown",
   "id": "5f1b7ee1",
   "metadata": {},
   "source": [
    "### raise an exception if the function isn't exp() or sin()\n"
   ]
  },
  {
   "cell_type": "code",
   "execution_count": 55,
   "id": "21b387de",
   "metadata": {},
   "outputs": [],
   "source": [
    "def taylor(func, x, terms):\n",
    "    if terms>50:\n",
    "        raise Exception('number of terms should not exceed 50')\n",
    "    elif terms<1:\n",
    "        raise Exception('number of terms should be 1 or greater')\n",
    "    if func == 'sin':\n",
    "        ans = sin_taylor(x,n_terms)\n",
    "    elif func == 'exp':\n",
    "        ans = exp_taylor(x,n_terms)\n",
    "    else:\n",
    "        raise Exception('not one of the functions, use sin or exp only')\n",
    "        return None\n",
    "        \n",
    "    return ans"
   ]
  },
  {
   "cell_type": "code",
   "execution_count": 56,
   "id": "b5c33202",
   "metadata": {},
   "outputs": [
    {
     "ename": "Exception",
     "evalue": "not one of the functions, use sin or exp only",
     "output_type": "error",
     "traceback": [
      "\u001b[0;31m---------------------------------------------------------------------------\u001b[0m",
      "\u001b[0;31mException\u001b[0m                                 Traceback (most recent call last)",
      "\u001b[0;32m/var/folders/j_/slj0lw_d2z36h4_c_pkrvdcm0000gq/T/ipykernel_45298/432119287.py\u001b[0m in \u001b[0;36m<module>\u001b[0;34m\u001b[0m\n\u001b[0;32m----> 1\u001b[0;31m \u001b[0mtaylor\u001b[0m\u001b[0;34m(\u001b[0m\u001b[0;34m'me'\u001b[0m\u001b[0;34m,\u001b[0m\u001b[0;36m2\u001b[0m\u001b[0;34m,\u001b[0m\u001b[0;36m10\u001b[0m\u001b[0;34m)\u001b[0m\u001b[0;34m\u001b[0m\u001b[0;34m\u001b[0m\u001b[0m\n\u001b[0m",
      "\u001b[0;32m/var/folders/j_/slj0lw_d2z36h4_c_pkrvdcm0000gq/T/ipykernel_45298/2241267128.py\u001b[0m in \u001b[0;36mtaylor\u001b[0;34m(func, x, terms)\u001b[0m\n\u001b[1;32m      9\u001b[0m         \u001b[0mans\u001b[0m \u001b[0;34m=\u001b[0m \u001b[0mexp_taylor\u001b[0m\u001b[0;34m(\u001b[0m\u001b[0mx\u001b[0m\u001b[0;34m,\u001b[0m\u001b[0mn_terms\u001b[0m\u001b[0;34m)\u001b[0m\u001b[0;34m\u001b[0m\u001b[0;34m\u001b[0m\u001b[0m\n\u001b[1;32m     10\u001b[0m     \u001b[0;32melse\u001b[0m\u001b[0;34m:\u001b[0m\u001b[0;34m\u001b[0m\u001b[0;34m\u001b[0m\u001b[0m\n\u001b[0;32m---> 11\u001b[0;31m         \u001b[0;32mraise\u001b[0m \u001b[0mException\u001b[0m\u001b[0;34m(\u001b[0m\u001b[0;34m'not one of the functions, use sin or exp only'\u001b[0m\u001b[0;34m)\u001b[0m\u001b[0;34m\u001b[0m\u001b[0;34m\u001b[0m\u001b[0m\n\u001b[0m\u001b[1;32m     12\u001b[0m         \u001b[0;32mreturn\u001b[0m \u001b[0;32mNone\u001b[0m\u001b[0;34m\u001b[0m\u001b[0;34m\u001b[0m\u001b[0m\n\u001b[1;32m     13\u001b[0m \u001b[0;34m\u001b[0m\u001b[0m\n",
      "\u001b[0;31mException\u001b[0m: not one of the functions, use sin or exp only"
     ]
    }
   ],
   "source": [
    "taylor('me',2,10)"
   ]
  },
  {
   "cell_type": "markdown",
   "id": "b01b8c17",
   "metadata": {},
   "source": [
    "### copy the taylor() function into the taylor_series.py file, import it an call it"
   ]
  },
  {
   "cell_type": "code",
   "execution_count": 57,
   "id": "1ae3d08b",
   "metadata": {},
   "outputs": [],
   "source": [
    "from taylor_series import taylor"
   ]
  },
  {
   "cell_type": "code",
   "execution_count": 58,
   "id": "653336c9",
   "metadata": {},
   "outputs": [
    {
     "data": {
      "text/plain": [
       "7.3887125220458545"
      ]
     },
     "execution_count": 58,
     "metadata": {},
     "output_type": "execute_result"
    }
   ],
   "source": [
    "taylor('exp',2,10)"
   ]
  },
  {
   "cell_type": "code",
   "execution_count": 59,
   "id": "71830a45",
   "metadata": {},
   "outputs": [],
   "source": [
    "from math import exp"
   ]
  },
  {
   "cell_type": "code",
   "execution_count": 60,
   "id": "93b25eb7",
   "metadata": {},
   "outputs": [
    {
     "data": {
      "text/plain": [
       "7.38905609893065"
      ]
     },
     "execution_count": 60,
     "metadata": {},
     "output_type": "execute_result"
    }
   ],
   "source": [
    "exp(2)"
   ]
  },
  {
   "cell_type": "markdown",
   "id": "5a52a550",
   "metadata": {},
   "source": [
    "### Find sin(30*) and e^2 using the taylor function"
   ]
  },
  {
   "cell_type": "code",
   "execution_count": 61,
   "id": "9f18478b",
   "metadata": {},
   "outputs": [],
   "source": [
    "from taylor_series import taylor"
   ]
  },
  {
   "cell_type": "code",
   "execution_count": 62,
   "id": "de65f80c",
   "metadata": {},
   "outputs": [],
   "source": [
    "# find sin(30*)\n",
    "# first convert 30* into radians before calling our taylor function\n",
    "from math import radians"
   ]
  },
  {
   "cell_type": "code",
   "execution_count": 63,
   "id": "ad331f3d",
   "metadata": {},
   "outputs": [
    {
     "data": {
      "text/plain": [
       "0.5235987755982988"
      ]
     },
     "execution_count": 63,
     "metadata": {},
     "output_type": "execute_result"
    }
   ],
   "source": [
    "rad = radians(30)\n",
    "rad"
   ]
  },
  {
   "cell_type": "code",
   "execution_count": 64,
   "id": "f54aee1c",
   "metadata": {},
   "outputs": [
    {
     "data": {
      "text/plain": [
       "0.49999999999999994"
      ]
     },
     "execution_count": 64,
     "metadata": {},
     "output_type": "execute_result"
    }
   ],
   "source": [
    "taylor('sin',rad,8)"
   ]
  },
  {
   "cell_type": "code",
   "execution_count": 65,
   "id": "492ae96c",
   "metadata": {},
   "outputs": [],
   "source": [
    "from math import sin"
   ]
  },
  {
   "cell_type": "code",
   "execution_count": 66,
   "id": "2660ce5a",
   "metadata": {},
   "outputs": [
    {
     "data": {
      "text/plain": [
       "0.49999999999999994"
      ]
     },
     "execution_count": 66,
     "metadata": {},
     "output_type": "execute_result"
    }
   ],
   "source": [
    "sin(rad)"
   ]
  },
  {
   "cell_type": "code",
   "execution_count": 67,
   "id": "8cf027d2",
   "metadata": {},
   "outputs": [
    {
     "data": {
      "text/plain": [
       "7.389056098930649"
      ]
     },
     "execution_count": 67,
     "metadata": {},
     "output_type": "execute_result"
    }
   ],
   "source": [
    "# find e^2\n",
    "taylor('exp',2,23)"
   ]
  },
  {
   "cell_type": "code",
   "execution_count": 68,
   "id": "5d39d56f",
   "metadata": {},
   "outputs": [],
   "source": [
    "from math import exp"
   ]
  },
  {
   "cell_type": "code",
   "execution_count": 69,
   "id": "1a00feab",
   "metadata": {},
   "outputs": [
    {
     "data": {
      "text/plain": [
       "7.38905609893065"
      ]
     },
     "execution_count": 69,
     "metadata": {},
     "output_type": "execute_result"
    }
   ],
   "source": [
    "exp(2)"
   ]
  }
 ],
 "metadata": {
  "kernelspec": {
   "display_name": "Python 3 (ipykernel)",
   "language": "python",
   "name": "python3"
  },
  "language_info": {
   "codemirror_mode": {
    "name": "ipython",
    "version": 3
   },
   "file_extension": ".py",
   "mimetype": "text/x-python",
   "name": "python",
   "nbconvert_exporter": "python",
   "pygments_lexer": "ipython3",
   "version": "3.9.7"
  }
 },
 "nbformat": 4,
 "nbformat_minor": 5
}
