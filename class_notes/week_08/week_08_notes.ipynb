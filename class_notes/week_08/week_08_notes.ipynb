{
 "cells": [
  {
   "cell_type": "markdown",
   "metadata": {},
   "source": [
    "# Week 8 Notes"
   ]
  },
  {
   "cell_type": "markdown",
   "metadata": {},
   "source": [
    "## Review Functions in other files\n",
    "\n",
    "Create a function in a separate .py file, import the function into this running jupyter notebook and use the function.\n",
    "\n",
    "The function will ask the user what website they would like to visit and the message they will see will include their name."
   ]
  },
  {
   "cell_type": "code",
   "execution_count": 1,
   "metadata": {},
   "outputs": [
    {
     "name": "stdout",
     "output_type": "stream",
     "text": [
      "Week 8 notes.ipynb  website_funcs.py\r\n"
     ]
    }
   ],
   "source": [
    "# check to see if the function .py file is in the same directory as this running jupyter notebook\n",
    "%ls"
   ]
  },
  {
   "cell_type": "code",
   "execution_count": 2,
   "metadata": {},
   "outputs": [],
   "source": [
    "# import our function from the function file\n",
    "from website_funcs import ask_website"
   ]
  },
  {
   "cell_type": "code",
   "execution_count": 4,
   "metadata": {},
   "outputs": [
    {
     "name": "stdout",
     "output_type": "stream",
     "text": [
      "Gabby, what website do you want to visit? drive.google.com\n",
      "The website you want to visit is drive.google.com\n"
     ]
    }
   ],
   "source": [
    "u = ask_website(\"Gabby\")\n",
    "print(f\"The website you want to visit is {u}\")"
   ]
  },
  {
   "cell_type": "markdown",
   "metadata": {},
   "source": [
    "## Review of if/elif/else"
   ]
  },
  {
   "cell_type": "code",
   "execution_count": 5,
   "metadata": {},
   "outputs": [],
   "source": [
    "# look at the first letter of a word that the user enters\n",
    "# if it is a vowel, print vowel\n",
    "# if it is a concent, print concenent\n",
    "# if it isn't a letter, print not a letter"
   ]
  },
  {
   "cell_type": "code",
   "execution_count": 19,
   "metadata": {},
   "outputs": [
    {
     "name": "stdout",
     "output_type": "stream",
     "text": [
      "Enter a word: 4time\n",
      "The word does not start with a letter\n"
     ]
    }
   ],
   "source": [
    "s = input(\"Enter a word: \")\n",
    "vowels = [\"a\",\"e\",\"i\",\"o\",\"u\"]\n",
    "consonants = ['b', 'c', 'd', 'f', 'g', 'h', 'j', 'k', 'l', 'm', 'n', 'p', 'q', 'r', 's', 't', 'v', 'w', 'x', 'y', 'z']\n",
    "if s[0] in vowels:\n",
    "    print(\"The word starts with a vowel\")\n",
    "elif s[0] in consonants:\n",
    "    print(\"the word starts with a consonant\")\n",
    "else:\n",
    "    print(\"The word does not start with a letter\")"
   ]
  },
  {
   "cell_type": "code",
   "execution_count": 10,
   "metadata": {},
   "outputs": [
    {
     "name": "stdout",
     "output_type": "stream",
     "text": [
      "['b', 'c', 'd', 'f', 'g', 'h', 'j', 'k', 'l', 'm', 'n', 'p', 'q', 'r', 's', 't', 'v', 'w', 'x', 'y', 'z']\n"
     ]
    }
   ],
   "source": [
    "# create a list of consonants\n",
    "c = \"bcdfghjklmnpqrstvwxyz\"\n",
    "l = list(c)\n",
    "print(l)"
   ]
  },
  {
   "cell_type": "markdown",
   "metadata": {},
   "source": [
    "## Python's range() function\n",
    "\n",
    "Python's range function returns a sequence based on a start, stop and step\n",
    "\n",
    "syntax for using range()\n",
    "\n",
    "range(start,stop,step) where the default start is 0, the default step is 1 and the stop needs to be included."
   ]
  },
  {
   "cell_type": "code",
   "execution_count": 23,
   "metadata": {},
   "outputs": [
    {
     "name": "stdout",
     "output_type": "stream",
     "text": [
      "ENGR114\n",
      "ENGR114\n",
      "ENGR114\n"
     ]
    }
   ],
   "source": [
    "# print out ENGR114 three different times\n",
    "print(\"ENGR114\")\n",
    "print(\"ENGR114\")\n",
    "print(\"ENGR114\")"
   ]
  },
  {
   "cell_type": "markdown",
   "metadata": {},
   "source": [
    "## for loops in Python"
   ]
  },
  {
   "cell_type": "code",
   "execution_count": 24,
   "metadata": {},
   "outputs": [
    {
     "name": "stdout",
     "output_type": "stream",
     "text": [
      "ENGR114\n",
      "ENGR114\n",
      "ENGR114\n"
     ]
    }
   ],
   "source": [
    "for i in range(1,4,1):     # start at 1, end at 4 (exclusive), count by 1\n",
    "    print(\"ENGR114\")"
   ]
  },
  {
   "cell_type": "code",
   "execution_count": 33,
   "metadata": {},
   "outputs": [
    {
     "name": "stdout",
     "output_type": "stream",
     "text": [
      "ENGR114\n",
      "is great!\n",
      "ENGR114\n",
      "is great!\n",
      "ENGR114\n",
      "is great!\n",
      "the loop is done\n"
     ]
    }
   ],
   "source": [
    "for i in range(3):     # start at the default of 0, step at the default of 1, stop at 3 (exclcusive)\n",
    "    print(\"ENGR114\")\n",
    "    print(\"is great!\")\n",
    "print(\"the loop is done\")"
   ]
  },
  {
   "cell_type": "code",
   "execution_count": 34,
   "metadata": {},
   "outputs": [
    {
     "name": "stdout",
     "output_type": "stream",
     "text": [
      "0\n",
      "1\n",
      "2\n"
     ]
    }
   ],
   "source": [
    "for i in range(3):\n",
    "    print(i)"
   ]
  },
  {
   "cell_type": "code",
   "execution_count": 35,
   "metadata": {},
   "outputs": [
    {
     "name": "stdout",
     "output_type": "stream",
     "text": [
      "10\n",
      "12\n",
      "14\n",
      "16\n"
     ]
    }
   ],
   "source": [
    "# print out even numbers from 10 to 16 using a for loop\n",
    "for i in range(10,18,2):     # start at 10, stop at 18 (exclsive), count by 2's\n",
    "    print(i)"
   ]
  },
  {
   "cell_type": "markdown",
   "metadata": {},
   "source": [
    "## for loops with lists"
   ]
  },
  {
   "cell_type": "code",
   "execution_count": 38,
   "metadata": {},
   "outputs": [
    {
     "name": "stdout",
     "output_type": "stream",
     "text": [
      "Mon\n",
      "Tues\n",
      "Wed\n",
      "Thurs\n",
      "Fri\n"
     ]
    }
   ],
   "source": [
    "# for loops with a list\n",
    "# loop over the weekdays\n",
    "days = ['Mon','Tues','Wed','Thurs','Fri']\n",
    "for day in days:\n",
    "    print(day)"
   ]
  },
  {
   "cell_type": "code",
   "execution_count": 40,
   "metadata": {},
   "outputs": [
    {
     "name": "stdout",
     "output_type": "stream",
     "text": [
      "red\n",
      "green\n",
      "blue\n",
      "yellow\n",
      "The loop has finished\n"
     ]
    }
   ],
   "source": [
    "# for loops with a list\n",
    "# loop over a list of colors\n",
    "colors = [\"red\",\"green\",\"blue\",\"yellow\"]\n",
    "for color in colors:\n",
    "    print(color)\n",
    "print(\"The loop has finished\")"
   ]
  },
  {
   "cell_type": "code",
   "execution_count": 44,
   "metadata": {},
   "outputs": [
    {
     "name": "stdout",
     "output_type": "stream",
     "text": [
      "The is running, the growing list is:\n",
      "[10]\n",
      "The is running, the growing list is:\n",
      "[10, 20]\n",
      "The is running, the growing list is:\n",
      "[10, 20, 30]\n",
      "The is running, the growing list is:\n",
      "[10, 20, 30, 40]\n",
      "The is running, the growing list is:\n",
      "[10, 20, 30, 40, 50]\n",
      "The loop has finished, the final list is:\n",
      "[10, 20, 30, 40, 50]\n"
     ]
    }
   ],
   "source": [
    "# multiply each of the numbers in a list by 10 and add the result to a new list\n",
    "old_list = [1,2,3,4,5]\n",
    "new_list = []    # create a new empty list\n",
    "for n in old_list:\n",
    "    new_n = n*10\n",
    "    new_list.append(new_n)\n",
    "    print(\"The is running, the growing list is:\")\n",
    "    print(new_list)\n",
    "print(\"The loop has finished, the final list is:\")\n",
    "print(new_list)"
   ]
  },
  {
   "cell_type": "markdown",
   "metadata": {},
   "source": [
    "## for loops with strings"
   ]
  },
  {
   "cell_type": "code",
   "execution_count": 46,
   "metadata": {},
   "outputs": [
    {
     "name": "stdout",
     "output_type": "stream",
     "text": [
      "E\n",
      "N\n",
      "G\n",
      "R\n",
      "1\n",
      "1\n",
      "4\n"
     ]
    }
   ],
   "source": [
    "# iterates over the characters in the course ENGR114\n",
    "course = \"ENGR114\"\n",
    "for letter in course:   # loop varaible, which is local to the loop is letter\n",
    "    print(letter)"
   ]
  },
  {
   "cell_type": "code",
   "execution_count": 48,
   "metadata": {},
   "outputs": [
    {
     "name": "stdout",
     "output_type": "stream",
     "text": [
      "E N G R 1 1 4 "
     ]
    }
   ],
   "source": [
    "# add a space in between each letter in a word\n",
    "course = \"ENGR114\"\n",
    "for letter in course:\n",
    "    print(letter, end=\" \")"
   ]
  },
  {
   "cell_type": "code",
   "execution_count": 49,
   "metadata": {},
   "outputs": [
    {
     "name": "stdout",
     "output_type": "stream",
     "text": [
      "a*s*t*e*r*i*s*k*"
     ]
    }
   ],
   "source": [
    "# place an * in between the letters in a word\n",
    "word = \"asterisk\"\n",
    "for letter in word:\n",
    "    print(letter, end=\"*\")"
   ]
  },
  {
   "cell_type": "code",
   "execution_count": 50,
   "metadata": {},
   "outputs": [
    {
     "name": "stdout",
     "output_type": "stream",
     "text": [
      "Mon\n",
      "Tues\n",
      "Wed\n",
      "Thurs\n",
      "Fri\n",
      "Sat\n",
      "Sun\n"
     ]
    }
   ],
   "source": [
    "# loop through the days of the week, but stop after Thurs\n",
    "days = [\"Mon\",\"Tues\",\"Wed\",\"Thurs\",\"Fri\",\"Sat\",\"Sun\"]\n",
    "for day in days:\n",
    "    print(day)"
   ]
  },
  {
   "cell_type": "markdown",
   "metadata": {},
   "source": [
    "## Python's ```break``` keyword \n",
    "\n",
    "When break is hit in a loop, the program exits the loop"
   ]
  },
  {
   "cell_type": "code",
   "execution_count": 54,
   "metadata": {},
   "outputs": [
    {
     "name": "stdout",
     "output_type": "stream",
     "text": [
      "Mon\n",
      "Tues\n",
      "Wed\n",
      "Thurs\n",
      "The loop is done\n"
     ]
    }
   ],
   "source": [
    "# loop through the days of the week, but stop after Thurs\n",
    "days = [\"Mon\",\"Tues\",\"Wed\",\"Thurs\",\"Fri\",\"Sat\",\"Sun\"]\n",
    "for day in days:\n",
    "    print(day)\n",
    "    if day==\"Thurs\":\n",
    "        break\n",
    "    \n",
    "print(\"The loop is done\")"
   ]
  },
  {
   "cell_type": "code",
   "execution_count": 56,
   "metadata": {},
   "outputs": [
    {
     "name": "stdout",
     "output_type": "stream",
     "text": [
      "Sept\n",
      "Oct\n",
      "Nov\n",
      "Dec\n",
      "End of quarter\n"
     ]
    }
   ],
   "source": [
    "# loops through the months of the year, but stop in Dec, the end of the quarter\n",
    "months = [\"Sept\",\"Oct\",\"Nov\",\"Dec\",\"Jan\",\"Feb\",\"Mar\"]\n",
    "for month in months:\n",
    "    print(month)\n",
    "    if month == \"Dec\":\n",
    "        break\n",
    "print(\"End of quarter\")"
   ]
  },
  {
   "cell_type": "code",
   "execution_count": 58,
   "metadata": {},
   "outputs": [
    {
     "name": "stdout",
     "output_type": "stream",
     "text": [
      "1\n",
      "2\n",
      "3\n",
      "4\n",
      "5\n",
      "The loops stops at 5\n"
     ]
    }
   ],
   "source": [
    "# loop through the numbers 1 to 10, but break or stop at the number 5\n",
    "for i in range(1,11):  # start at 1, end at 11 (exclusive), count by the default of 1\n",
    "    print(i)\n",
    "    if i == 5:\n",
    "        break\n",
    "print(f\"The loops stops at {i}\")"
   ]
  },
  {
   "cell_type": "code",
   "execution_count": 59,
   "metadata": {},
   "outputs": [
    {
     "name": "stdout",
     "output_type": "stream",
     "text": [
      "Mon Tues Wed Thurs Fri \n",
      " Enjoy the weekend!\n"
     ]
    }
   ],
   "source": [
    "# loops through the days of the week, stop at Friday and print \"Enjoy the weekend\"\n",
    "days = [\"Mon\",\"Tues\",\"Wed\",\"Thurs\",\"Fri\",\"Sat\",\"Sun\"]\n",
    "for day in days:\n",
    "    print(day, end=\" \")\n",
    "    if day==\"Fri\":\n",
    "        break\n",
    "print(\"\\n Enjoy the weekend!\")"
   ]
  },
  {
   "cell_type": "markdown",
   "metadata": {},
   "source": [
    "## Python's ```continue``` keyword\n",
    "\n",
    "continue stops the current iteration of a loop and starts back at the top of the loop again"
   ]
  },
  {
   "cell_type": "code",
   "execution_count": 60,
   "metadata": {},
   "outputs": [
    {
     "name": "stdout",
     "output_type": "stream",
     "text": [
      "before continue, number is: 1\n",
      "after continue, the number is: 1\n",
      "before continue, number is: 2\n",
      "before continue, number is: 3\n",
      "after continue, the number is: 3\n"
     ]
    }
   ],
   "source": [
    "for i in range(1,4):\n",
    "    print(f\"before continue, number is: {i}\")\n",
    "    if i==2:\n",
    "        continue\n",
    "    print(f\"after continue, the number is: {i}\")"
   ]
  },
  {
   "cell_type": "code",
   "execution_count": 61,
   "metadata": {},
   "outputs": [
    {
     "name": "stdout",
     "output_type": "stream",
     "text": [
      "1 2 3 4 6 7 8 9 10 Loop is done\n"
     ]
    }
   ],
   "source": [
    "# test if the number 5 is hit and if so, don't print 5 (print a list of 1 to 10 without 5)\n",
    "for i in range(1,11):\n",
    "    if i == 5:\n",
    "        continue\n",
    "    print(i, end=\" \")\n",
    "    \n",
    "print(\"Loop is done\")"
   ]
  },
  {
   "cell_type": "code",
   "execution_count": 64,
   "metadata": {},
   "outputs": [
    {
     "name": "stdout",
     "output_type": "stream",
     "text": [
      "a\n",
      "1\n",
      "3\n",
      "b\n",
      "1\n",
      "3\n",
      "c\n"
     ]
    }
   ],
   "source": [
    "# break and continue only apply or correspond to the loop they are in, not any inner or outer loops outside the break or continue\n",
    "# stop when the letters hit c and don't print the number 2\n",
    "letters = ['a','b','c','d']\n",
    "for letter in letters:\n",
    "    print(letter)\n",
    "    if letter=='c':\n",
    "        break    # exit the outer look\n",
    "    for i in range(1,4):\n",
    "        if i==2:\n",
    "            continue  # continue to the top of the inner loop\n",
    "        print(i)"
   ]
  },
  {
   "cell_type": "code",
   "execution_count": 66,
   "metadata": {
    "scrolled": true
   },
   "outputs": [
    {
     "name": "stdout",
     "output_type": "stream",
     "text": [
      "-3.3333333333333335\n",
      "-5.0\n",
      "-10.0\n",
      "10.0\n",
      "5.0\n",
      "3.3333333333333335\n"
     ]
    }
   ],
   "source": [
    "# divide 10 the numbers -3 to 3, but skip dividing by the number 0\n",
    "for i in range(-3,4,1):\n",
    "    if i==0:\n",
    "        continue\n",
    "    print(10/i)"
   ]
  },
  {
   "cell_type": "code",
   "execution_count": 67,
   "metadata": {},
   "outputs": [
    {
     "name": "stdout",
     "output_type": "stream",
     "text": [
      "Enter a y or n only: 5\n",
      "Enter a y or n only: r\n",
      "Enter a y or n only: u\n",
      "Enter a y or n only: y\n"
     ]
    }
   ],
   "source": [
    "# force the user to only enter a y or n in 10 chances\n",
    "for i in range(10):\n",
    "    s = input(\"Enter a y or n only: \")\n",
    "    if s=='y' or s ==\"n\":\n",
    "        break\n",
    "    "
   ]
  },
  {
   "cell_type": "code",
   "execution_count": null,
   "metadata": {},
   "outputs": [],
   "source": []
  }
 ],
 "metadata": {
  "kernelspec": {
   "display_name": "Python 3",
   "language": "python",
   "name": "python3"
  },
  "language_info": {
   "codemirror_mode": {
    "name": "ipython",
    "version": 3
   },
   "file_extension": ".py",
   "mimetype": "text/x-python",
   "name": "python",
   "nbconvert_exporter": "python",
   "pygments_lexer": "ipython3",
   "version": "3.7.4"
  }
 },
 "nbformat": 4,
 "nbformat_minor": 5
}
