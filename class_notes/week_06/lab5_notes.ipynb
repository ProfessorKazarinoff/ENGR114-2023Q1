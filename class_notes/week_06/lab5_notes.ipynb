{
 "cells": [
  {
   "cell_type": "markdown",
   "id": "463a30f2",
   "metadata": {},
   "source": [
    "# Lab 5 Notes\n",
    "\n",
    " * ENGR114 2022Q4\n",
    " * 2022-11-03\n",
    " * Instructor Notes"
   ]
  },
  {
   "cell_type": "markdown",
   "id": "27f137a7",
   "metadata": {},
   "source": [
    "## Imports"
   ]
  },
  {
   "cell_type": "code",
   "execution_count": 1,
   "id": "07ca50ba",
   "metadata": {},
   "outputs": [],
   "source": [
    "from user_input import user_input\n",
    "from call_API import call_API\n",
    "from clean_data import clean_data\n",
    "from plot_data import plot_data"
   ]
  },
  {
   "cell_type": "markdown",
   "id": "321c8b39",
   "metadata": {},
   "source": [
    "## Run the program"
   ]
  },
  {
   "cell_type": "code",
   "execution_count": null,
   "id": "c32bd083",
   "metadata": {},
   "outputs": [],
   "source": [
    "import numpy as np\n",
    "wd = np.array([2,4,5,8,8])"
   ]
  },
  {
   "cell_type": "code",
   "execution_count": 2,
   "id": "44a888ed",
   "metadata": {},
   "outputs": [
    {
     "name": "stdout",
     "output_type": "stream",
     "text": [
      "Which weather type (temperature, humidity, rainfall or pressure)?humidity\n",
      "How many data points (maximum of 8000)?5\n"
     ]
    },
    {
     "data": {
      "image/png": "[encoded data removed]",
      "text/plain": [
       "<Figure size 432x288 with 1 Axes>"
      ]
     },
     "metadata": {
      "needs_background": "light"
     },
     "output_type": "display_data"
    }
   ],
   "source": [
    "a = user_input()    # a is a list that contains the weather type and # of data points\n",
    "df = call_API(a)    # df is a dataframe that contains the data from the web API\n",
    "wd = clean_data(df,a) # wd, is a 1-D array that contains all of the data points\n",
    "plot_data(wd,a)      # plot_data has no function output or function return, but it does produce a plot within the body of the function"
   ]
  },
  {
   "cell_type": "code",
   "execution_count": 3,
   "id": "da003436",
   "metadata": {},
   "outputs": [
    {
     "name": "stdout",
     "output_type": "stream",
     "text": [
      "Which weather type (temperature, humidity, rainfall or pressure)?temperature\n"
     ]
    }
   ],
   "source": [
    "# work on the user input function\n",
    "wt = input(\"Which weather type (temperature, humidity, rainfall or pressure)?\")"
   ]
  },
  {
   "cell_type": "code",
   "execution_count": 4,
   "id": "35fe18ee",
   "metadata": {},
   "outputs": [
    {
     "data": {
      "text/plain": [
       "'temperature'"
      ]
     },
     "execution_count": 4,
     "metadata": {},
     "output_type": "execute_result"
    }
   ],
   "source": [
    "wt"
   ]
  },
  {
   "cell_type": "code",
   "execution_count": 5,
   "id": "2c64ef26",
   "metadata": {},
   "outputs": [
    {
     "name": "stdout",
     "output_type": "stream",
     "text": [
      "How many data points (maximum of 8000)?80\n"
     ]
    }
   ],
   "source": [
    "nd = input(\"How many data points (maximum of 8000)?\")"
   ]
  },
  {
   "cell_type": "code",
   "execution_count": 6,
   "id": "3073b244",
   "metadata": {},
   "outputs": [
    {
     "data": {
      "text/plain": [
       "str"
      ]
     },
     "execution_count": 6,
     "metadata": {},
     "output_type": "execute_result"
    }
   ],
   "source": [
    "type(nd)"
   ]
  },
  {
   "cell_type": "code",
   "execution_count": 7,
   "id": "23b2daf8",
   "metadata": {},
   "outputs": [],
   "source": [
    "a = [wt,nd]"
   ]
  },
  {
   "cell_type": "code",
   "execution_count": 8,
   "id": "4ac11ca0",
   "metadata": {},
   "outputs": [
    {
     "data": {
      "text/plain": [
       "['temperature', '80']"
      ]
     },
     "execution_count": 8,
     "metadata": {},
     "output_type": "execute_result"
    }
   ],
   "source": [
    "a"
   ]
  },
  {
   "cell_type": "code",
   "execution_count": 9,
   "id": "e01815be",
   "metadata": {},
   "outputs": [],
   "source": [
    "def user_input():\n",
    "    wt = input(\"Which weather type (temperature, humidity, rainfall or pressure)?\")\n",
    "    nd = input(\"How many data points (maximum of 8000)?\")\n",
    "    a = [wt,nd]\n",
    "    return a"
   ]
  },
  {
   "cell_type": "code",
   "execution_count": 10,
   "id": "1bea7b37",
   "metadata": {},
   "outputs": [
    {
     "name": "stdout",
     "output_type": "stream",
     "text": [
      "Which weather type (temperature, humidity, rainfall or pressure)?rainfall\n",
      "How many data points (maximum of 8000)?4\n"
     ]
    },
    {
     "data": {
      "text/plain": [
       "['rainfall', '4']"
      ]
     },
     "execution_count": 10,
     "metadata": {},
     "output_type": "execute_result"
    }
   ],
   "source": [
    "user_input()"
   ]
  },
  {
   "cell_type": "code",
   "execution_count": 11,
   "id": "b6eb7e43",
   "metadata": {},
   "outputs": [
    {
     "name": "stdout",
     "output_type": "stream",
     "text": [
      "Which weather type (temperature, humidity, rainfall or pressure)?pressure\n",
      "How many data points (maximum of 8000)?10\n"
     ]
    }
   ],
   "source": [
    "a = user_input()"
   ]
  },
  {
   "cell_type": "code",
   "execution_count": 12,
   "id": "44618f7c",
   "metadata": {},
   "outputs": [
    {
     "name": "stdout",
     "output_type": "stream",
     "text": [
      "['pressure', '10']\n"
     ]
    }
   ],
   "source": [
    "print(a)"
   ]
  },
  {
   "cell_type": "code",
   "execution_count": 13,
   "id": "5e66ade0",
   "metadata": {},
   "outputs": [
    {
     "data": {
      "text/plain": [
       "'pressure'"
      ]
     },
     "execution_count": 13,
     "metadata": {},
     "output_type": "execute_result"
    }
   ],
   "source": [
    "a[0]   # weather type is the first element (index 0) of the list"
   ]
  },
  {
   "cell_type": "code",
   "execution_count": 14,
   "id": "a83a0335",
   "metadata": {},
   "outputs": [
    {
     "data": {
      "text/plain": [
       "'10'"
      ]
     },
     "execution_count": 14,
     "metadata": {},
     "output_type": "execute_result"
    }
   ],
   "source": [
    "a[1]  # number of data points (as a string) is the second element (index 1) of the list"
   ]
  },
  {
   "cell_type": "code",
   "execution_count": 15,
   "id": "abf9a09e",
   "metadata": {},
   "outputs": [],
   "source": [
    "import numpy as np\n",
    "import matplotlib.pyplot as plt"
   ]
  },
  {
   "cell_type": "code",
   "execution_count": 16,
   "id": "d4c0d110",
   "metadata": {},
   "outputs": [
    {
     "data": {
      "text/plain": [
       "array([2, 4, 5, 8, 8])"
      ]
     },
     "execution_count": 16,
     "metadata": {},
     "output_type": "execute_result"
    }
   ],
   "source": [
    "wd = np.array([2,4,5,8,8])\n",
    "wd"
   ]
  },
  {
   "cell_type": "code",
   "execution_count": 17,
   "id": "b139a232",
   "metadata": {},
   "outputs": [
    {
     "data": {
      "text/plain": [
       "['pressure', '5']"
      ]
     },
     "execution_count": 17,
     "metadata": {},
     "output_type": "execute_result"
    }
   ],
   "source": [
    "a = ['pressure', '5']\n",
    "a"
   ]
  },
  {
   "cell_type": "code",
   "execution_count": 18,
   "id": "42a3bb47",
   "metadata": {},
   "outputs": [
    {
     "data": {
      "image/png": "[encoded data removed]",
      "text/plain": [
       "<Figure size 432x288 with 1 Axes>"
      ]
     },
     "metadata": {
      "needs_background": "light"
     },
     "output_type": "display_data"
    }
   ],
   "source": [
    "# data\n",
    "unit_d = {'humidity':'%','temperature':'F','rainfall':'in/min','pressure':'Hg'}\n",
    "\n",
    "# fig, ax\n",
    "fig, ax = plt.subplots()\n",
    "\n",
    "# plot\n",
    "ax.plot(wd)\n",
    "\n",
    "# customize\n",
    "ax.set_title(f\"Plot of temperature in Natick, MA using past {a[1]} data points\")\n",
    "ax.set_ylabel(f\"{a[0]} ({unit_d[a[0]]})\")\n",
    "ax.set_xlabel(\"Data Point Number\")\n",
    "\n",
    "# show the plot\n",
    "plt.show()"
   ]
  },
  {
   "cell_type": "code",
   "execution_count": 19,
   "id": "2c732c2e",
   "metadata": {},
   "outputs": [],
   "source": [
    "unit_d = {'humidity':'%','temperature':'F','rainfall':'in/min','pressure':'Hg'}"
   ]
  },
  {
   "cell_type": "code",
   "execution_count": 20,
   "id": "c8a3beba",
   "metadata": {},
   "outputs": [
    {
     "data": {
      "text/plain": [
       "'%'"
      ]
     },
     "execution_count": 20,
     "metadata": {},
     "output_type": "execute_result"
    }
   ],
   "source": [
    "unit_d['humidity']  # dictionaries are \"indexed\" by keys"
   ]
  },
  {
   "cell_type": "code",
   "execution_count": 21,
   "id": "f5bbbd71",
   "metadata": {},
   "outputs": [
    {
     "data": {
      "text/plain": [
       "'F'"
      ]
     },
     "execution_count": 21,
     "metadata": {},
     "output_type": "execute_result"
    }
   ],
   "source": [
    "unit_d['temperature']"
   ]
  },
  {
   "cell_type": "code",
   "execution_count": 22,
   "id": "cde9b8cb",
   "metadata": {},
   "outputs": [
    {
     "data": {
      "text/plain": [
       "'in/min'"
      ]
     },
     "execution_count": 22,
     "metadata": {},
     "output_type": "execute_result"
    }
   ],
   "source": [
    "unit_d['rainfall']"
   ]
  },
  {
   "cell_type": "code",
   "execution_count": 23,
   "id": "7b019985",
   "metadata": {},
   "outputs": [],
   "source": [
    "# prototype out the call_API() function"
   ]
  },
  {
   "cell_type": "code",
   "execution_count": 24,
   "id": "402396f8",
   "metadata": {},
   "outputs": [
    {
     "data": {
      "text/plain": [
       "['temperature', '4']"
      ]
     },
     "execution_count": 24,
     "metadata": {},
     "output_type": "execute_result"
    }
   ],
   "source": [
    "a = ['temperature', '4']\n",
    "a"
   ]
  },
  {
   "cell_type": "code",
   "execution_count": 25,
   "id": "e5545dec",
   "metadata": {},
   "outputs": [],
   "source": [
    "import pandas as pd"
   ]
  },
  {
   "cell_type": "code",
   "execution_count": 26,
   "id": "0170612f",
   "metadata": {},
   "outputs": [],
   "source": [
    "field_d = {'humidity':'3','temperature':'4','rainfall':'5','pressure':'6'}"
   ]
  },
  {
   "cell_type": "code",
   "execution_count": 27,
   "id": "d56ee76e",
   "metadata": {},
   "outputs": [
    {
     "data": {
      "text/plain": [
       "'6'"
      ]
     },
     "execution_count": 27,
     "metadata": {},
     "output_type": "execute_result"
    }
   ],
   "source": [
    "field_d['pressure']"
   ]
  },
  {
   "cell_type": "code",
   "execution_count": 28,
   "id": "f914f864",
   "metadata": {},
   "outputs": [
    {
     "name": "stdout",
     "output_type": "stream",
     "text": [
      "https://api.thingspeak.com/channels/12397/fields/4.csv?results=4\n"
     ]
    }
   ],
   "source": [
    "field_d = {'humidity':'3','temperature':'4','rainfall':'5','pressure':'6'}\n",
    "fn = field_d[a[0]]\n",
    "url = f\"https://api.thingspeak.com/channels/12397/fields/{fn}.csv?results={a[1]}\"\n",
    "print(url)\n",
    "df = pd.read_csv(url)"
   ]
  },
  {
   "cell_type": "code",
   "execution_count": 29,
   "id": "ac2e9150",
   "metadata": {},
   "outputs": [
    {
     "data": {
      "text/html": [
       "<div>\n",
       "<style scoped>\n",
       "    .dataframe tbody tr th:only-of-type {\n",
       "        vertical-align: middle;\n",
       "    }\n",
       "\n",
       "    .dataframe tbody tr th {\n",
       "        vertical-align: top;\n",
       "    }\n",
       "\n",
       "    .dataframe thead th {\n",
       "        text-align: right;\n",
       "    }\n",
       "</style>\n",
       "<table border=\"1\" class=\"dataframe\">\n",
       "  <thead>\n",
       "    <tr style=\"text-align: right;\">\n",
       "      <th></th>\n",
       "      <th>created_at</th>\n",
       "      <th>entry_id</th>\n",
       "      <th>field4</th>\n",
       "    </tr>\n",
       "  </thead>\n",
       "  <tbody>\n",
       "    <tr>\n",
       "      <th>0</th>\n",
       "      <td>2022-11-03 23:04:14 UTC</td>\n",
       "      <td>4132408</td>\n",
       "      <td>58.4</td>\n",
       "    </tr>\n",
       "    <tr>\n",
       "      <th>1</th>\n",
       "      <td>2022-11-03 23:05:14 UTC</td>\n",
       "      <td>4132409</td>\n",
       "      <td>58.2</td>\n",
       "    </tr>\n",
       "    <tr>\n",
       "      <th>2</th>\n",
       "      <td>2022-11-03 23:06:14 UTC</td>\n",
       "      <td>4132410</td>\n",
       "      <td>58.2</td>\n",
       "    </tr>\n",
       "    <tr>\n",
       "      <th>3</th>\n",
       "      <td>2022-11-03 23:07:14 UTC</td>\n",
       "      <td>4132411</td>\n",
       "      <td>58.2</td>\n",
       "    </tr>\n",
       "  </tbody>\n",
       "</table>\n",
       "</div>"
      ],
      "text/plain": [
       "                created_at  entry_id  field4\n",
       "0  2022-11-03 23:04:14 UTC   4132408    58.4\n",
       "1  2022-11-03 23:05:14 UTC   4132409    58.2\n",
       "2  2022-11-03 23:06:14 UTC   4132410    58.2\n",
       "3  2022-11-03 23:07:14 UTC   4132411    58.2"
      ]
     },
     "execution_count": 29,
     "metadata": {},
     "output_type": "execute_result"
    }
   ],
   "source": [
    "df"
   ]
  },
  {
   "cell_type": "code",
   "execution_count": 30,
   "id": "7b8af33b",
   "metadata": {},
   "outputs": [
    {
     "data": {
      "text/plain": [
       "0    58.4\n",
       "1    58.2\n",
       "2    58.2\n",
       "3    58.2\n",
       "Name: field4, dtype: float64"
      ]
     },
     "execution_count": 30,
     "metadata": {},
     "output_type": "execute_result"
    }
   ],
   "source": [
    "# how do we pull the third (index 2) column out?\n",
    "# we can use pandas df.iloc[] method and slice out a column just\n",
    "# like we can slide out a column of an array\n",
    "\n",
    "df.iloc[:, 2]"
   ]
  },
  {
   "cell_type": "code",
   "execution_count": 31,
   "id": "a098f21c",
   "metadata": {},
   "outputs": [
    {
     "data": {
      "text/plain": [
       "array([58.4, 58.2, 58.2, 58.2])"
      ]
     },
     "execution_count": 31,
     "metadata": {},
     "output_type": "execute_result"
    }
   ],
   "source": [
    "np.array(df.iloc[:, 2])  # convert the dataframe column to an array"
   ]
  },
  {
   "cell_type": "code",
   "execution_count": null,
   "id": "76989d4a",
   "metadata": {},
   "outputs": [],
   "source": []
  }
 ],
 "metadata": {
  "kernelspec": {
   "display_name": "Python 3 (ipykernel)",
   "language": "python",
   "name": "python3"
  },
  "language_info": {
   "codemirror_mode": {
    "name": "ipython",
    "version": 3
   },
   "file_extension": ".py",
   "mimetype": "text/x-python",
   "name": "python",
   "nbconvert_exporter": "python",
   "pygments_lexer": "ipython3",
   "version": "3.9.7"
  }
 },
 "nbformat": 4,
 "nbformat_minor": 5
}
