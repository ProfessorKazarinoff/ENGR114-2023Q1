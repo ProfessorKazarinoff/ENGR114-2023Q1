{
 "cells": [
  {
   "cell_type": "markdown",
   "id": "b67d5d17",
   "metadata": {},
   "source": [
    "# Week 7 Notes"
   ]
  },
  {
   "cell_type": "markdown",
   "id": "ed803e47",
   "metadata": {},
   "source": [
    "## Conditional structure - Selection\n",
    "\n",
    "IF ELSE ELIF statements, TRY ... EXCEPT, in operator and printf¶\n",
    "\n",
    "### Example of a simple IF statement"
   ]
  },
  {
   "cell_type": "code",
   "execution_count": null,
   "id": "4ba91948",
   "metadata": {},
   "outputs": [],
   "source": [
    "# ask the user for a number and tell the user if it is positive\n",
    "n_s = input(\"Enter a number: \")\n",
    "n_f = float(n_s)\n",
    "# test if the number is positive\n",
    "if n_f>0:\n",
    "    print(\"the number is positive\")"
   ]
  },
  {
   "cell_type": "code",
   "execution_count": null,
   "id": "63464704",
   "metadata": {},
   "outputs": [],
   "source": [
    "# ask the user for a number and tell the user if it is positive or negative\n",
    "n_s = input(\"Enter a number: \")\n",
    "n_f = float(n_s)\n",
    "# test if the number is positive\n",
    "if n_f>0:\n",
    "    print(\"the number is positive\")\n",
    "# test if the number is negative\n",
    "if n_f<0:\n",
    "    print(\"the number is negative\")"
   ]
  },
  {
   "cell_type": "code",
   "execution_count": null,
   "id": "ab4d0293",
   "metadata": {},
   "outputs": [],
   "source": [
    "# ask the user for a number and tell the user if it is positive, negative or zero\n",
    "n_s = input(\"Enter a number: \")\n",
    "n_f = float(n_s)\n",
    "# test if the number is positive\n",
    "if n_f>0:\n",
    "    print(\"the number is positive\")\n",
    "# test if the number is negative\n",
    "if n_f<0:\n",
    "    print(\"the number is negative\")\n",
    "# test if the number is zero\n",
    "if n_f==0:\n",
    "    print(\"the number is zero\")"
   ]
  },
  {
   "cell_type": "markdown",
   "id": "650c602d",
   "metadata": {},
   "source": [
    "### Example of a IF ELSE statement\n",
    "\n",
    "IF the condition in IF statement is not satisfied, then code moves to ELSE part"
   ]
  },
  {
   "cell_type": "code",
   "execution_count": null,
   "id": "6bbeb2c1",
   "metadata": {},
   "outputs": [],
   "source": [
    "# ask the user for a number, and tell them if it is zero or if it is not zero\n",
    "n_s = input(\"Enter a number\")\n",
    "n_f = float(n_s)\n",
    "# test if the number is zero\n",
    "if n_f==0:\n",
    "    print(\"the number is zero\")\n",
    "else:\n",
    "    print(\"The number is positive or negative\")\n",
    "if n_f != 0:\n",
    "    print(\"I really know the number is not equal to zero\")\n",
    "print(\"bye\")"
   ]
  },
  {
   "cell_type": "code",
   "execution_count": null,
   "id": "f0a1b0d6",
   "metadata": {},
   "outputs": [],
   "source": [
    "# you can if statements together\n",
    "n_s = input(\"Enter a number\")\n",
    "n_f = float(n_s)\n",
    "if n_f == 0 or n_f>0:\n",
    "    print(\"the number is zero or positive\")\n",
    "    if n_f>0:\n",
    "        print(\"the number is just positive and not zero\")\n",
    "    else:\n",
    "        print(\"the number is just zero (note positive)\")\n",
    "print(\"bye\")"
   ]
  },
  {
   "cell_type": "markdown",
   "id": "1781a902",
   "metadata": {},
   "source": [
    "### Example of a IF ELIF ELSE statement\n",
    "\n",
    "If you have more than one condition to check, you may use ELIF which stands for else if. ELIF can be used multiple times in a conditional structure."
   ]
  },
  {
   "cell_type": "code",
   "execution_count": null,
   "id": "35d630a5",
   "metadata": {},
   "outputs": [],
   "source": [
    "n_s = input(\"Enter a number: \")\n",
    "n_f = float(n_s)\n",
    "# if number is positive print +\n",
    "if n_f>0:\n",
    "    print(\"+\")\n",
    "# else if the number is negative print -\n",
    "elif n_f<0:\n",
    "    print(\"-\")\n",
    "# else if the number isn't positive or negative print 0\n",
    "else:\n",
    "    print(\"0\")"
   ]
  },
  {
   "cell_type": "code",
   "execution_count": null,
   "id": "3384e7e4",
   "metadata": {},
   "outputs": [],
   "source": [
    "# use multiple elif clauses\n",
    "n_s = input(\"Enter a number: \")\n",
    "n_f = float(n_s)\n",
    "if n_f>10:\n",
    "    print(\"greater than 10\")\n",
    "elif n_f>5:\n",
    "    print(\"greater than 5\")\n",
    "elif n_f>0:\n",
    "    print(\"greater than 0\")\n",
    "else:\n",
    "    print(\"zero or negative\")"
   ]
  },
  {
   "cell_type": "code",
   "execution_count": null,
   "id": "1f48d7e5",
   "metadata": {},
   "outputs": [],
   "source": [
    "# what happens if the user doesn't enter a number?\n",
    "n_s = input(\"Enter a number: \")\n",
    "n_f = float(n_s)\n",
    "if n_f>10:\n",
    "    print(\"greater than 10\")\n",
    "elif n_f>5:\n",
    "    print(\"greater than 5\")\n",
    "elif n_f>0:\n",
    "    print(\"greater than 0\")\n",
    "else:\n",
    "    print(\"zero or negative\")"
   ]
  },
  {
   "cell_type": "markdown",
   "id": "1b091add",
   "metadata": {},
   "source": [
    "### TRY ... EXCEPT\n",
    "\n",
    "try and except are used to catch such errors called \"runtime errors\" or exceptions\n",
    "\n",
    "Usually due to User error (here input was not a number, number was expected by code)\n",
    "\n",
    "This is commonly used in input validation to catch user errors as we need 'valid' values\n",
    "\n",
    "Helps avoid GIGO (Garbage In Garbage Out) situation\n",
    "use try before statements that may fail and use except for error messages when failed"
   ]
  },
  {
   "cell_type": "code",
   "execution_count": null,
   "id": "da9cd1a2",
   "metadata": {},
   "outputs": [],
   "source": [
    "# ask the user for a number, tell them it's not a number if they enter a string\n",
    "n_s = input(\"Enter a number (not a string)\")\n",
    "try:\n",
    "    n_f = float(n_s)\n",
    "    if n_f != 0:\n",
    "        print(\"The number is not equal to zero\")\n",
    "except:\n",
    "    print(\"You did not enter a number\")"
   ]
  },
  {
   "cell_type": "code",
   "execution_count": null,
   "id": "479d2795",
   "metadata": {},
   "outputs": [],
   "source": [
    "# try to import a data file, but maybe it doesn't exist\n",
    "\n",
    "import pandas as pd\n",
    "\n",
    "try:\n",
    "    df = pd.read_csv(\"data.csv\")\n",
    "except:\n",
    "    print(\"data.csv is not in the same folder as this Jupyter notebook\")"
   ]
  },
  {
   "cell_type": "markdown",
   "id": "485ab567",
   "metadata": {},
   "source": [
    "### Using Python's ```in``` operator\n",
    "\n",
    " * the operator ```in``` is used to check if a value is present in a list\n",
    " * useful for user input validation, because the user could enter multiple \"correct\" inputs\n",
    " * Works with Pythons"
   ]
  },
  {
   "cell_type": "code",
   "execution_count": null,
   "id": "577cfb78",
   "metadata": {},
   "outputs": [],
   "source": [
    "x = '1'\n",
    "lst = [1,2,3,'1']\n",
    "if x in lst:\n",
    "    print(\"The number was 1, 2 or 3\")\n",
    "else:\n",
    "    print(\"The number is not 1,2 or 3\")"
   ]
  },
  {
   "cell_type": "code",
   "execution_count": null,
   "id": "3b46c4e3",
   "metadata": {},
   "outputs": [],
   "source": [
    "f = \"cantelope\"\n",
    "fruits = [\"apple\",\"orange\",\"grapes\"]\n",
    "if f in fruits:\n",
    "    print(\"in the fruit list\")\n",
    "else:\n",
    "    print(\"not in the list\")"
   ]
  },
  {
   "cell_type": "code",
   "execution_count": null,
   "id": "1a1e044f",
   "metadata": {},
   "outputs": [],
   "source": [
    "s = input(\"Yes or No\")\n",
    "nos = [\"no\",\"No\",\"NO\",\"n\",\"N\"]\n",
    "yeses = [\"yes\",\"YES\",\"y\",\"Y\"]\n",
    "if s in nos:\n",
    "    print(\"You said no\")\n",
    "elif s in yeses:\n",
    "    print(\"You said yes\")\n",
    "else:\n",
    "    print(\"You didn't say yes or no\")"
   ]
  },
  {
   "cell_type": "markdown",
   "id": "f87c3638",
   "metadata": {},
   "source": [
    "### Practical application of if - else- elif in weather example (Lab 5)"
   ]
  },
  {
   "cell_type": "code",
   "execution_count": null,
   "id": "47b150b5",
   "metadata": {},
   "outputs": [],
   "source": [
    "import pandas as pd"
   ]
  },
  {
   "cell_type": "code",
   "execution_count": null,
   "id": "881ec3a8",
   "metadata": {},
   "outputs": [],
   "source": [
    "# url: https://api.thingspeak.com/channels/12397/fields/4.csv?results=5\n",
    "# 3 -> Humid\n",
    "# 4 -> Temp\n",
    "# 5 -> Rain\n",
    "# 6 --> pressure\n",
    "temps = [\"temp\",\"temperature\",\"t\"]\n",
    "w = input('Which weather type? humid, temp, rain, pressure: ')\n",
    "if w == \"humid\":\n",
    "    num = \"3\"\n",
    "elif w in temps:\n",
    "    num = \"4\"\n",
    "elif w == \"rain\":\n",
    "    num = \"5\"\n",
    "else:\n",
    "    num = \"6\"\n",
    "    \n",
    "url1 = 'https://api.thingspeak.com/channels/12397/fields/'\n",
    "url2 = num\n",
    "url3 = '.csv?results=5'\n",
    "url = url1 + url2 + url3\n",
    "print(url)\n",
    "df = pd.read_csv(url)\n",
    "df"
   ]
  },
  {
   "cell_type": "markdown",
   "id": "7777459c",
   "metadata": {},
   "source": [
    "### Using IF elif else and plotting"
   ]
  },
  {
   "cell_type": "code",
   "execution_count": null,
   "id": "75ae5afb",
   "metadata": {},
   "outputs": [],
   "source": [
    "# ask the user for a plot with grid lines or not"
   ]
  },
  {
   "cell_type": "code",
   "execution_count": null,
   "id": "2453bca1",
   "metadata": {},
   "outputs": [],
   "source": [
    "import matplotlib.pyplot as plt"
   ]
  },
  {
   "cell_type": "code",
   "execution_count": null,
   "id": "5ce7d481",
   "metadata": {},
   "outputs": [],
   "source": [
    "s = input(\"do you want grid lines? \")\n",
    "yeses = ['y','Y','yes','YES','Yes']\n",
    "\n",
    "data = [1,4,5,7,8]\n",
    "\n",
    "plt.plot(data)\n",
    "\n",
    "if s in yeses:\n",
    "    plt.grid(True)\n",
    "else:\n",
    "    plt.grid(False)\n",
    "\n",
    "\n",
    "plt.show()"
   ]
  },
  {
   "cell_type": "code",
   "execution_count": null,
   "id": "afb811e9",
   "metadata": {},
   "outputs": [],
   "source": [
    "s = input(\"do you want grid lines? \")\n",
    "#yeses = ['y','Y','yes','YES','Yes']\n",
    "#print(s.lower()[0])\n",
    "\n",
    "data = [1,4,5,7,8]\n",
    "\n",
    "plt.plot(data)\n",
    "\n",
    "if s.lower()[0]=='y':\n",
    "    plt.grid(True)\n",
    "else:\n",
    "    plt.grid(False)\n",
    "\n",
    "\n",
    "plt.show()"
   ]
  },
  {
   "cell_type": "markdown",
   "id": "b0f37b5a",
   "metadata": {},
   "source": [
    "### Reminder about Python f-strings"
   ]
  },
  {
   "cell_type": "code",
   "execution_count": null,
   "id": "8810fe0a",
   "metadata": {},
   "outputs": [],
   "source": [
    "url1 = 'https://api.thingspeak.com/channels/12397/fields/'\n",
    "url2 = '4'\n",
    "url3 = '.csv?results=5'\n",
    "#url = url1 + url2 + url3\n",
    "# create an f-string instead\n",
    "url = f\"{url1}{url2}{url3}\"\n",
    "print(url)"
   ]
  },
  {
   "cell_type": "markdown",
   "id": "4e8a3664",
   "metadata": {},
   "source": [
    "### Function keyword arguments inputs from a dictionary"
   ]
  },
  {
   "cell_type": "code",
   "execution_count": null,
   "id": "df859342",
   "metadata": {},
   "outputs": [],
   "source": [
    "# python's complex() function can accept keyword arguments\n",
    "complex(2,5)"
   ]
  },
  {
   "cell_type": "code",
   "execution_count": null,
   "id": "62ba772a",
   "metadata": {},
   "outputs": [],
   "source": [
    "complex(real=2,imag=5)"
   ]
  },
  {
   "cell_type": "code",
   "execution_count": null,
   "id": "38a466f5",
   "metadata": {},
   "outputs": [],
   "source": [
    "complex(imag=5,real=2)"
   ]
  },
  {
   "cell_type": "code",
   "execution_count": null,
   "id": "5b4f81bc",
   "metadata": {},
   "outputs": [],
   "source": [
    "d = {'imag':5,'real':2}\n",
    "complex(**d)  # dictionary unpacked as keyword arguments"
   ]
  },
  {
   "cell_type": "code",
   "execution_count": null,
   "id": "5c35f186",
   "metadata": {},
   "outputs": [],
   "source": [
    "l = [2,5]\n",
    "complex(*l)  # list unpacked as positional arguments"
   ]
  },
  {
   "cell_type": "code",
   "execution_count": null,
   "id": "4d0d7231",
   "metadata": {},
   "outputs": [],
   "source": [
    "d = {\"imag\":5}\n",
    "complex(2,**d)"
   ]
  },
  {
   "cell_type": "code",
   "execution_count": null,
   "id": "3839fcde",
   "metadata": {},
   "outputs": [],
   "source": [
    "# define a function in another file with keyword arguments\n",
    "%ls"
   ]
  },
  {
   "cell_type": "code",
   "execution_count": 1,
   "id": "ef391edb",
   "metadata": {},
   "outputs": [],
   "source": [
    "from myfuncs import r_area"
   ]
  },
  {
   "cell_type": "code",
   "execution_count": 4,
   "id": "08497630",
   "metadata": {},
   "outputs": [
    {
     "name": "stdout",
     "output_type": "stream",
     "text": [
      "Enter the base: 3\n",
      "Enter the height: 4\n",
      "The area of the rectangle is 12.0\n"
     ]
    }
   ],
   "source": [
    "# ask user for input and then feed it into the function\n",
    "b = float(input(\"Enter the base: \"))\n",
    "h = float(input(\"Enter the height: \"))\n",
    "d = {\"base\":b,\"height\":h}\n",
    "a = r_area(**d)\n",
    "print(f\"The area of the rectangle is {a}\")"
   ]
  },
  {
   "cell_type": "code",
   "execution_count": 6,
   "id": "cbbfbc83",
   "metadata": {},
   "outputs": [
    {
     "data": {
      "text/plain": [
       "1"
      ]
     },
     "execution_count": 6,
     "metadata": {},
     "output_type": "execute_result"
    }
   ],
   "source": [
    "r_area()"
   ]
  },
  {
   "cell_type": "code",
   "execution_count": 7,
   "id": "f7ea4059",
   "metadata": {},
   "outputs": [
    {
     "data": {
      "text/plain": [
       "4"
      ]
     },
     "execution_count": 7,
     "metadata": {},
     "output_type": "execute_result"
    }
   ],
   "source": [
    "r_area(4)"
   ]
  },
  {
   "cell_type": "code",
   "execution_count": null,
   "id": "7d0d9539",
   "metadata": {},
   "outputs": [],
   "source": []
  }
 ],
 "metadata": {
  "kernelspec": {
   "display_name": "Python 3 (ipykernel)",
   "language": "python",
   "name": "python3"
  },
  "language_info": {
   "codemirror_mode": {
    "name": "ipython",
    "version": 3
   },
   "file_extension": ".py",
   "mimetype": "text/x-python",
   "name": "python",
   "nbconvert_exporter": "python",
   "pygments_lexer": "ipython3",
   "version": "3.9.7"
  }
 },
 "nbformat": 4,
 "nbformat_minor": 5
}
