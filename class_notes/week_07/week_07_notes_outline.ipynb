{
 "cells": [
  {
   "cell_type": "markdown",
   "id": "aad76242",
   "metadata": {},
   "source": [
    "# Week 7 Notes"
   ]
  },
  {
   "cell_type": "markdown",
   "id": "9779ad76",
   "metadata": {},
   "source": [
    "## Conditional structure - Selection\n",
    "\n",
    "IF ELSE ELIF statements, TRY ... EXCEPT, in operator and printf¶\n",
    "\n",
    "### Example of a simple IF statement"
   ]
  },
  {
   "cell_type": "code",
   "execution_count": null,
   "id": "5ab83bbc",
   "metadata": {},
   "outputs": [],
   "source": []
  },
  {
   "cell_type": "markdown",
   "id": "8fb7e960",
   "metadata": {},
   "source": [
    "### Example of a IF ELSE statement\n",
    "\n",
    "IF the condition in IF statement is not satisfied, then code moves to ELSE part"
   ]
  },
  {
   "cell_type": "code",
   "execution_count": null,
   "id": "1b333720",
   "metadata": {},
   "outputs": [],
   "source": []
  },
  {
   "cell_type": "markdown",
   "id": "585d8946",
   "metadata": {},
   "source": [
    "### Example of a IF ELIF ELSE statement\n",
    "\n",
    "If you have more than one condition to check, you may use ELIF which stands for else if. ELIF can be used multiple times in a conditional structure."
   ]
  },
  {
   "cell_type": "code",
   "execution_count": null,
   "id": "41ca1217",
   "metadata": {},
   "outputs": [],
   "source": []
  },
  {
   "cell_type": "markdown",
   "id": "0690eb64",
   "metadata": {},
   "source": [
    "### TRY ... EXCEPT\n",
    "\n",
    "try and except are used to catch such errors called \"runtime errors\" or exceptions\n",
    "\n",
    "Usually due to User error (here input was not a number, number was expected by code)\n",
    "\n",
    "This is commonly used in input validation to catch user errors as we need 'valid' values\n",
    "\n",
    "Helps avoid GIGO (Garbage In Garbage Out) situation\n",
    "use try before statements that may fail and use except for error messages when failed"
   ]
  },
  {
   "cell_type": "code",
   "execution_count": null,
   "id": "12faa3cc",
   "metadata": {},
   "outputs": [],
   "source": []
  },
  {
   "cell_type": "markdown",
   "id": "06d32c99",
   "metadata": {},
   "source": [
    "### Practical application of if - else- elif in weather example (Lab 5)"
   ]
  },
  {
   "cell_type": "code",
   "execution_count": null,
   "id": "16726180",
   "metadata": {},
   "outputs": [],
   "source": []
  },
  {
   "cell_type": "markdown",
   "id": "a4d3eef1",
   "metadata": {},
   "source": [
    "### Using IF elif else and plotting"
   ]
  },
  {
   "cell_type": "code",
   "execution_count": null,
   "id": "faf7793f",
   "metadata": {},
   "outputs": [],
   "source": []
  },
  {
   "cell_type": "markdown",
   "id": "15949f94",
   "metadata": {},
   "source": [
    "### Reminder about Python f-strings"
   ]
  },
  {
   "cell_type": "code",
   "execution_count": null,
   "id": "00a1a65a",
   "metadata": {},
   "outputs": [],
   "source": []
  },
  {
   "cell_type": "markdown",
   "id": "6616fd7b",
   "metadata": {},
   "source": [
    "### Function keyword arguments inputs from a dictionary"
   ]
  },
  {
   "cell_type": "code",
   "execution_count": null,
   "id": "36ee7e26",
   "metadata": {},
   "outputs": [],
   "source": []
  }
 ],
 "metadata": {
  "kernelspec": {
   "display_name": "Python 3 (ipykernel)",
   "language": "python",
   "name": "python3"
  },
  "language_info": {
   "codemirror_mode": {
    "name": "ipython",
    "version": 3
   },
   "file_extension": ".py",
   "mimetype": "text/x-python",
   "name": "python",
   "nbconvert_exporter": "python",
   "pygments_lexer": "ipython3",
   "version": "3.9.7"
  }
 },
 "nbformat": 4,
 "nbformat_minor": 5
}
