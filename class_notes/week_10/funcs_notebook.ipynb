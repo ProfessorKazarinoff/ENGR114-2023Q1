{
 "cells": [
  {
   "cell_type": "code",
   "execution_count": 3,
   "id": "9f3a22f8",
   "metadata": {},
   "outputs": [],
   "source": [
    "\"\"\"\n",
    "A notebook that contains two functions. The first function cubes a number. The second function finds the last character in a string\n",
    "\"\"\"\n",
    "\n",
    "def cube_n(x=1):\n",
    "    y = x**3\n",
    "    return y\n",
    "\n",
    "def last_chr(s):\n",
    "    sl = s[-1]\n",
    "    return sl\n"
   ]
  },
  {
   "cell_type": "code",
   "execution_count": 4,
   "id": "1abb437d",
   "metadata": {},
   "outputs": [
    {
     "data": {
      "text/plain": [
       "512"
      ]
     },
     "execution_count": 4,
     "metadata": {},
     "output_type": "execute_result"
    }
   ],
   "source": [
    "cube_n(8)"
   ]
  },
  {
   "cell_type": "code",
   "execution_count": null,
   "id": "f5df757e",
   "metadata": {},
   "outputs": [],
   "source": []
  }
 ],
 "metadata": {
  "kernelspec": {
   "display_name": "Python 3 (ipykernel)",
   "language": "python",
   "name": "python3"
  },
  "language_info": {
   "codemirror_mode": {
    "name": "ipython",
    "version": 3
   },
   "file_extension": ".py",
   "mimetype": "text/x-python",
   "name": "python",
   "nbconvert_exporter": "python",
   "pygments_lexer": "ipython3",
   "version": "3.9.7"
  }
 },
 "nbformat": 4,
 "nbformat_minor": 5
}
